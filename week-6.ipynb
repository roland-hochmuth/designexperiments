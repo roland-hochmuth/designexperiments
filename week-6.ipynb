{
 "cells": [
  {
   "cell_type": "code",
   "execution_count": 100,
   "metadata": {},
   "outputs": [],
   "source": [
    "import rpy2.robjects as robjects\n",
    "import rpy2.robjects.packages as rpackages\n",
    "from rpy2.robjects.vectors import StrVector\n",
    "from rpy2.robjects import pandas2ri\n",
    "import pandas as pd\n",
    "import scipy as sp\n",
    "from scipy import stats\n",
    "import statsmodels.sandbox.stats.multicomp as mc\n",
    "\n",
    "%matplotlib inline\n",
    "pandas2ri.activate()\n",
    "\n",
    "r = robjects.r"
   ]
  },
  {
   "cell_type": "code",
   "execution_count": 2,
   "metadata": {
    "collapsed": true
   },
   "outputs": [],
   "source": [
    "packageNames = ('afex', 'lsmeans', 'ez')\n",
    " \n",
    "if all(rpackages.isinstalled(x) for x in packageNames):\n",
    " \n",
    "    have_packages = True\n",
    " \n",
    "else:\n",
    " \n",
    "   have_packages = False\n",
    " \n",
    "if not have_packages:\n",
    " \n",
    "    utils = rpackages.importr('utils')\n",
    "    utils.chooseCRANmirror(ind=1)\n",
    " \n",
    "    packnames_to_install = [x for x in packageNames if not rpackages.isinstalled(x)]\n",
    " \n",
    "    if len(packnames_to_install) > 0:\n",
    " \n",
    "        utils.install_packages(StrVector(packnames_to_install))"
   ]
  },
  {
   "cell_type": "code",
   "execution_count": 3,
   "metadata": {
    "collapsed": true
   },
   "outputs": [],
   "source": [
    "df = pd.read_csv(\"websearch2.csv\")"
   ]
  },
  {
   "cell_type": "code",
   "execution_count": 4,
   "metadata": {},
   "outputs": [
    {
     "data": {
      "text/html": [
       "<div>\n",
       "<style>\n",
       "    .dataframe thead tr:only-child th {\n",
       "        text-align: right;\n",
       "    }\n",
       "\n",
       "    .dataframe thead th {\n",
       "        text-align: left;\n",
       "    }\n",
       "\n",
       "    .dataframe tbody tr th {\n",
       "        vertical-align: top;\n",
       "    }\n",
       "</style>\n",
       "<table border=\"1\" class=\"dataframe\">\n",
       "  <thead>\n",
       "    <tr style=\"text-align: right;\">\n",
       "      <th></th>\n",
       "      <th>Subject</th>\n",
       "      <th>Engine</th>\n",
       "      <th>Order</th>\n",
       "      <th>Searches</th>\n",
       "      <th>Effort</th>\n",
       "    </tr>\n",
       "  </thead>\n",
       "  <tbody>\n",
       "    <tr>\n",
       "      <th>55</th>\n",
       "      <td>28</td>\n",
       "      <td>Bing</td>\n",
       "      <td>1</td>\n",
       "      <td>192</td>\n",
       "      <td>4</td>\n",
       "    </tr>\n",
       "    <tr>\n",
       "      <th>56</th>\n",
       "      <td>29</td>\n",
       "      <td>Google</td>\n",
       "      <td>1</td>\n",
       "      <td>162</td>\n",
       "      <td>5</td>\n",
       "    </tr>\n",
       "    <tr>\n",
       "      <th>57</th>\n",
       "      <td>29</td>\n",
       "      <td>Bing</td>\n",
       "      <td>2</td>\n",
       "      <td>163</td>\n",
       "      <td>3</td>\n",
       "    </tr>\n",
       "    <tr>\n",
       "      <th>58</th>\n",
       "      <td>30</td>\n",
       "      <td>Google</td>\n",
       "      <td>2</td>\n",
       "      <td>146</td>\n",
       "      <td>5</td>\n",
       "    </tr>\n",
       "    <tr>\n",
       "      <th>59</th>\n",
       "      <td>30</td>\n",
       "      <td>Bing</td>\n",
       "      <td>1</td>\n",
       "      <td>137</td>\n",
       "      <td>2</td>\n",
       "    </tr>\n",
       "  </tbody>\n",
       "</table>\n",
       "</div>"
      ],
      "text/plain": [
       "    Subject  Engine  Order  Searches  Effort\n",
       "55       28    Bing      1       192       4\n",
       "56       29  Google      1       162       5\n",
       "57       29    Bing      2       163       3\n",
       "58       30  Google      2       146       5\n",
       "59       30    Bing      1       137       2"
      ]
     },
     "execution_count": 4,
     "metadata": {},
     "output_type": "execute_result"
    }
   ],
   "source": [
    "df.tail(5)"
   ]
  },
  {
   "cell_type": "code",
   "execution_count": 5,
   "metadata": {},
   "outputs": [
    {
     "data": {
      "text/html": [
       "<div>\n",
       "<style>\n",
       "    .dataframe thead tr:only-child th {\n",
       "        text-align: right;\n",
       "    }\n",
       "\n",
       "    .dataframe thead th {\n",
       "        text-align: left;\n",
       "    }\n",
       "\n",
       "    .dataframe tbody tr th {\n",
       "        vertical-align: top;\n",
       "    }\n",
       "</style>\n",
       "<table border=\"1\" class=\"dataframe\">\n",
       "  <thead>\n",
       "    <tr>\n",
       "      <th></th>\n",
       "      <th colspan=\"8\" halign=\"left\">Effort</th>\n",
       "      <th colspan=\"2\" halign=\"left\">Order</th>\n",
       "      <th>...</th>\n",
       "      <th colspan=\"2\" halign=\"left\">Searches</th>\n",
       "      <th colspan=\"8\" halign=\"left\">Subject</th>\n",
       "    </tr>\n",
       "    <tr>\n",
       "      <th></th>\n",
       "      <th>count</th>\n",
       "      <th>mean</th>\n",
       "      <th>std</th>\n",
       "      <th>min</th>\n",
       "      <th>25%</th>\n",
       "      <th>50%</th>\n",
       "      <th>75%</th>\n",
       "      <th>max</th>\n",
       "      <th>count</th>\n",
       "      <th>mean</th>\n",
       "      <th>...</th>\n",
       "      <th>75%</th>\n",
       "      <th>max</th>\n",
       "      <th>count</th>\n",
       "      <th>mean</th>\n",
       "      <th>std</th>\n",
       "      <th>min</th>\n",
       "      <th>25%</th>\n",
       "      <th>50%</th>\n",
       "      <th>75%</th>\n",
       "      <th>max</th>\n",
       "    </tr>\n",
       "    <tr>\n",
       "      <th>Engine</th>\n",
       "      <th></th>\n",
       "      <th></th>\n",
       "      <th></th>\n",
       "      <th></th>\n",
       "      <th></th>\n",
       "      <th></th>\n",
       "      <th></th>\n",
       "      <th></th>\n",
       "      <th></th>\n",
       "      <th></th>\n",
       "      <th></th>\n",
       "      <th></th>\n",
       "      <th></th>\n",
       "      <th></th>\n",
       "      <th></th>\n",
       "      <th></th>\n",
       "      <th></th>\n",
       "      <th></th>\n",
       "      <th></th>\n",
       "      <th></th>\n",
       "      <th></th>\n",
       "    </tr>\n",
       "  </thead>\n",
       "  <tbody>\n",
       "    <tr>\n",
       "      <th>Bing</th>\n",
       "      <td>30.0</td>\n",
       "      <td>4.066667</td>\n",
       "      <td>1.760355</td>\n",
       "      <td>1.0</td>\n",
       "      <td>2.0</td>\n",
       "      <td>4.0</td>\n",
       "      <td>6.0</td>\n",
       "      <td>7.0</td>\n",
       "      <td>30.0</td>\n",
       "      <td>1.5</td>\n",
       "      <td>...</td>\n",
       "      <td>184.75</td>\n",
       "      <td>241.0</td>\n",
       "      <td>30.0</td>\n",
       "      <td>15.5</td>\n",
       "      <td>8.803408</td>\n",
       "      <td>1.0</td>\n",
       "      <td>8.25</td>\n",
       "      <td>15.5</td>\n",
       "      <td>22.75</td>\n",
       "      <td>30.0</td>\n",
       "    </tr>\n",
       "    <tr>\n",
       "      <th>Google</th>\n",
       "      <td>30.0</td>\n",
       "      <td>3.733333</td>\n",
       "      <td>1.740657</td>\n",
       "      <td>1.0</td>\n",
       "      <td>2.0</td>\n",
       "      <td>4.0</td>\n",
       "      <td>5.0</td>\n",
       "      <td>7.0</td>\n",
       "      <td>30.0</td>\n",
       "      <td>1.5</td>\n",
       "      <td>...</td>\n",
       "      <td>161.75</td>\n",
       "      <td>198.0</td>\n",
       "      <td>30.0</td>\n",
       "      <td>15.5</td>\n",
       "      <td>8.803408</td>\n",
       "      <td>1.0</td>\n",
       "      <td>8.25</td>\n",
       "      <td>15.5</td>\n",
       "      <td>22.75</td>\n",
       "      <td>30.0</td>\n",
       "    </tr>\n",
       "  </tbody>\n",
       "</table>\n",
       "<p>2 rows × 32 columns</p>\n",
       "</div>"
      ],
      "text/plain": [
       "       Effort                                              Order       ...   \\\n",
       "        count      mean       std  min  25%  50%  75%  max count mean  ...    \n",
       "Engine                                                                 ...    \n",
       "Bing     30.0  4.066667  1.760355  1.0  2.0  4.0  6.0  7.0  30.0  1.5  ...    \n",
       "Google   30.0  3.733333  1.740657  1.0  2.0  4.0  5.0  7.0  30.0  1.5  ...    \n",
       "\n",
       "       Searches        Subject                                                \n",
       "            75%    max   count  mean       std  min   25%   50%    75%   max  \n",
       "Engine                                                                        \n",
       "Bing     184.75  241.0    30.0  15.5  8.803408  1.0  8.25  15.5  22.75  30.0  \n",
       "Google   161.75  198.0    30.0  15.5  8.803408  1.0  8.25  15.5  22.75  30.0  \n",
       "\n",
       "[2 rows x 32 columns]"
      ]
     },
     "execution_count": 5,
     "metadata": {},
     "output_type": "execute_result"
    }
   ],
   "source": [
    "df.groupby(['Engine']).describe()"
   ]
  },
  {
   "cell_type": "markdown",
   "metadata": {},
   "source": [
    "Determine how many subjects took part in this experiment?"
   ]
  },
  {
   "cell_type": "code",
   "execution_count": 6,
   "metadata": {},
   "outputs": [
    {
     "data": {
      "text/plain": [
       "30"
      ]
     },
     "execution_count": 6,
     "metadata": {},
     "output_type": "execute_result"
    }
   ],
   "source": [
    "df.Subject.nunique()"
   ]
  },
  {
   "cell_type": "markdown",
   "metadata": {},
   "source": [
    "Determine the average number of searches required for the search engine that had the greatest average overall?"
   ]
  },
  {
   "cell_type": "code",
   "execution_count": 7,
   "metadata": {},
   "outputs": [
    {
     "data": {
      "text/plain": [
       "'Bing'"
      ]
     },
     "execution_count": 7,
     "metadata": {},
     "output_type": "execute_result"
    }
   ],
   "source": [
    "df.groupby(['Engine']).Searches.mean().idxmax()"
   ]
  },
  {
   "cell_type": "markdown",
   "metadata": {},
   "source": [
    "Display a histogram for each search engine."
   ]
  },
  {
   "cell_type": "code",
   "execution_count": 8,
   "metadata": {},
   "outputs": [
    {
     "data": {
      "text/plain": [
       "array([<matplotlib.axes._subplots.AxesSubplot object at 0x116d17290>,\n",
       "       <matplotlib.axes._subplots.AxesSubplot object at 0x116e09610>], dtype=object)"
      ]
     },
     "execution_count": 8,
     "metadata": {},
     "output_type": "execute_result"
    },
    {
     "data": {
      "image/png": "[encoded data removed]",
      "text/plain": [
       "<matplotlib.figure.Figure at 0x10fab1590>"
      ]
     },
     "metadata": {},
     "output_type": "display_data"
    }
   ],
   "source": [
    "df.hist(column='Searches', by='Engine', alpha=0.5)"
   ]
  },
  {
   "cell_type": "markdown",
   "metadata": {},
   "source": [
    "Display a box plot for searches by search engine."
   ]
  },
  {
   "cell_type": "code",
   "execution_count": 9,
   "metadata": {},
   "outputs": [
    {
     "data": {
      "text/plain": [
       "<matplotlib.axes._subplots.AxesSubplot at 0x116cee910>"
      ]
     },
     "execution_count": 9,
     "metadata": {},
     "output_type": "execute_result"
    },
    {
     "data": {
      "image/png": "[encoded data removed]",
      "text/plain": [
       "<matplotlib.figure.Figure at 0x116e5ea10>"
      ]
     },
     "metadata": {},
     "output_type": "display_data"
    }
   ],
   "source": [
    "df.boxplot(column='Searches', by='Engine')"
   ]
  },
  {
   "cell_type": "markdown",
   "metadata": {},
   "source": [
    "Test for normality using Shapiro-Wilk.\n",
    "\n",
    "https://docs.scipy.org/doc/scipy-0.19.1/reference/generated/scipy.stats.shapiro.html"
   ]
  },
  {
   "cell_type": "code",
   "execution_count": 10,
   "metadata": {},
   "outputs": [
    {
     "data": {
      "text/plain": [
       "Engine\n",
       "Bing      (0.983305990696, 0.904959201813)\n",
       "Google    (0.970467865467, 0.552055418491)\n",
       "Name: Searches, dtype: object"
      ]
     },
     "execution_count": 10,
     "metadata": {},
     "output_type": "execute_result"
    }
   ],
   "source": [
    "df.sort_values('Subject').groupby(['Engine']).Searches.apply(lambda x : stats.shapiro(x))"
   ]
  },
  {
   "cell_type": "markdown",
   "metadata": {},
   "source": [
    "Test for homoscedasticity using Levene"
   ]
  },
  {
   "cell_type": "code",
   "execution_count": 11,
   "metadata": {},
   "outputs": [
    {
     "data": {
      "text/plain": [
       "LeveneResult(statistic=1.1082233526291065, pvalue=0.29683458221224279)"
      ]
     },
     "execution_count": 11,
     "metadata": {},
     "output_type": "execute_result"
    }
   ],
   "source": [
    "groups = df.sort_values('Subject').groupby(['Engine'])\n",
    "stats.levene(*[groups.get_group(x).Searches for x in groups.groups], center='median')"
   ]
  },
  {
   "cell_type": "markdown",
   "metadata": {},
   "source": [
    "Conduct and order effect test on Searches using a paired-samples t-test assuming equal variances. See, https://docs.scipy.org/doc/scipy-0.19.0/reference/generated/scipy.stats.ttest_rel.html"
   ]
  },
  {
   "cell_type": "code",
   "execution_count": 12,
   "metadata": {},
   "outputs": [
    {
     "data": {
      "text/plain": [
       "Ttest_relResult(statistic=2.5020772424994786, pvalue=0.018237582098993173)"
      ]
     },
     "execution_count": 12,
     "metadata": {},
     "output_type": "execute_result"
    }
   ],
   "source": [
    "stats.ttest_rel(*[groups.get_group(x).Searches for x in groups.groups])"
   ]
  },
  {
   "cell_type": "markdown",
   "metadata": {},
   "source": [
    "Conduct a nonparametric Wilcoxon signed-rank test on the Effort Likert-type ratings. "
   ]
  },
  {
   "cell_type": "code",
   "execution_count": 13,
   "metadata": {},
   "outputs": [
    {
     "name": "stdout",
     "output_type": "stream",
     "text": [
      "p-value: 0.522120930621\n"
     ]
    }
   ],
   "source": [
    "(T, p) = stats.wilcoxon(*[groups.get_group(x).Effort for x in groups.groups])\n",
    "print('p-value: %s' % p)"
   ]
  },
  {
   "cell_type": "markdown",
   "metadata": {},
   "source": [
    "Read websearch3.csv."
   ]
  },
  {
   "cell_type": "code",
   "execution_count": 14,
   "metadata": {
    "collapsed": true
   },
   "outputs": [],
   "source": [
    "df = pd.read_csv(\"websearch3.csv\")\n",
    "df.Searches = df.Searches.astype(int)\n",
    "df.Engine = df.Engine.astype('category')\n",
    "df.Effort = df.Effort.astype('category')"
   ]
  },
  {
   "cell_type": "code",
   "execution_count": 15,
   "metadata": {},
   "outputs": [
    {
     "data": {
      "text/html": [
       "<div>\n",
       "<style>\n",
       "    .dataframe thead tr:only-child th {\n",
       "        text-align: right;\n",
       "    }\n",
       "\n",
       "    .dataframe thead th {\n",
       "        text-align: left;\n",
       "    }\n",
       "\n",
       "    .dataframe tbody tr th {\n",
       "        vertical-align: top;\n",
       "    }\n",
       "</style>\n",
       "<table border=\"1\" class=\"dataframe\">\n",
       "  <thead>\n",
       "    <tr style=\"text-align: right;\">\n",
       "      <th></th>\n",
       "      <th>Subject</th>\n",
       "      <th>Engine</th>\n",
       "      <th>Order</th>\n",
       "      <th>Searches</th>\n",
       "      <th>Effort</th>\n",
       "    </tr>\n",
       "  </thead>\n",
       "  <tbody>\n",
       "    <tr>\n",
       "      <th>85</th>\n",
       "      <td>29</td>\n",
       "      <td>Bing</td>\n",
       "      <td>1</td>\n",
       "      <td>195</td>\n",
       "      <td>4</td>\n",
       "    </tr>\n",
       "    <tr>\n",
       "      <th>86</th>\n",
       "      <td>29</td>\n",
       "      <td>Yahoo</td>\n",
       "      <td>2</td>\n",
       "      <td>182</td>\n",
       "      <td>5</td>\n",
       "    </tr>\n",
       "    <tr>\n",
       "      <th>87</th>\n",
       "      <td>30</td>\n",
       "      <td>Google</td>\n",
       "      <td>3</td>\n",
       "      <td>152</td>\n",
       "      <td>1</td>\n",
       "    </tr>\n",
       "    <tr>\n",
       "      <th>88</th>\n",
       "      <td>30</td>\n",
       "      <td>Bing</td>\n",
       "      <td>2</td>\n",
       "      <td>188</td>\n",
       "      <td>7</td>\n",
       "    </tr>\n",
       "    <tr>\n",
       "      <th>89</th>\n",
       "      <td>30</td>\n",
       "      <td>Yahoo</td>\n",
       "      <td>1</td>\n",
       "      <td>131</td>\n",
       "      <td>3</td>\n",
       "    </tr>\n",
       "  </tbody>\n",
       "</table>\n",
       "</div>"
      ],
      "text/plain": [
       "    Subject  Engine  Order  Searches Effort\n",
       "85       29    Bing      1       195      4\n",
       "86       29   Yahoo      2       182      5\n",
       "87       30  Google      3       152      1\n",
       "88       30    Bing      2       188      7\n",
       "89       30   Yahoo      1       131      3"
      ]
     },
     "execution_count": 15,
     "metadata": {},
     "output_type": "execute_result"
    }
   ],
   "source": [
    "df.tail(5)"
   ]
  },
  {
   "cell_type": "code",
   "execution_count": 16,
   "metadata": {},
   "outputs": [
    {
     "data": {
      "text/html": [
       "<div>\n",
       "<style>\n",
       "    .dataframe thead tr:only-child th {\n",
       "        text-align: right;\n",
       "    }\n",
       "\n",
       "    .dataframe thead th {\n",
       "        text-align: left;\n",
       "    }\n",
       "\n",
       "    .dataframe tbody tr th {\n",
       "        vertical-align: top;\n",
       "    }\n",
       "</style>\n",
       "<table border=\"1\" class=\"dataframe\">\n",
       "  <thead>\n",
       "    <tr>\n",
       "      <th></th>\n",
       "      <th colspan=\"8\" halign=\"left\">Order</th>\n",
       "      <th colspan=\"5\" halign=\"left\">Searches</th>\n",
       "      <th colspan=\"8\" halign=\"left\">Subject</th>\n",
       "    </tr>\n",
       "    <tr>\n",
       "      <th></th>\n",
       "      <th>count</th>\n",
       "      <th>mean</th>\n",
       "      <th>std</th>\n",
       "      <th>min</th>\n",
       "      <th>25%</th>\n",
       "      <th>50%</th>\n",
       "      <th>75%</th>\n",
       "      <th>max</th>\n",
       "      <th>count</th>\n",
       "      <th>mean</th>\n",
       "      <th>...</th>\n",
       "      <th>75%</th>\n",
       "      <th>max</th>\n",
       "      <th>count</th>\n",
       "      <th>mean</th>\n",
       "      <th>std</th>\n",
       "      <th>min</th>\n",
       "      <th>25%</th>\n",
       "      <th>50%</th>\n",
       "      <th>75%</th>\n",
       "      <th>max</th>\n",
       "    </tr>\n",
       "    <tr>\n",
       "      <th>Engine</th>\n",
       "      <th></th>\n",
       "      <th></th>\n",
       "      <th></th>\n",
       "      <th></th>\n",
       "      <th></th>\n",
       "      <th></th>\n",
       "      <th></th>\n",
       "      <th></th>\n",
       "      <th></th>\n",
       "      <th></th>\n",
       "      <th></th>\n",
       "      <th></th>\n",
       "      <th></th>\n",
       "      <th></th>\n",
       "      <th></th>\n",
       "      <th></th>\n",
       "      <th></th>\n",
       "      <th></th>\n",
       "      <th></th>\n",
       "      <th></th>\n",
       "      <th></th>\n",
       "    </tr>\n",
       "  </thead>\n",
       "  <tbody>\n",
       "    <tr>\n",
       "      <th>Bing</th>\n",
       "      <td>30.0</td>\n",
       "      <td>2.0</td>\n",
       "      <td>0.830455</td>\n",
       "      <td>1.0</td>\n",
       "      <td>1.0</td>\n",
       "      <td>2.0</td>\n",
       "      <td>3.0</td>\n",
       "      <td>3.0</td>\n",
       "      <td>30.0</td>\n",
       "      <td>159.833333</td>\n",
       "      <td>...</td>\n",
       "      <td>180.75</td>\n",
       "      <td>214.0</td>\n",
       "      <td>30.0</td>\n",
       "      <td>15.5</td>\n",
       "      <td>8.803408</td>\n",
       "      <td>1.0</td>\n",
       "      <td>8.25</td>\n",
       "      <td>15.5</td>\n",
       "      <td>22.75</td>\n",
       "      <td>30.0</td>\n",
       "    </tr>\n",
       "    <tr>\n",
       "      <th>Google</th>\n",
       "      <td>30.0</td>\n",
       "      <td>2.0</td>\n",
       "      <td>0.830455</td>\n",
       "      <td>1.0</td>\n",
       "      <td>1.0</td>\n",
       "      <td>2.0</td>\n",
       "      <td>3.0</td>\n",
       "      <td>3.0</td>\n",
       "      <td>30.0</td>\n",
       "      <td>152.666667</td>\n",
       "      <td>...</td>\n",
       "      <td>168.50</td>\n",
       "      <td>200.0</td>\n",
       "      <td>30.0</td>\n",
       "      <td>15.5</td>\n",
       "      <td>8.803408</td>\n",
       "      <td>1.0</td>\n",
       "      <td>8.25</td>\n",
       "      <td>15.5</td>\n",
       "      <td>22.75</td>\n",
       "      <td>30.0</td>\n",
       "    </tr>\n",
       "    <tr>\n",
       "      <th>Yahoo</th>\n",
       "      <td>30.0</td>\n",
       "      <td>2.0</td>\n",
       "      <td>0.830455</td>\n",
       "      <td>1.0</td>\n",
       "      <td>1.0</td>\n",
       "      <td>2.0</td>\n",
       "      <td>3.0</td>\n",
       "      <td>3.0</td>\n",
       "      <td>30.0</td>\n",
       "      <td>172.400000</td>\n",
       "      <td>...</td>\n",
       "      <td>190.75</td>\n",
       "      <td>236.0</td>\n",
       "      <td>30.0</td>\n",
       "      <td>15.5</td>\n",
       "      <td>8.803408</td>\n",
       "      <td>1.0</td>\n",
       "      <td>8.25</td>\n",
       "      <td>15.5</td>\n",
       "      <td>22.75</td>\n",
       "      <td>30.0</td>\n",
       "    </tr>\n",
       "  </tbody>\n",
       "</table>\n",
       "<p>3 rows × 24 columns</p>\n",
       "</div>"
      ],
      "text/plain": [
       "       Order                                         Searches              \\\n",
       "       count mean       std  min  25%  50%  75%  max    count        mean   \n",
       "Engine                                                                      \n",
       "Bing    30.0  2.0  0.830455  1.0  1.0  2.0  3.0  3.0     30.0  159.833333   \n",
       "Google  30.0  2.0  0.830455  1.0  1.0  2.0  3.0  3.0     30.0  152.666667   \n",
       "Yahoo   30.0  2.0  0.830455  1.0  1.0  2.0  3.0  3.0     30.0  172.400000   \n",
       "\n",
       "        ...                 Subject                                          \\\n",
       "        ...      75%    max   count  mean       std  min   25%   50%    75%   \n",
       "Engine  ...                                                                   \n",
       "Bing    ...   180.75  214.0    30.0  15.5  8.803408  1.0  8.25  15.5  22.75   \n",
       "Google  ...   168.50  200.0    30.0  15.5  8.803408  1.0  8.25  15.5  22.75   \n",
       "Yahoo   ...   190.75  236.0    30.0  15.5  8.803408  1.0  8.25  15.5  22.75   \n",
       "\n",
       "              \n",
       "         max  \n",
       "Engine        \n",
       "Bing    30.0  \n",
       "Google  30.0  \n",
       "Yahoo   30.0  \n",
       "\n",
       "[3 rows x 24 columns]"
      ]
     },
     "execution_count": 16,
     "metadata": {},
     "output_type": "execute_result"
    }
   ],
   "source": [
    "df.groupby(['Engine']).describe()"
   ]
  },
  {
   "cell_type": "markdown",
   "metadata": {},
   "source": [
    "Determine many subjects took part in this new experiment?"
   ]
  },
  {
   "cell_type": "code",
   "execution_count": 17,
   "metadata": {},
   "outputs": [
    {
     "data": {
      "text/plain": [
       "30"
      ]
     },
     "execution_count": 17,
     "metadata": {},
     "output_type": "execute_result"
    }
   ],
   "source": [
    "df.Subject.nunique()"
   ]
  },
  {
   "cell_type": "markdown",
   "metadata": {},
   "source": [
    "Determine the average number of searches required for the search engine that had the greatest average overall?"
   ]
  },
  {
   "cell_type": "code",
   "execution_count": 18,
   "metadata": {},
   "outputs": [
    {
     "data": {
      "text/plain": [
       "'Yahoo'"
      ]
     },
     "execution_count": 18,
     "metadata": {},
     "output_type": "execute_result"
    }
   ],
   "source": [
    "df.groupby(['Engine']).Searches.mean().idxmax()"
   ]
  },
  {
   "cell_type": "code",
   "execution_count": 19,
   "metadata": {},
   "outputs": [
    {
     "data": {
      "text/plain": [
       "array([[<matplotlib.axes._subplots.AxesSubplot object at 0x116f12450>,\n",
       "        <matplotlib.axes._subplots.AxesSubplot object at 0x11728a090>],\n",
       "       [<matplotlib.axes._subplots.AxesSubplot object at 0x117246450>,\n",
       "        <matplotlib.axes._subplots.AxesSubplot object at 0x117369910>]], dtype=object)"
      ]
     },
     "execution_count": 19,
     "metadata": {},
     "output_type": "execute_result"
    },
    {
     "data": {
      "image/png": "[encoded data removed]",
      "text/plain": [
       "<matplotlib.figure.Figure at 0x11703bc10>"
      ]
     },
     "metadata": {},
     "output_type": "display_data"
    }
   ],
   "source": [
    "df.hist(column='Searches', by='Engine', alpha=0.5)"
   ]
  },
  {
   "cell_type": "code",
   "execution_count": 20,
   "metadata": {},
   "outputs": [
    {
     "data": {
      "text/plain": [
       "array([[<matplotlib.axes._subplots.AxesSubplot object at 0x117476f50>,\n",
       "        <matplotlib.axes._subplots.AxesSubplot object at 0x11755ddd0>],\n",
       "       [<matplotlib.axes._subplots.AxesSubplot object at 0x117644fd0>,\n",
       "        <matplotlib.axes._subplots.AxesSubplot object at 0x1176c1790>]], dtype=object)"
      ]
     },
     "execution_count": 20,
     "metadata": {},
     "output_type": "execute_result"
    },
    {
     "data": {
      "image/png": "[encoded data removed]",
      "text/plain": [
       "<matplotlib.figure.Figure at 0x117390550>"
      ]
     },
     "metadata": {},
     "output_type": "display_data"
    }
   ],
   "source": [
    "df.hist(column='Effort', by='Engine', alpha=0.5)"
   ]
  },
  {
   "cell_type": "code",
   "execution_count": 21,
   "metadata": {},
   "outputs": [
    {
     "data": {
      "text/plain": [
       "<matplotlib.axes._subplots.AxesSubplot at 0x117770a50>"
      ]
     },
     "execution_count": 21,
     "metadata": {},
     "output_type": "execute_result"
    },
    {
     "data": {
      "image/png": "[encoded data removed]",
      "text/plain": [
       "<matplotlib.figure.Figure at 0x1177f7c10>"
      ]
     },
     "metadata": {},
     "output_type": "display_data"
    }
   ],
   "source": [
    "df.boxplot(column='Effort', by='Engine')"
   ]
  },
  {
   "cell_type": "markdown",
   "metadata": {},
   "source": [
    "Conduct a repreated measures ANOVA to determine if there was an order effect on Searches."
   ]
  },
  {
   "cell_type": "markdown",
   "metadata": {},
   "source": [
    "Import the R afex package."
   ]
  },
  {
   "cell_type": "code",
   "execution_count": 52,
   "metadata": {
    "collapsed": true
   },
   "outputs": [],
   "source": [
    "afex = rpackages.importr('afex') "
   ]
  },
  {
   "cell_type": "code",
   "execution_count": 59,
   "metadata": {},
   "outputs": [
    {
     "name": "stdout",
     "output_type": "stream",
     "text": [
      "\n",
      "Univariate Type III Repeated-Measures ANOVA Assuming Sphericity\n",
      "\n",
      "                 SS num Df Error SS den Df         F Pr(>F)    \n",
      "(Intercept) 2351280      1    25351     29 2689.7318 <2e-16 ***\n",
      "Order          2567      2    64207     58    1.1594 0.3208    \n",
      "---\n",
      "Signif. codes:  0 ‘***’ 0.001 ‘**’ 0.01 ‘*’ 0.05 ‘.’ 0.1 ‘ ’ 1\n",
      "\n",
      "\n",
      "Mauchly Tests for Sphericity\n",
      "\n",
      "      Test statistic p-value\n",
      "Order        0.94165 0.43096\n",
      "\n",
      "\n",
      "Greenhouse-Geisser and Huynh-Feldt Corrections\n",
      " for Departure from Sphericity\n",
      "\n",
      "       GG eps Pr(>F[GG])\n",
      "Order 0.94486      0.319\n",
      "\n",
      "        HF eps Pr(>F[HF])\n",
      "Order 1.008692   0.320849\n",
      "\n"
     ]
    }
   ],
   "source": [
    "model = afex.aov_ez(id='Subject', dv='Searches', data=df, within=['Order'])\n",
    "print(r.summary(model))"
   ]
  },
  {
   "cell_type": "code",
   "execution_count": 60,
   "metadata": {
    "scrolled": true
   },
   "outputs": [
    {
     "name": "stdout",
     "output_type": "stream",
     "text": [
      "\n",
      "Univariate Type III Repeated-Measures ANOVA Assuming Sphericity\n",
      "\n",
      "                 SS num Df Error SS den Df         F Pr(>F)    \n",
      "(Intercept) 2351280      1    25351     29 2689.7318 <2e-16 ***\n",
      "Engine         5987      2    60787     58    2.8562 0.0656 .  \n",
      "---\n",
      "Signif. codes:  0 ‘***’ 0.001 ‘**’ 0.01 ‘*’ 0.05 ‘.’ 0.1 ‘ ’ 1\n",
      "\n",
      "\n",
      "Mauchly Tests for Sphericity\n",
      "\n",
      "       Test statistic p-value\n",
      "Engine        0.94203 0.43343\n",
      "\n",
      "\n",
      "Greenhouse-Geisser and Huynh-Feldt Corrections\n",
      " for Departure from Sphericity\n",
      "\n",
      "        GG eps Pr(>F[GG])  \n",
      "Engine 0.94521    0.06895 .\n",
      "---\n",
      "Signif. codes:  0 ‘***’ 0.001 ‘**’ 0.01 ‘*’ 0.05 ‘.’ 0.1 ‘ ’ 1\n",
      "\n",
      "         HF eps Pr(>F[HF])\n",
      "Engine 1.009098 0.06560302\n",
      "\n"
     ]
    }
   ],
   "source": [
    "model = afex.aov_ez(id='Subject', dv='Searches', data=df, within=['Engine'])\n",
    "afex.summary_afex_aov(model)\n",
    "print(r.summary(model))"
   ]
  },
  {
   "cell_type": "code",
   "execution_count": 61,
   "metadata": {},
   "outputs": [
    {
     "name": "stdout",
     "output_type": "stream",
     "text": [
      "$lsmeans\n",
      " Engine   lsmean       SE    df lower.CL upper.CL\n",
      " Bing   159.8333 5.744831 86.41 148.4138 171.2529\n",
      " Google 152.6667 5.744831 86.41 141.2471 164.0862\n",
      " Yahoo  172.4000 5.744831 86.41 160.9804 183.8196\n",
      "\n",
      "Confidence level used: 0.95 \n",
      "\n",
      "$contrasts\n",
      " contrast         estimate       SE df t.ratio p.value\n",
      " Bing - Google    7.166667 8.358844 58   0.857  0.3948\n",
      " Bing - Yahoo   -12.566667 8.358844 58  -1.503  0.2763\n",
      " Google - Yahoo -19.733333 8.358844 58  -2.361  0.0649\n",
      "\n",
      "P value adjustment: holm method for 3 tests \n",
      "\n",
      "\n"
     ]
    }
   ],
   "source": [
    "lsm  = rpackages.importr('lsmeans')\n",
    "pairwise = lsm.lsmeans(model, \"Engine\", contr=\"pairwise\", adjust=\"holm\")\n",
    "print pairwise"
   ]
  },
  {
   "cell_type": "markdown",
   "metadata": {},
   "source": [
    "Whatever your previous answer, proceed to do post hoc pairwise comparisons. Conduct manual pairwise comparisons of Searches among levels of Engine using paired-samples t-tests, assuming equal variances and using Holm's sequential Bonferroni procedure to correct for multiple comparisons. "
   ]
  },
  {
   "cell_type": "code",
   "execution_count": 105,
   "metadata": {},
   "outputs": [
    {
     "data": {
      "text/plain": [
       "0.019800610129101781"
      ]
     },
     "execution_count": 105,
     "metadata": {},
     "output_type": "execute_result"
    }
   ],
   "source": [
    "groups = df.sort_values('Subject').groupby(['Engine'])\n",
    "\n",
    "pvals = [None]*3\n",
    "pvals[0] = stats.ttest_ind(groups.get_group('Bing').Searches,\n",
    "                           groups.get_group('Google').Searches)[1]\n",
    "pvals[1] = stats.ttest_ind(groups.get_group('Bing').Searches,\n",
    "                          groups.get_group('Yahoo').Searches)[1]\n",
    "pvals[2] = stats.ttest_ind(groups.get_group('Google').Searches,\n",
    "                           groups.get_group('Yahoo').Searches)[1]\n",
    "\n",
    "(reject, pvals_corrected, _, _) = mc.multipletests(pvals, method='holm')\n",
    "min(pvals)"
   ]
  },
  {
   "cell_type": "markdown",
   "metadata": {},
   "source": [
    "Conduct a nonparametric Friedman test on the Effort Likert-type ratings. Calculate an asymptotic p-value. To the nearest ten-thousandth (four digits), what is the Chi-Square statistic from such a"
   ]
  },
  {
   "cell_type": "code",
   "execution_count": 102,
   "metadata": {},
   "outputs": [
    {
     "data": {
      "text/plain": [
       "FriedmanchisquareResult(statistic=8.0181818181818425, pvalue=0.018149887636971278)"
      ]
     },
     "execution_count": 102,
     "metadata": {},
     "output_type": "execute_result"
    }
   ],
   "source": [
    "groups = df.sort_values('Subject').groupby(['Engine'])\n",
    "\n",
    "measurements = [groups.get_group(x).Effort for x in groups.groups]\n",
    "stats.friedmanchisquare(*measurements)"
   ]
  },
  {
   "cell_type": "markdown",
   "metadata": {},
   "source": [
    "Whatever your previous answer, proceed to do post hoc pairwise comparisons. Conduct manual pairwise comparisons of Effort among levels of Engine with Wilcoxon signed-rank tests, using Holm's sequential Bonferroni procedure to correct for multiple comparisons. "
   ]
  },
  {
   "cell_type": "code",
   "execution_count": 104,
   "metadata": {},
   "outputs": [
    {
     "data": {
      "text/plain": [
       "0.0099060292976086688"
      ]
     },
     "execution_count": 104,
     "metadata": {},
     "output_type": "execute_result"
    }
   ],
   "source": [
    "pvals = [None]*3\n",
    "pvals[0] = stats.wilcoxon(groups.get_group('Bing').Effort,\n",
    "                          groups.get_group('Google').Effort)[1]\n",
    "pvals[1] = stats.wilcoxon(groups.get_group('Bing').Effort,\n",
    "                          groups.get_group('Yahoo').Effort)[1]\n",
    "pvals[2] = stats.wilcoxon(groups.get_group('Google').Effort,\n",
    "                          groups.get_group('Yahoo').Effort)[1]\n",
    "\n",
    "(reject, pvals_corrected, _, _) = mc.multipletests(pvals, method='holm')\n",
    "min(pvals)"
   ]
  },
  {
   "cell_type": "markdown",
   "metadata": {},
   "source": [
    "# References\n",
    "\n",
    "1. http://benalexkeen.com/comparative-statistics-in-python-using-scipy/\n",
    "2. https://www.marsja.se/repeated-measures-anova-using-python/\n",
    "3. https://www.youtube.com/watch?v=IXavu8skv9I"
   ]
  }
 ],
 "metadata": {
  "kernelspec": {
   "display_name": "Python 2",
   "language": "python",
   "name": "python2"
  },
  "language_info": {
   "codemirror_mode": {
    "name": "ipython",
    "version": 2
   },
   "file_extension": ".py",
   "mimetype": "text/x-python",
   "name": "python",
   "nbconvert_exporter": "python",
   "pygments_lexer": "ipython2",
   "version": "2.7.14"
  }
 },
 "nbformat": 4,
 "nbformat_minor": 2
}
