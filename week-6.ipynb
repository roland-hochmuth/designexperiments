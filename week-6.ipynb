{
 "cells": [
  {
   "cell_type": "code",
   "execution_count": 1,
   "metadata": {},
   "outputs": [],
   "source": [
    "import pandas as pd\n",
    "\n",
    "from plotnine import *\n",
    "\n",
    "import rpy2.robjects as ro\n",
    "import rpy2.robjects.packages as rpackages\n",
    "import rpy2.robjects.vectors as rvectors\n",
    "from rpy2.robjects import pandas2ri\n",
    "\n",
    "import scipy as sp\n",
    "import statsmodels as sm\n",
    "\n",
    "%matplotlib inline\n",
    "r = ro.r"
   ]
  },
  {
   "cell_type": "markdown",
   "metadata": {},
   "source": [
    "Activate the pandas conversion for rpy2. See, https://pandas.pydata.org/pandas-docs/stable/r_interface.html"
   ]
  },
  {
   "cell_type": "code",
   "execution_count": 2,
   "metadata": {},
   "outputs": [],
   "source": [
    "pandas2ri.activate()"
   ]
  },
  {
   "cell_type": "markdown",
   "metadata": {},
   "source": [
    "Import the R packages that will be used in this analysis."
   ]
  },
  {
   "cell_type": "code",
   "execution_count": 3,
   "metadata": {},
   "outputs": [],
   "source": [
    "packageNames = ('afex', 'lsmeans', 'coin')\n",
    " \n",
    "if all(rpackages.isinstalled(x) for x in packageNames):\n",
    "    have_packages = True\n",
    "else:\n",
    "   have_packages = False\n",
    " \n",
    "if not have_packages:\n",
    "    utils = rpackages.importr('utils')\n",
    "    utils.chooseCRANmirror(ind=1)\n",
    "    packnames_to_install = [x for x in packageNames if not rpackages.isinstalled(x)]\n",
    " \n",
    "    if len(packnames_to_install) > 0: \n",
    "        utils.install_packages(rvectors.StrVector(packnames_to_install))"
   ]
  },
  {
   "cell_type": "code",
   "execution_count": 4,
   "metadata": {},
   "outputs": [],
   "source": [
    "lsm  = rpackages.importr('lsmeans')\n",
    "afex = rpackages.importr('afex') \n",
    "coin = rpackages.importr('coin')\n",
    "\n",
    "t_test = ro.r('t.test')\n",
    "friedman_test = ro.r('friedman.test')\n",
    "wilcox_test = ro.r('wilcox.test')\n",
    "p_adjust = ro.r('p.adjust')"
   ]
  },
  {
   "cell_type": "markdown",
   "metadata": {},
   "source": [
    "Set the theme to use in plotnine."
   ]
  },
  {
   "cell_type": "code",
   "execution_count": 5,
   "metadata": {},
   "outputs": [],
   "source": [
    "theme_set(theme_xkcd())"
   ]
  },
  {
   "cell_type": "code",
   "execution_count": 6,
   "metadata": {
    "collapsed": true
   },
   "outputs": [],
   "source": [
    "df = pd.read_csv(\"websearch2.csv\")\n",
    "df.Subject = df.Subject.astype('category')\n",
    "df.Searches = df.Searches.astype(int)\n",
    "df.Engine = df.Engine.astype('category')\n",
    "df.Effort = df.Effort.astype('category')\n",
    "df['EffortOrdinal'] = df.Effort.astype(int)"
   ]
  },
  {
   "cell_type": "code",
   "execution_count": 7,
   "metadata": {},
   "outputs": [
    {
     "data": {
      "text/html": [
       "<div>\n",
       "<style scoped>\n",
       "    .dataframe tbody tr th:only-of-type {\n",
       "        vertical-align: middle;\n",
       "    }\n",
       "\n",
       "    .dataframe tbody tr th {\n",
       "        vertical-align: top;\n",
       "    }\n",
       "\n",
       "    .dataframe thead th {\n",
       "        text-align: right;\n",
       "    }\n",
       "</style>\n",
       "<table border=\"1\" class=\"dataframe\">\n",
       "  <thead>\n",
       "    <tr style=\"text-align: right;\">\n",
       "      <th></th>\n",
       "      <th>Subject</th>\n",
       "      <th>Engine</th>\n",
       "      <th>Order</th>\n",
       "      <th>Searches</th>\n",
       "      <th>Effort</th>\n",
       "      <th>EffortOrdinal</th>\n",
       "    </tr>\n",
       "  </thead>\n",
       "  <tbody>\n",
       "    <tr>\n",
       "      <th>55</th>\n",
       "      <td>28</td>\n",
       "      <td>Bing</td>\n",
       "      <td>1</td>\n",
       "      <td>192</td>\n",
       "      <td>4</td>\n",
       "      <td>4</td>\n",
       "    </tr>\n",
       "    <tr>\n",
       "      <th>56</th>\n",
       "      <td>29</td>\n",
       "      <td>Google</td>\n",
       "      <td>1</td>\n",
       "      <td>162</td>\n",
       "      <td>5</td>\n",
       "      <td>5</td>\n",
       "    </tr>\n",
       "    <tr>\n",
       "      <th>57</th>\n",
       "      <td>29</td>\n",
       "      <td>Bing</td>\n",
       "      <td>2</td>\n",
       "      <td>163</td>\n",
       "      <td>3</td>\n",
       "      <td>3</td>\n",
       "    </tr>\n",
       "    <tr>\n",
       "      <th>58</th>\n",
       "      <td>30</td>\n",
       "      <td>Google</td>\n",
       "      <td>2</td>\n",
       "      <td>146</td>\n",
       "      <td>5</td>\n",
       "      <td>5</td>\n",
       "    </tr>\n",
       "    <tr>\n",
       "      <th>59</th>\n",
       "      <td>30</td>\n",
       "      <td>Bing</td>\n",
       "      <td>1</td>\n",
       "      <td>137</td>\n",
       "      <td>2</td>\n",
       "      <td>2</td>\n",
       "    </tr>\n",
       "  </tbody>\n",
       "</table>\n",
       "</div>"
      ],
      "text/plain": [
       "   Subject  Engine  Order  Searches Effort  EffortOrdinal\n",
       "55      28    Bing      1       192      4              4\n",
       "56      29  Google      1       162      5              5\n",
       "57      29    Bing      2       163      3              3\n",
       "58      30  Google      2       146      5              5\n",
       "59      30    Bing      1       137      2              2"
      ]
     },
     "execution_count": 7,
     "metadata": {},
     "output_type": "execute_result"
    }
   ],
   "source": [
    "df.tail(5)"
   ]
  },
  {
   "cell_type": "code",
   "execution_count": 8,
   "metadata": {},
   "outputs": [
    {
     "data": {
      "text/html": [
       "<div>\n",
       "<style scoped>\n",
       "    .dataframe tbody tr th:only-of-type {\n",
       "        vertical-align: middle;\n",
       "    }\n",
       "\n",
       "    .dataframe tbody tr th {\n",
       "        vertical-align: top;\n",
       "    }\n",
       "\n",
       "    .dataframe thead tr th {\n",
       "        text-align: left;\n",
       "    }\n",
       "\n",
       "    .dataframe thead tr:last-of-type th {\n",
       "        text-align: right;\n",
       "    }\n",
       "</style>\n",
       "<table border=\"1\" class=\"dataframe\">\n",
       "  <thead>\n",
       "    <tr>\n",
       "      <th></th>\n",
       "      <th colspan=\"8\" halign=\"left\">EffortOrdinal</th>\n",
       "      <th colspan=\"5\" halign=\"left\">Order</th>\n",
       "      <th colspan=\"8\" halign=\"left\">Searches</th>\n",
       "    </tr>\n",
       "    <tr>\n",
       "      <th></th>\n",
       "      <th>count</th>\n",
       "      <th>mean</th>\n",
       "      <th>std</th>\n",
       "      <th>min</th>\n",
       "      <th>25%</th>\n",
       "      <th>50%</th>\n",
       "      <th>75%</th>\n",
       "      <th>max</th>\n",
       "      <th>count</th>\n",
       "      <th>mean</th>\n",
       "      <th>...</th>\n",
       "      <th>75%</th>\n",
       "      <th>max</th>\n",
       "      <th>count</th>\n",
       "      <th>mean</th>\n",
       "      <th>std</th>\n",
       "      <th>min</th>\n",
       "      <th>25%</th>\n",
       "      <th>50%</th>\n",
       "      <th>75%</th>\n",
       "      <th>max</th>\n",
       "    </tr>\n",
       "    <tr>\n",
       "      <th>Engine</th>\n",
       "      <th></th>\n",
       "      <th></th>\n",
       "      <th></th>\n",
       "      <th></th>\n",
       "      <th></th>\n",
       "      <th></th>\n",
       "      <th></th>\n",
       "      <th></th>\n",
       "      <th></th>\n",
       "      <th></th>\n",
       "      <th></th>\n",
       "      <th></th>\n",
       "      <th></th>\n",
       "      <th></th>\n",
       "      <th></th>\n",
       "      <th></th>\n",
       "      <th></th>\n",
       "      <th></th>\n",
       "      <th></th>\n",
       "      <th></th>\n",
       "      <th></th>\n",
       "    </tr>\n",
       "  </thead>\n",
       "  <tbody>\n",
       "    <tr>\n",
       "      <th>Bing</th>\n",
       "      <td>30.0</td>\n",
       "      <td>4.066667</td>\n",
       "      <td>1.760355</td>\n",
       "      <td>1.0</td>\n",
       "      <td>2.0</td>\n",
       "      <td>4.0</td>\n",
       "      <td>6.0</td>\n",
       "      <td>7.0</td>\n",
       "      <td>30.0</td>\n",
       "      <td>1.5</td>\n",
       "      <td>...</td>\n",
       "      <td>2.0</td>\n",
       "      <td>2.0</td>\n",
       "      <td>30.0</td>\n",
       "      <td>165.966667</td>\n",
       "      <td>32.082312</td>\n",
       "      <td>89.0</td>\n",
       "      <td>144.25</td>\n",
       "      <td>164.0</td>\n",
       "      <td>184.75</td>\n",
       "      <td>241.0</td>\n",
       "    </tr>\n",
       "    <tr>\n",
       "      <th>Google</th>\n",
       "      <td>30.0</td>\n",
       "      <td>3.733333</td>\n",
       "      <td>1.740657</td>\n",
       "      <td>1.0</td>\n",
       "      <td>2.0</td>\n",
       "      <td>4.0</td>\n",
       "      <td>5.0</td>\n",
       "      <td>7.0</td>\n",
       "      <td>30.0</td>\n",
       "      <td>1.5</td>\n",
       "      <td>...</td>\n",
       "      <td>2.0</td>\n",
       "      <td>2.0</td>\n",
       "      <td>30.0</td>\n",
       "      <td>147.833333</td>\n",
       "      <td>24.418878</td>\n",
       "      <td>108.0</td>\n",
       "      <td>131.00</td>\n",
       "      <td>147.5</td>\n",
       "      <td>161.75</td>\n",
       "      <td>198.0</td>\n",
       "    </tr>\n",
       "  </tbody>\n",
       "</table>\n",
       "<p>2 rows × 24 columns</p>\n",
       "</div>"
      ],
      "text/plain": [
       "       EffortOrdinal                                              Order       \\\n",
       "               count      mean       std  min  25%  50%  75%  max count mean   \n",
       "Engine                                                                         \n",
       "Bing            30.0  4.066667  1.760355  1.0  2.0  4.0  6.0  7.0  30.0  1.5   \n",
       "Google          30.0  3.733333  1.740657  1.0  2.0  4.0  5.0  7.0  30.0  1.5   \n",
       "\n",
       "        ...             Searches                                               \\\n",
       "        ...    75%  max    count        mean        std    min     25%    50%   \n",
       "Engine  ...                                                                     \n",
       "Bing    ...    2.0  2.0     30.0  165.966667  32.082312   89.0  144.25  164.0   \n",
       "Google  ...    2.0  2.0     30.0  147.833333  24.418878  108.0  131.00  147.5   \n",
       "\n",
       "                       \n",
       "           75%    max  \n",
       "Engine                 \n",
       "Bing    184.75  241.0  \n",
       "Google  161.75  198.0  \n",
       "\n",
       "[2 rows x 24 columns]"
      ]
     },
     "execution_count": 8,
     "metadata": {},
     "output_type": "execute_result"
    }
   ],
   "source": [
    "df.groupby(['Engine']).describe()"
   ]
  },
  {
   "cell_type": "markdown",
   "metadata": {},
   "source": [
    "Determine how many subjects took part in this experiment?"
   ]
  },
  {
   "cell_type": "code",
   "execution_count": 9,
   "metadata": {},
   "outputs": [
    {
     "data": {
      "text/plain": [
       "30"
      ]
     },
     "execution_count": 9,
     "metadata": {},
     "output_type": "execute_result"
    }
   ],
   "source": [
    "df.Subject.nunique()"
   ]
  },
  {
   "cell_type": "markdown",
   "metadata": {},
   "source": [
    "Determine the average number of searches required for the search engine that had the greatest average overall?"
   ]
  },
  {
   "cell_type": "code",
   "execution_count": 10,
   "metadata": {},
   "outputs": [
    {
     "data": {
      "text/plain": [
       "Engine\n",
       "Bing      165.966667\n",
       "Google    147.833333\n",
       "Name: Searches, dtype: float64"
      ]
     },
     "execution_count": 10,
     "metadata": {},
     "output_type": "execute_result"
    }
   ],
   "source": [
    "df.groupby(['Engine']).Searches.mean()"
   ]
  },
  {
   "cell_type": "markdown",
   "metadata": {},
   "source": [
    "Display histograms of Searches by search engine."
   ]
  },
  {
   "cell_type": "code",
   "execution_count": 11,
   "metadata": {},
   "outputs": [
    {
     "data": {
      "image/png": "[encoded data removed]",
      "text/plain": [
       "<matplotlib.figure.Figure at 0x10f56c290>"
      ]
     },
     "metadata": {},
     "output_type": "display_data"
    },
    {
     "data": {
      "text/plain": [
       "<ggplot: (293452221)>"
      ]
     },
     "execution_count": 11,
     "metadata": {},
     "output_type": "execute_result"
    }
   ],
   "source": [
    "(\n",
    "    ggplot(df) +\n",
    "    aes(x='Searches') +\n",
    "    geom_histogram(binwidth=2) +\n",
    "    stat_bin(bins=7) +\n",
    "    facet_wrap('~Engine')\n",
    ")"
   ]
  },
  {
   "cell_type": "markdown",
   "metadata": {},
   "source": [
    "Display box plots of searches by search engine."
   ]
  },
  {
   "cell_type": "code",
   "execution_count": 12,
   "metadata": {},
   "outputs": [
    {
     "data": {
      "image/png": "[encoded data removed]",
      "text/plain": [
       "<matplotlib.figure.Figure at 0x11b20e890>"
      ]
     },
     "metadata": {},
     "output_type": "display_data"
    },
    {
     "data": {
      "text/plain": [
       "<ggplot: (297021453)>"
      ]
     },
     "execution_count": 12,
     "metadata": {},
     "output_type": "execute_result"
    }
   ],
   "source": [
    "(\n",
    "    ggplot(df, aes(x='Engine', y='Searches')) +\n",
    "    geom_boxplot()\n",
    ")"
   ]
  },
  {
   "cell_type": "markdown",
   "metadata": {},
   "source": [
    "Test for normality within each search engine type using Shapiro-Wilk.\n",
    "\n",
    "https://docs.scipy.org/doc/scipy-0.19.1/reference/generated/scipy.stats.shapiro.html"
   ]
  },
  {
   "cell_type": "code",
   "execution_count": 13,
   "metadata": {},
   "outputs": [
    {
     "data": {
      "text/plain": [
       "Engine\n",
       "Bing      (0.983305990696, 0.904959201813)\n",
       "Google    (0.970467865467, 0.552055418491)\n",
       "Name: Searches, dtype: object"
      ]
     },
     "execution_count": 13,
     "metadata": {},
     "output_type": "execute_result"
    }
   ],
   "source": [
    "groups = df.sort_values('Subject').groupby(['Engine'])\n",
    "groups.Searches.apply(lambda x : sp.stats.shapiro(x))"
   ]
  },
  {
   "cell_type": "markdown",
   "metadata": {},
   "source": [
    "Test for homoscedasticity within search engine using Levene test for equal variances by Engine. See, https://docs.scipy.org/doc/scipy-0.14.0/reference/generated/scipy.stats.levene.html"
   ]
  },
  {
   "cell_type": "code",
   "execution_count": 14,
   "metadata": {},
   "outputs": [
    {
     "data": {
      "text/plain": [
       "LeveneResult(statistic=1.1082233526291065, pvalue=0.29683458221224279)"
      ]
     },
     "execution_count": 14,
     "metadata": {},
     "output_type": "execute_result"
    }
   ],
   "source": [
    "groups = df.sort_values('Subject').groupby(['Engine'])\n",
    "sp.stats.levene(*[groups.get_group(x).Searches for x in groups.groups], center='median')"
   ]
  },
  {
   "cell_type": "markdown",
   "metadata": {},
   "source": [
    "Conduct and order effect test between search engine using a paired-samples t-test assuming equal variances. See, https://docs.scipy.org/doc/scipy-0.19.0/reference/generated/scipy.stats.ttest_rel.html"
   ]
  },
  {
   "cell_type": "code",
   "execution_count": 15,
   "metadata": {},
   "outputs": [
    {
     "data": {
      "text/plain": [
       "Ttest_relResult(statistic=0.34272743120005489, pvalue=0.73427539064431357)"
      ]
     },
     "execution_count": 15,
     "metadata": {},
     "output_type": "execute_result"
    }
   ],
   "source": [
    "groups = df.sort_values('Subject').groupby(['Order'])\n",
    "sp.stats.ttest_rel(*[groups.get_group(x).Searches for x in groups.groups])"
   ]
  },
  {
   "cell_type": "markdown",
   "metadata": {},
   "source": [
    "Conduct a paired-samples t-test, assuming equal variances, on Searches by Engine."
   ]
  },
  {
   "cell_type": "code",
   "execution_count": 16,
   "metadata": {},
   "outputs": [
    {
     "data": {
      "text/plain": [
       "Ttest_relResult(statistic=2.5020772424994786, pvalue=0.018237582098993173)"
      ]
     },
     "execution_count": 16,
     "metadata": {},
     "output_type": "execute_result"
    }
   ],
   "source": [
    "groups = df.sort_values('Subject').groupby(['Engine'])\n",
    "sp.stats.ttest_rel(*[groups.get_group(x).Searches for x in groups.groups])"
   ]
  },
  {
   "cell_type": "markdown",
   "metadata": {},
   "source": [
    "Conduct a nonparametric Wilcoxon signed-rank test on the Effort Likert-type ratings.\n",
    "\n",
    "Using scipy see, https://docs.scipy.org/doc/scipy-0.19.1/reference/generated/scipy.stats.wilcoxon.html. However, the scipy result is not the same as the R result."
   ]
  },
  {
   "cell_type": "code",
   "execution_count": 17,
   "metadata": {},
   "outputs": [
    {
     "name": "stdout",
     "output_type": "stream",
     "text": [
      "\n",
      "\tExact Wilcoxon-Pratt Signed-Rank Test\n",
      "\n",
      "data:  y by x (pos, neg) \n",
      "\t stratified by block\n",
      "Z = 0.68343, p-value = 0.5016\n",
      "alternative hypothesis: true mu is not equal to 0\n",
      "\n",
      "\n"
     ]
    }
   ],
   "source": [
    "# Wilcox test using sp.stats.wilcoxon\n",
    "#(statistic, pvalue) = sp.stats.wilcoxon(*[groups.get_group(x).EffortOrdinal for x in groups.groups])\n",
    "#print('p-value: %s' % pvalue)\n",
    "\n",
    "print coin.wilcoxsign_test(ro.Formula('EffortOrdinal ~ Engine | Subject'), df, distribution='exact')"
   ]
  },
  {
   "cell_type": "markdown",
   "metadata": {},
   "source": [
    "Read websearch3.csv."
   ]
  },
  {
   "cell_type": "code",
   "execution_count": 18,
   "metadata": {
    "collapsed": true
   },
   "outputs": [],
   "source": [
    "df = pd.read_csv(\"websearch3.csv\")\n",
    "df.Subject = df.Subject.astype('category')\n",
    "df.Searches = df.Searches.astype(int)\n",
    "df.Engine = df.Engine.astype('category')\n",
    "df.Effort = df.Effort.astype('category')\n",
    "df.Order = df.Order.astype('category')\n",
    "df['EffortOrdinal'] = df.Effort.astype(int)"
   ]
  },
  {
   "cell_type": "code",
   "execution_count": 19,
   "metadata": {},
   "outputs": [
    {
     "data": {
      "text/html": [
       "<div>\n",
       "<style scoped>\n",
       "    .dataframe tbody tr th:only-of-type {\n",
       "        vertical-align: middle;\n",
       "    }\n",
       "\n",
       "    .dataframe tbody tr th {\n",
       "        vertical-align: top;\n",
       "    }\n",
       "\n",
       "    .dataframe thead th {\n",
       "        text-align: right;\n",
       "    }\n",
       "</style>\n",
       "<table border=\"1\" class=\"dataframe\">\n",
       "  <thead>\n",
       "    <tr style=\"text-align: right;\">\n",
       "      <th></th>\n",
       "      <th>Subject</th>\n",
       "      <th>Engine</th>\n",
       "      <th>Order</th>\n",
       "      <th>Searches</th>\n",
       "      <th>Effort</th>\n",
       "      <th>EffortOrdinal</th>\n",
       "    </tr>\n",
       "  </thead>\n",
       "  <tbody>\n",
       "    <tr>\n",
       "      <th>85</th>\n",
       "      <td>29</td>\n",
       "      <td>Bing</td>\n",
       "      <td>1</td>\n",
       "      <td>195</td>\n",
       "      <td>4</td>\n",
       "      <td>4</td>\n",
       "    </tr>\n",
       "    <tr>\n",
       "      <th>86</th>\n",
       "      <td>29</td>\n",
       "      <td>Yahoo</td>\n",
       "      <td>2</td>\n",
       "      <td>182</td>\n",
       "      <td>5</td>\n",
       "      <td>5</td>\n",
       "    </tr>\n",
       "    <tr>\n",
       "      <th>87</th>\n",
       "      <td>30</td>\n",
       "      <td>Google</td>\n",
       "      <td>3</td>\n",
       "      <td>152</td>\n",
       "      <td>1</td>\n",
       "      <td>1</td>\n",
       "    </tr>\n",
       "    <tr>\n",
       "      <th>88</th>\n",
       "      <td>30</td>\n",
       "      <td>Bing</td>\n",
       "      <td>2</td>\n",
       "      <td>188</td>\n",
       "      <td>7</td>\n",
       "      <td>7</td>\n",
       "    </tr>\n",
       "    <tr>\n",
       "      <th>89</th>\n",
       "      <td>30</td>\n",
       "      <td>Yahoo</td>\n",
       "      <td>1</td>\n",
       "      <td>131</td>\n",
       "      <td>3</td>\n",
       "      <td>3</td>\n",
       "    </tr>\n",
       "  </tbody>\n",
       "</table>\n",
       "</div>"
      ],
      "text/plain": [
       "   Subject  Engine Order  Searches Effort  EffortOrdinal\n",
       "85      29    Bing     1       195      4              4\n",
       "86      29   Yahoo     2       182      5              5\n",
       "87      30  Google     3       152      1              1\n",
       "88      30    Bing     2       188      7              7\n",
       "89      30   Yahoo     1       131      3              3"
      ]
     },
     "execution_count": 19,
     "metadata": {},
     "output_type": "execute_result"
    }
   ],
   "source": [
    "df.tail(5)"
   ]
  },
  {
   "cell_type": "code",
   "execution_count": 20,
   "metadata": {},
   "outputs": [
    {
     "data": {
      "text/html": [
       "<div>\n",
       "<style scoped>\n",
       "    .dataframe tbody tr th:only-of-type {\n",
       "        vertical-align: middle;\n",
       "    }\n",
       "\n",
       "    .dataframe tbody tr th {\n",
       "        vertical-align: top;\n",
       "    }\n",
       "\n",
       "    .dataframe thead tr th {\n",
       "        text-align: left;\n",
       "    }\n",
       "\n",
       "    .dataframe thead tr:last-of-type th {\n",
       "        text-align: right;\n",
       "    }\n",
       "</style>\n",
       "<table border=\"1\" class=\"dataframe\">\n",
       "  <thead>\n",
       "    <tr>\n",
       "      <th></th>\n",
       "      <th colspan=\"8\" halign=\"left\">EffortOrdinal</th>\n",
       "      <th colspan=\"8\" halign=\"left\">Searches</th>\n",
       "    </tr>\n",
       "    <tr>\n",
       "      <th></th>\n",
       "      <th>count</th>\n",
       "      <th>mean</th>\n",
       "      <th>std</th>\n",
       "      <th>min</th>\n",
       "      <th>25%</th>\n",
       "      <th>50%</th>\n",
       "      <th>75%</th>\n",
       "      <th>max</th>\n",
       "      <th>count</th>\n",
       "      <th>mean</th>\n",
       "      <th>std</th>\n",
       "      <th>min</th>\n",
       "      <th>25%</th>\n",
       "      <th>50%</th>\n",
       "      <th>75%</th>\n",
       "      <th>max</th>\n",
       "    </tr>\n",
       "    <tr>\n",
       "      <th>Engine</th>\n",
       "      <th></th>\n",
       "      <th></th>\n",
       "      <th></th>\n",
       "      <th></th>\n",
       "      <th></th>\n",
       "      <th></th>\n",
       "      <th></th>\n",
       "      <th></th>\n",
       "      <th></th>\n",
       "      <th></th>\n",
       "      <th></th>\n",
       "      <th></th>\n",
       "      <th></th>\n",
       "      <th></th>\n",
       "      <th></th>\n",
       "      <th></th>\n",
       "    </tr>\n",
       "  </thead>\n",
       "  <tbody>\n",
       "    <tr>\n",
       "      <th>Bing</th>\n",
       "      <td>30.0</td>\n",
       "      <td>3.900000</td>\n",
       "      <td>1.626293</td>\n",
       "      <td>1.0</td>\n",
       "      <td>3.0</td>\n",
       "      <td>4.0</td>\n",
       "      <td>5.0</td>\n",
       "      <td>7.0</td>\n",
       "      <td>30.0</td>\n",
       "      <td>159.833333</td>\n",
       "      <td>30.595338</td>\n",
       "      <td>104.0</td>\n",
       "      <td>136.75</td>\n",
       "      <td>161.5</td>\n",
       "      <td>180.75</td>\n",
       "      <td>214.0</td>\n",
       "    </tr>\n",
       "    <tr>\n",
       "      <th>Google</th>\n",
       "      <td>30.0</td>\n",
       "      <td>3.866667</td>\n",
       "      <td>1.925032</td>\n",
       "      <td>1.0</td>\n",
       "      <td>3.0</td>\n",
       "      <td>4.0</td>\n",
       "      <td>5.0</td>\n",
       "      <td>7.0</td>\n",
       "      <td>30.0</td>\n",
       "      <td>152.666667</td>\n",
       "      <td>24.562845</td>\n",
       "      <td>93.0</td>\n",
       "      <td>137.50</td>\n",
       "      <td>152.0</td>\n",
       "      <td>168.50</td>\n",
       "      <td>200.0</td>\n",
       "    </tr>\n",
       "    <tr>\n",
       "      <th>Yahoo</th>\n",
       "      <td>30.0</td>\n",
       "      <td>5.000000</td>\n",
       "      <td>1.389617</td>\n",
       "      <td>3.0</td>\n",
       "      <td>4.0</td>\n",
       "      <td>5.0</td>\n",
       "      <td>6.0</td>\n",
       "      <td>7.0</td>\n",
       "      <td>30.0</td>\n",
       "      <td>172.400000</td>\n",
       "      <td>37.826829</td>\n",
       "      <td>92.0</td>\n",
       "      <td>141.75</td>\n",
       "      <td>169.5</td>\n",
       "      <td>190.75</td>\n",
       "      <td>236.0</td>\n",
       "    </tr>\n",
       "  </tbody>\n",
       "</table>\n",
       "</div>"
      ],
      "text/plain": [
       "       EffortOrdinal                                              Searches  \\\n",
       "               count      mean       std  min  25%  50%  75%  max    count   \n",
       "Engine                                                                       \n",
       "Bing            30.0  3.900000  1.626293  1.0  3.0  4.0  5.0  7.0     30.0   \n",
       "Google          30.0  3.866667  1.925032  1.0  3.0  4.0  5.0  7.0     30.0   \n",
       "Yahoo           30.0  5.000000  1.389617  3.0  4.0  5.0  6.0  7.0     30.0   \n",
       "\n",
       "                                                                    \n",
       "              mean        std    min     25%    50%     75%    max  \n",
       "Engine                                                              \n",
       "Bing    159.833333  30.595338  104.0  136.75  161.5  180.75  214.0  \n",
       "Google  152.666667  24.562845   93.0  137.50  152.0  168.50  200.0  \n",
       "Yahoo   172.400000  37.826829   92.0  141.75  169.5  190.75  236.0  "
      ]
     },
     "execution_count": 20,
     "metadata": {},
     "output_type": "execute_result"
    }
   ],
   "source": [
    "df.groupby(['Engine']).describe()"
   ]
  },
  {
   "cell_type": "markdown",
   "metadata": {},
   "source": [
    "Determine many subjects took part in this new experiment?"
   ]
  },
  {
   "cell_type": "code",
   "execution_count": 21,
   "metadata": {},
   "outputs": [
    {
     "data": {
      "text/plain": [
       "30"
      ]
     },
     "execution_count": 21,
     "metadata": {},
     "output_type": "execute_result"
    }
   ],
   "source": [
    "df.Subject.nunique()"
   ]
  },
  {
   "cell_type": "markdown",
   "metadata": {},
   "source": [
    "Determine the average number of searches required for the search engine that had the greatest average overall?"
   ]
  },
  {
   "cell_type": "code",
   "execution_count": 22,
   "metadata": {},
   "outputs": [
    {
     "data": {
      "text/plain": [
       "Engine\n",
       "Bing      159.833333\n",
       "Google    152.666667\n",
       "Yahoo     172.400000\n",
       "Name: Searches, dtype: float64"
      ]
     },
     "execution_count": 22,
     "metadata": {},
     "output_type": "execute_result"
    }
   ],
   "source": [
    "df.groupby(['Engine']).Searches.mean()"
   ]
  },
  {
   "cell_type": "code",
   "execution_count": 23,
   "metadata": {},
   "outputs": [
    {
     "data": {
      "image/png": "[encoded data removed]",
      "text/plain": [
       "<matplotlib.figure.Figure at 0x11b71d390>"
      ]
     },
     "metadata": {},
     "output_type": "display_data"
    },
    {
     "data": {
      "text/plain": [
       "<ggplot: (297028593)>"
      ]
     },
     "execution_count": 23,
     "metadata": {},
     "output_type": "execute_result"
    }
   ],
   "source": [
    "(\n",
    "    ggplot(df) +\n",
    "    aes(x='Effort') +\n",
    "    geom_histogram(binwidth=2) +\n",
    "    stat_bin(bins=7) +\n",
    "    facet_wrap('~Engine') + \n",
    "    theme_xkcd()\n",
    ")"
   ]
  },
  {
   "cell_type": "code",
   "execution_count": 24,
   "metadata": {},
   "outputs": [
    {
     "data": {
      "image/png": "[encoded data removed]",
      "text/plain": [
       "<matplotlib.figure.Figure at 0x11b966d50>"
      ]
     },
     "metadata": {},
     "output_type": "display_data"
    },
    {
     "data": {
      "text/plain": [
       "<ggplot: (297210497)>"
      ]
     },
     "execution_count": 24,
     "metadata": {},
     "output_type": "execute_result"
    }
   ],
   "source": [
    "(\n",
    "    ggplot(df, aes(x='Engine', y='EffortOrdinal')) +\n",
    "    geom_boxplot()\n",
    ")"
   ]
  },
  {
   "cell_type": "markdown",
   "metadata": {},
   "source": [
    "Conduct a repreated measures ANOVA to determine if there was an order effect on Searches."
   ]
  },
  {
   "cell_type": "markdown",
   "metadata": {},
   "source": [
    "Import the R afex package."
   ]
  },
  {
   "cell_type": "code",
   "execution_count": 25,
   "metadata": {},
   "outputs": [
    {
     "name": "stdout",
     "output_type": "stream",
     "text": [
      "\n",
      "Univariate Type III Repeated-Measures ANOVA Assuming Sphericity\n",
      "\n",
      "                 SS num Df Error SS den Df         F Pr(>F)    \n",
      "(Intercept) 2351280      1    25351     29 2689.7318 <2e-16 ***\n",
      "Order          2567      2    64207     58    1.1594 0.3208    \n",
      "---\n",
      "Signif. codes:  0 ‘***’ 0.001 ‘**’ 0.01 ‘*’ 0.05 ‘.’ 0.1 ‘ ’ 1\n",
      "\n",
      "\n",
      "Mauchly Tests for Sphericity\n",
      "\n",
      "      Test statistic p-value\n",
      "Order        0.94165 0.43096\n",
      "\n",
      "\n",
      "Greenhouse-Geisser and Huynh-Feldt Corrections\n",
      " for Departure from Sphericity\n",
      "\n",
      "       GG eps Pr(>F[GG])\n",
      "Order 0.94486      0.319\n",
      "\n",
      "        HF eps Pr(>F[HF])\n",
      "Order 1.008692   0.320849\n",
      "\n"
     ]
    }
   ],
   "source": [
    "model = afex.aov_ez(id='Subject', dv='Searches', data=df, within=['Order'])\n",
    "print(r.summary(model))"
   ]
  },
  {
   "cell_type": "markdown",
   "metadata": {},
   "source": [
    "Conduct a repeated measures ANOVA on Searches by Engine."
   ]
  },
  {
   "cell_type": "code",
   "execution_count": 26,
   "metadata": {
    "scrolled": true
   },
   "outputs": [
    {
     "name": "stdout",
     "output_type": "stream",
     "text": [
      "\n",
      "Univariate Type III Repeated-Measures ANOVA Assuming Sphericity\n",
      "\n",
      "                 SS num Df Error SS den Df         F Pr(>F)    \n",
      "(Intercept) 2351280      1    25351     29 2689.7318 <2e-16 ***\n",
      "Engine         5987      2    60787     58    2.8562 0.0656 .  \n",
      "---\n",
      "Signif. codes:  0 ‘***’ 0.001 ‘**’ 0.01 ‘*’ 0.05 ‘.’ 0.1 ‘ ’ 1\n",
      "\n",
      "\n",
      "Mauchly Tests for Sphericity\n",
      "\n",
      "       Test statistic p-value\n",
      "Engine        0.94203 0.43343\n",
      "\n",
      "\n",
      "Greenhouse-Geisser and Huynh-Feldt Corrections\n",
      " for Departure from Sphericity\n",
      "\n",
      "        GG eps Pr(>F[GG])  \n",
      "Engine 0.94521    0.06895 .\n",
      "---\n",
      "Signif. codes:  0 ‘***’ 0.001 ‘**’ 0.01 ‘*’ 0.05 ‘.’ 0.1 ‘ ’ 1\n",
      "\n",
      "         HF eps Pr(>F[HF])\n",
      "Engine 1.009098 0.06560302\n",
      "\n"
     ]
    }
   ],
   "source": [
    "model = afex.aov_ez(id='Subject', dv='Searches', data=df, within=['Engine'])\n",
    "afex.summary_afex_aov(model)\n",
    "print(r.summary(model))"
   ]
  },
  {
   "cell_type": "code",
   "execution_count": 27,
   "metadata": {},
   "outputs": [
    {
     "name": "stdout",
     "output_type": "stream",
     "text": [
      "$lsmeans\n",
      " Engine   lsmean       SE    df lower.CL upper.CL\n",
      " Bing   159.8333 5.744831 86.41 148.4138 171.2529\n",
      " Google 152.6667 5.744831 86.41 141.2471 164.0862\n",
      " Yahoo  172.4000 5.744831 86.41 160.9804 183.8196\n",
      "\n",
      "Confidence level used: 0.95 \n",
      "\n",
      "$contrasts\n",
      " contrast         estimate       SE df t.ratio p.value\n",
      " Bing - Google    7.166667 8.358844 58   0.857  0.3948\n",
      " Bing - Yahoo   -12.566667 8.358844 58  -1.503  0.2763\n",
      " Google - Yahoo -19.733333 8.358844 58  -2.361  0.0649\n",
      "\n",
      "P value adjustment: holm method for 3 tests \n",
      "\n",
      "\n"
     ]
    }
   ],
   "source": [
    "pairwise = lsm.lsmeans(model, \"Engine\", contr=\"pairwise\", adjust=\"holm\")\n",
    "print(r.summary(pairwise))"
   ]
  },
  {
   "cell_type": "markdown",
   "metadata": {},
   "source": [
    "Whatever your previous answer, proceed to do post hoc pairwise comparisons. Conduct manual pairwise comparisons of Searches among levels of Engine using paired-samples t-tests, assuming equal variances and using Holm's sequential Bonferroni procedure to correct for multiple comparisons. "
   ]
  },
  {
   "cell_type": "code",
   "execution_count": 37,
   "metadata": {},
   "outputs": [
    {
     "name": "stdout",
     "output_type": "stream",
     "text": [
      "0.0506671406499\n"
     ]
    }
   ],
   "source": [
    "groups = df.sort_values('Subject').groupby(['Engine'])\n",
    "\n",
    "# Use scipy t-test and adjustment.\n",
    "#pvals = [None]*3\n",
    "#pvals[0] = sp.stats.ttest_ind(groups.get_group('Bing').Searches,\n",
    "#                              groups.get_group('Google').Searches)[1]\n",
    "#pvals[1] = sp.stats.ttest_ind(groups.get_group('Bing').Searches,\n",
    "#                              groups.get_group('Yahoo').Searches)[1]\n",
    "#pvals[2] = sp.stats.ttest_ind(groups.get_group('Google').Searches,\n",
    "#                              groups.get_group('Yahoo').Searches)[1]\n",
    "\n",
    "#(reject, pvals_corrected, _, _) = sm.sandbox.stats.multicomp.multipletests(pvals, method='holm')\n",
    "#print min(pvals_corrected)\n",
    "\n",
    "# Use R t-test and adjustment.\n",
    "pvals[0] = t_test(groups.get_group('Bing').Searches,\n",
    "                  groups.get_group('Google').Searches, paired=True, var_equal=True)[2]\n",
    "pvals[1] = t_test(groups.get_group('Bing').Searches,\n",
    "                  groups.get_group('Yahoo').Searches, paired=True, var_equal=True)[2]\n",
    "pvals[2] = t_test(groups.get_group('Google').Searches,\n",
    "                  groups.get_group('Yahoo').Searches, paired=True, var_equal=True)[2]\n",
    "\n",
    "pvals_corrected = p_adjust(pvals, method='holm')\n",
    "print min(pvals_corrected)"
   ]
  },
  {
   "cell_type": "markdown",
   "metadata": {},
   "source": [
    "Conduct a nonparametric Friedman test on the Effort Likert-type ratings. Calculate an asymptotic p-value. To the nearest ten-thousandth (four digits), what is the Chi-Square statistic from such a"
   ]
  },
  {
   "cell_type": "code",
   "execution_count": 29,
   "metadata": {},
   "outputs": [
    {
     "data": {
      "text/plain": [
       "8.0181818181818425"
      ]
     },
     "execution_count": 29,
     "metadata": {},
     "output_type": "execute_result"
    }
   ],
   "source": [
    "groups = df.sort_values('Subject').groupby(['Engine'])\n",
    "\n",
    "measurements = [groups.get_group(x).Effort for x in groups.groups]\n",
    "\n",
    "# Use scipy friedman test.\n",
    "(statistic, pvalue) = sp.stats.friedmanchisquare(*measurements)\n",
    "\n",
    "# Use R friedman test.\n",
    "#x = pd.DataFrame()\n",
    "#x['0'] = measurements[0].as_matrix()\n",
    "#x['1'] = measurements[1].as_matrix()\n",
    "#x['2'] = measurements[2].as_matrix()\n",
    "#(statistic, parameter, pvalue, method, _) = friedman_test(x.as_matrix(), distribution='asymptotic')\n",
    "\n",
    "statistic"
   ]
  },
  {
   "cell_type": "markdown",
   "metadata": {},
   "source": [
    "Whatever your previous answer, proceed to do post hoc pairwise comparisons. Conduct manual pairwise comparisons of Effort among levels of Engine with Wilcoxon signed-rank tests, using Holm's sequential Bonferroni procedure to correct for multiple comparisons. "
   ]
  },
  {
   "cell_type": "code",
   "execution_count": 30,
   "metadata": {},
   "outputs": [
    {
     "data": {
      "text/plain": [
       "0.03085189532524923"
      ]
     },
     "execution_count": 30,
     "metadata": {},
     "output_type": "execute_result"
    }
   ],
   "source": [
    "groups = df.sort_values('Subject').groupby(['Engine'])\n",
    "\n",
    "a = ro.FloatVector(groups.get_group('Bing').Effort)\n",
    "b = ro.FloatVector(groups.get_group('Google').Effort)\n",
    "c = ro.FloatVector(groups.get_group('Yahoo').Effort)\n",
    "\n",
    "pvals = [None]*3\n",
    "pvals[0] = wilcox_test(a, b, paired=True, exact=False)[2]\n",
    "pvals[1] = wilcox_test(a, c, paired=True, exact=False)[2]\n",
    "pvals[2] = wilcox_test(b, c, paired=True, exact=False)[2]\n",
    "\n",
    "adjusted_pvals = p_adjust(pvals, method=\"holm\")\n",
    "min(adjusted_pvals)"
   ]
  },
  {
   "cell_type": "markdown",
   "metadata": {},
   "source": [
    "# References\n",
    "\n",
    "1. http://benalexkeen.com/comparative-statistics-in-python-using-scipy/\n",
    "2. https://www.marsja.se/repeated-measures-anova-using-python/\n",
    "3. https://www.youtube.com/watch?v=IXavu8skv9I\n",
    "4. http://pythonplot.com/\n",
    "5. https://www.r-statistics.com/tag/friedman-test/"
   ]
  },
  {
   "cell_type": "markdown",
   "metadata": {},
   "source": [
    "# Answers\n",
    "\n",
    "1. 30\n",
    "2. 165.97\n",
    "3. 0.7343\n",
    "4. 2.5021\n",
    "5. 0.5016\n",
    "6. 30\n",
    "7. 172.40\n",
    "8. 0.94165\n",
    "9. 0.3208\n",
    "10. 0.942\n",
    "11. 0.0656\n",
    "12. No\n",
    "13. 0.0507\n",
    "14. 8.0182\n",
    "15. Yes\n",
    "16. 0.0309"
   ]
  }
 ],
 "metadata": {
  "kernelspec": {
   "display_name": "Python 2",
   "language": "python",
   "name": "python2"
  },
  "language_info": {
   "codemirror_mode": {
    "name": "ipython",
    "version": 2
   },
   "file_extension": ".py",
   "mimetype": "text/x-python",
   "name": "python",
   "nbconvert_exporter": "python",
   "pygments_lexer": "ipython2",
   "version": "2.7.14"
  }
 },
 "nbformat": 4,
 "nbformat_minor": 2
}
