{
 "cells": [
  {
   "cell_type": "code",
   "execution_count": 1,
   "metadata": {
    "collapsed": true
   },
   "outputs": [],
   "source": [
    "import pandas as pd\n",
    "\n",
    "from plotnine import *\n",
    "\n",
    "import rpy2.robjects as ro\n",
    "import rpy2.robjects.packages as rpackages\n",
    "import rpy2.robjects.vectors as rvectors\n",
    "from rpy2.robjects import pandas2ri\n",
    "\n",
    "import scipy as sp\n",
    "import statsmodels as sm\n",
    "\n",
    "%matplotlib inline\n",
    "r = ro.r"
   ]
  },
  {
   "cell_type": "markdown",
   "metadata": {},
   "source": [
    "Activate the pandas conversion for rpy2. See, https://pandas.pydata.org/pandas-docs/stable/r_interface.html"
   ]
  },
  {
   "cell_type": "code",
   "execution_count": 2,
   "metadata": {
    "collapsed": true
   },
   "outputs": [],
   "source": [
    "pandas2ri.activate()"
   ]
  },
  {
   "cell_type": "markdown",
   "metadata": {},
   "source": [
    "Import the R packages that will be used in this analysis."
   ]
  },
  {
   "cell_type": "code",
   "execution_count": 3,
   "metadata": {
    "collapsed": true
   },
   "outputs": [],
   "source": [
    "packageNames = ('afex', 'lsmeans', 'coin', 'ARTool', 'phia')\n",
    " \n",
    "if all(rpackages.isinstalled(x) for x in packageNames):\n",
    "    have_packages = True\n",
    "else:\n",
    "   have_packages = False\n",
    " \n",
    "if not have_packages:\n",
    "    utils = rpackages.importr('utils')\n",
    "    utils.chooseCRANmirror(ind=1)\n",
    "    packnames_to_install = [x for x in packageNames if not rpackages.isinstalled(x)]\n",
    " \n",
    "    if len(packnames_to_install) > 0: \n",
    "        utils.install_packages(rvectors.StrVector(packnames_to_install))"
   ]
  },
  {
   "cell_type": "code",
   "execution_count": 4,
   "metadata": {
    "collapsed": true
   },
   "outputs": [],
   "source": [
    "lsm  = rpackages.importr('lsmeans')\n",
    "afex = rpackages.importr('afex') \n",
    "coin = rpackages.importr('coin')\n",
    "art = rpackages.importr('ARTool')\n",
    "phia = rpackages.importr('phia')\n",
    "\n",
    "t_test = ro.r('t.test')\n",
    "friedman_test = ro.r('friedman.test')\n",
    "wilcox_test = ro.r('wilcox.test')\n",
    "p_adjust = ro.r('p.adjust')"
   ]
  },
  {
   "cell_type": "markdown",
   "metadata": {},
   "source": [
    "Set the theme to use in plotnine."
   ]
  },
  {
   "cell_type": "code",
   "execution_count": 5,
   "metadata": {
    "collapsed": true
   },
   "outputs": [],
   "source": [
    "theme_set(theme_xkcd())"
   ]
  },
  {
   "cell_type": "code",
   "execution_count": 6,
   "metadata": {},
   "outputs": [],
   "source": [
    "df = pd.read_csv(\"avatars.csv\")\n",
    "df.Subject = df.Subject.astype('category')\n",
    "df.Sex = df.Sex.astype('category')\n",
    "df.Avatar = df.Avatar.astype('category')\n",
    "df.Positives = df.Positives.astype(int)"
   ]
  },
  {
   "cell_type": "code",
   "execution_count": 7,
   "metadata": {},
   "outputs": [
    {
     "data": {
      "text/html": [
       "<div>\n",
       "<style scoped>\n",
       "    .dataframe tbody tr th:only-of-type {\n",
       "        vertical-align: middle;\n",
       "    }\n",
       "\n",
       "    .dataframe tbody tr th {\n",
       "        vertical-align: top;\n",
       "    }\n",
       "\n",
       "    .dataframe thead th {\n",
       "        text-align: right;\n",
       "    }\n",
       "</style>\n",
       "<table border=\"1\" class=\"dataframe\">\n",
       "  <thead>\n",
       "    <tr style=\"text-align: right;\">\n",
       "      <th></th>\n",
       "      <th>Subject</th>\n",
       "      <th>Sex</th>\n",
       "      <th>Avatar</th>\n",
       "      <th>Positives</th>\n",
       "    </tr>\n",
       "  </thead>\n",
       "  <tbody>\n",
       "    <tr>\n",
       "      <th>0</th>\n",
       "      <td>1</td>\n",
       "      <td>Male</td>\n",
       "      <td>Male</td>\n",
       "      <td>78</td>\n",
       "    </tr>\n",
       "    <tr>\n",
       "      <th>1</th>\n",
       "      <td>2</td>\n",
       "      <td>Female</td>\n",
       "      <td>Male</td>\n",
       "      <td>104</td>\n",
       "    </tr>\n",
       "    <tr>\n",
       "      <th>2</th>\n",
       "      <td>3</td>\n",
       "      <td>Male</td>\n",
       "      <td>Female</td>\n",
       "      <td>89</td>\n",
       "    </tr>\n",
       "    <tr>\n",
       "      <th>3</th>\n",
       "      <td>4</td>\n",
       "      <td>Female</td>\n",
       "      <td>Female</td>\n",
       "      <td>71</td>\n",
       "    </tr>\n",
       "    <tr>\n",
       "      <th>4</th>\n",
       "      <td>5</td>\n",
       "      <td>Male</td>\n",
       "      <td>Male</td>\n",
       "      <td>61</td>\n",
       "    </tr>\n",
       "    <tr>\n",
       "      <th>5</th>\n",
       "      <td>6</td>\n",
       "      <td>Female</td>\n",
       "      <td>Male</td>\n",
       "      <td>65</td>\n",
       "    </tr>\n",
       "    <tr>\n",
       "      <th>6</th>\n",
       "      <td>7</td>\n",
       "      <td>Male</td>\n",
       "      <td>Female</td>\n",
       "      <td>109</td>\n",
       "    </tr>\n",
       "    <tr>\n",
       "      <th>7</th>\n",
       "      <td>8</td>\n",
       "      <td>Female</td>\n",
       "      <td>Female</td>\n",
       "      <td>47</td>\n",
       "    </tr>\n",
       "    <tr>\n",
       "      <th>8</th>\n",
       "      <td>9</td>\n",
       "      <td>Male</td>\n",
       "      <td>Male</td>\n",
       "      <td>65</td>\n",
       "    </tr>\n",
       "    <tr>\n",
       "      <th>9</th>\n",
       "      <td>10</td>\n",
       "      <td>Female</td>\n",
       "      <td>Male</td>\n",
       "      <td>107</td>\n",
       "    </tr>\n",
       "  </tbody>\n",
       "</table>\n",
       "</div>"
      ],
      "text/plain": [
       "  Subject     Sex  Avatar  Positives\n",
       "0       1    Male    Male         78\n",
       "1       2  Female    Male        104\n",
       "2       3    Male  Female         89\n",
       "3       4  Female  Female         71\n",
       "4       5    Male    Male         61\n",
       "5       6  Female    Male         65\n",
       "6       7    Male  Female        109\n",
       "7       8  Female  Female         47\n",
       "8       9    Male    Male         65\n",
       "9      10  Female    Male        107"
      ]
     },
     "execution_count": 7,
     "metadata": {},
     "output_type": "execute_result"
    }
   ],
   "source": [
    "df.head(10)"
   ]
  },
  {
   "cell_type": "code",
   "execution_count": 8,
   "metadata": {},
   "outputs": [
    {
     "data": {
      "text/html": [
       "<div>\n",
       "<style scoped>\n",
       "    .dataframe tbody tr th:only-of-type {\n",
       "        vertical-align: middle;\n",
       "    }\n",
       "\n",
       "    .dataframe tbody tr th {\n",
       "        vertical-align: top;\n",
       "    }\n",
       "\n",
       "    .dataframe thead tr th {\n",
       "        text-align: left;\n",
       "    }\n",
       "\n",
       "    .dataframe thead tr:last-of-type th {\n",
       "        text-align: right;\n",
       "    }\n",
       "</style>\n",
       "<table border=\"1\" class=\"dataframe\">\n",
       "  <thead>\n",
       "    <tr>\n",
       "      <th></th>\n",
       "      <th colspan=\"8\" halign=\"left\">Positives</th>\n",
       "    </tr>\n",
       "    <tr>\n",
       "      <th></th>\n",
       "      <th>count</th>\n",
       "      <th>mean</th>\n",
       "      <th>std</th>\n",
       "      <th>min</th>\n",
       "      <th>25%</th>\n",
       "      <th>50%</th>\n",
       "      <th>75%</th>\n",
       "      <th>max</th>\n",
       "    </tr>\n",
       "    <tr>\n",
       "      <th>Sex</th>\n",
       "      <th></th>\n",
       "      <th></th>\n",
       "      <th></th>\n",
       "      <th></th>\n",
       "      <th></th>\n",
       "      <th></th>\n",
       "      <th></th>\n",
       "      <th></th>\n",
       "    </tr>\n",
       "  </thead>\n",
       "  <tbody>\n",
       "    <tr>\n",
       "      <th>Female</th>\n",
       "      <td>30.0</td>\n",
       "      <td>74.166667</td>\n",
       "      <td>24.140513</td>\n",
       "      <td>32.0</td>\n",
       "      <td>62.50</td>\n",
       "      <td>68.5</td>\n",
       "      <td>87.75</td>\n",
       "      <td>149.0</td>\n",
       "    </tr>\n",
       "    <tr>\n",
       "      <th>Male</th>\n",
       "      <td>30.0</td>\n",
       "      <td>96.033333</td>\n",
       "      <td>19.460806</td>\n",
       "      <td>61.0</td>\n",
       "      <td>83.25</td>\n",
       "      <td>93.5</td>\n",
       "      <td>109.75</td>\n",
       "      <td>135.0</td>\n",
       "    </tr>\n",
       "  </tbody>\n",
       "</table>\n",
       "</div>"
      ],
      "text/plain": [
       "       Positives                                                        \n",
       "           count       mean        std   min    25%   50%     75%    max\n",
       "Sex                                                                     \n",
       "Female      30.0  74.166667  24.140513  32.0  62.50  68.5   87.75  149.0\n",
       "Male        30.0  96.033333  19.460806  61.0  83.25  93.5  109.75  135.0"
      ]
     },
     "execution_count": 8,
     "metadata": {},
     "output_type": "execute_result"
    }
   ],
   "source": [
    "df.groupby(['Sex']).describe()"
   ]
  },
  {
   "cell_type": "code",
   "execution_count": 9,
   "metadata": {},
   "outputs": [
    {
     "data": {
      "text/html": [
       "<div>\n",
       "<style scoped>\n",
       "    .dataframe tbody tr th:only-of-type {\n",
       "        vertical-align: middle;\n",
       "    }\n",
       "\n",
       "    .dataframe tbody tr th {\n",
       "        vertical-align: top;\n",
       "    }\n",
       "\n",
       "    .dataframe thead tr th {\n",
       "        text-align: left;\n",
       "    }\n",
       "\n",
       "    .dataframe thead tr:last-of-type th {\n",
       "        text-align: right;\n",
       "    }\n",
       "</style>\n",
       "<table border=\"1\" class=\"dataframe\">\n",
       "  <thead>\n",
       "    <tr>\n",
       "      <th></th>\n",
       "      <th colspan=\"8\" halign=\"left\">Positives</th>\n",
       "    </tr>\n",
       "    <tr>\n",
       "      <th></th>\n",
       "      <th>count</th>\n",
       "      <th>mean</th>\n",
       "      <th>std</th>\n",
       "      <th>min</th>\n",
       "      <th>25%</th>\n",
       "      <th>50%</th>\n",
       "      <th>75%</th>\n",
       "      <th>max</th>\n",
       "    </tr>\n",
       "    <tr>\n",
       "      <th>Avatar</th>\n",
       "      <th></th>\n",
       "      <th></th>\n",
       "      <th></th>\n",
       "      <th></th>\n",
       "      <th></th>\n",
       "      <th></th>\n",
       "      <th></th>\n",
       "      <th></th>\n",
       "    </tr>\n",
       "  </thead>\n",
       "  <tbody>\n",
       "    <tr>\n",
       "      <th>Female</th>\n",
       "      <td>30.0</td>\n",
       "      <td>81.933333</td>\n",
       "      <td>26.122963</td>\n",
       "      <td>32.0</td>\n",
       "      <td>64.00</td>\n",
       "      <td>77.5</td>\n",
       "      <td>103.50</td>\n",
       "      <td>135.0</td>\n",
       "    </tr>\n",
       "    <tr>\n",
       "      <th>Male</th>\n",
       "      <td>30.0</td>\n",
       "      <td>88.266667</td>\n",
       "      <td>22.486675</td>\n",
       "      <td>54.0</td>\n",
       "      <td>73.25</td>\n",
       "      <td>84.5</td>\n",
       "      <td>104.75</td>\n",
       "      <td>149.0</td>\n",
       "    </tr>\n",
       "  </tbody>\n",
       "</table>\n",
       "</div>"
      ],
      "text/plain": [
       "       Positives                                                        \n",
       "           count       mean        std   min    25%   50%     75%    max\n",
       "Avatar                                                                  \n",
       "Female      30.0  81.933333  26.122963  32.0  64.00  77.5  103.50  135.0\n",
       "Male        30.0  88.266667  22.486675  54.0  73.25  84.5  104.75  149.0"
      ]
     },
     "execution_count": 9,
     "metadata": {},
     "output_type": "execute_result"
    }
   ],
   "source": [
    "df.groupby(['Avatar']).describe()"
   ]
  },
  {
   "cell_type": "markdown",
   "metadata": {},
   "source": [
    "Determine how many subjects took part in this experiment?"
   ]
  },
  {
   "cell_type": "code",
   "execution_count": 10,
   "metadata": {},
   "outputs": [
    {
     "data": {
      "text/plain": [
       "60"
      ]
     },
     "execution_count": 10,
     "metadata": {},
     "output_type": "execute_result"
    }
   ],
   "source": [
    "df.Subject.nunique()"
   ]
  },
  {
   "cell_type": "code",
   "execution_count": 11,
   "metadata": {},
   "outputs": [
    {
     "data": {
      "text/html": [
       "<div>\n",
       "<style scoped>\n",
       "    .dataframe tbody tr th:only-of-type {\n",
       "        vertical-align: middle;\n",
       "    }\n",
       "\n",
       "    .dataframe tbody tr th {\n",
       "        vertical-align: top;\n",
       "    }\n",
       "\n",
       "    .dataframe thead tr th {\n",
       "        text-align: left;\n",
       "    }\n",
       "\n",
       "    .dataframe thead tr:last-of-type th {\n",
       "        text-align: right;\n",
       "    }\n",
       "</style>\n",
       "<table border=\"1\" class=\"dataframe\">\n",
       "  <thead>\n",
       "    <tr>\n",
       "      <th></th>\n",
       "      <th></th>\n",
       "      <th colspan=\"8\" halign=\"left\">Positives</th>\n",
       "    </tr>\n",
       "    <tr>\n",
       "      <th></th>\n",
       "      <th></th>\n",
       "      <th>count</th>\n",
       "      <th>mean</th>\n",
       "      <th>std</th>\n",
       "      <th>min</th>\n",
       "      <th>25%</th>\n",
       "      <th>50%</th>\n",
       "      <th>75%</th>\n",
       "      <th>max</th>\n",
       "    </tr>\n",
       "    <tr>\n",
       "      <th>Sex</th>\n",
       "      <th>Avatar</th>\n",
       "      <th></th>\n",
       "      <th></th>\n",
       "      <th></th>\n",
       "      <th></th>\n",
       "      <th></th>\n",
       "      <th></th>\n",
       "      <th></th>\n",
       "      <th></th>\n",
       "    </tr>\n",
       "  </thead>\n",
       "  <tbody>\n",
       "    <tr>\n",
       "      <th rowspan=\"2\" valign=\"top\">Female</th>\n",
       "      <th>Female</th>\n",
       "      <td>15.0</td>\n",
       "      <td>63.133333</td>\n",
       "      <td>17.484142</td>\n",
       "      <td>32.0</td>\n",
       "      <td>55.0</td>\n",
       "      <td>64.0</td>\n",
       "      <td>68.5</td>\n",
       "      <td>102.0</td>\n",
       "    </tr>\n",
       "    <tr>\n",
       "      <th>Male</th>\n",
       "      <td>15.0</td>\n",
       "      <td>85.200000</td>\n",
       "      <td>25.310077</td>\n",
       "      <td>54.0</td>\n",
       "      <td>68.0</td>\n",
       "      <td>81.0</td>\n",
       "      <td>98.0</td>\n",
       "      <td>149.0</td>\n",
       "    </tr>\n",
       "    <tr>\n",
       "      <th rowspan=\"2\" valign=\"top\">Male</th>\n",
       "      <th>Female</th>\n",
       "      <td>15.0</td>\n",
       "      <td>100.733333</td>\n",
       "      <td>18.721518</td>\n",
       "      <td>70.0</td>\n",
       "      <td>88.0</td>\n",
       "      <td>104.0</td>\n",
       "      <td>109.5</td>\n",
       "      <td>135.0</td>\n",
       "    </tr>\n",
       "    <tr>\n",
       "      <th>Male</th>\n",
       "      <td>15.0</td>\n",
       "      <td>91.333333</td>\n",
       "      <td>19.663842</td>\n",
       "      <td>61.0</td>\n",
       "      <td>80.5</td>\n",
       "      <td>85.0</td>\n",
       "      <td>108.5</td>\n",
       "      <td>126.0</td>\n",
       "    </tr>\n",
       "  </tbody>\n",
       "</table>\n",
       "</div>"
      ],
      "text/plain": [
       "              Positives                                                   \\\n",
       "                  count        mean        std   min   25%    50%    75%   \n",
       "Sex    Avatar                                                              \n",
       "Female Female      15.0   63.133333  17.484142  32.0  55.0   64.0   68.5   \n",
       "       Male        15.0   85.200000  25.310077  54.0  68.0   81.0   98.0   \n",
       "Male   Female      15.0  100.733333  18.721518  70.0  88.0  104.0  109.5   \n",
       "       Male        15.0   91.333333  19.663842  61.0  80.5   85.0  108.5   \n",
       "\n",
       "                      \n",
       "                 max  \n",
       "Sex    Avatar         \n",
       "Female Female  102.0  \n",
       "       Male    149.0  \n",
       "Male   Female  135.0  \n",
       "       Male    126.0  "
      ]
     },
     "execution_count": 11,
     "metadata": {},
     "output_type": "execute_result"
    }
   ],
   "source": [
    "df.groupby(['Sex', 'Avatar']).describe()"
   ]
  },
  {
   "cell_type": "code",
   "execution_count": 12,
   "metadata": {},
   "outputs": [
    {
     "data": {
      "text/plain": [
       "Positives    100.733333\n",
       "dtype: float64"
      ]
     },
     "execution_count": 12,
     "metadata": {},
     "output_type": "execute_result"
    }
   ],
   "source": [
    "df.groupby(['Sex', 'Avatar']).mean().max()"
   ]
  },
  {
   "cell_type": "code",
   "execution_count": 13,
   "metadata": {},
   "outputs": [],
   "source": [
    "groups = df.groupby(['Sex', 'Avatar']).mean().reset_index()"
   ]
  },
  {
   "cell_type": "code",
   "execution_count": 14,
   "metadata": {},
   "outputs": [
    {
     "data": {
      "image/png": "[encoded data removed]",
      "text/plain": [
       "<matplotlib.figure.Figure at 0x11c0b59d0>"
      ]
     },
     "metadata": {},
     "output_type": "display_data"
    },
    {
     "data": {
      "text/plain": [
       "<ggplot: (294087365)>"
      ]
     },
     "execution_count": 14,
     "metadata": {},
     "output_type": "execute_result"
    }
   ],
   "source": [
    "(\n",
    "    ggplot(df, aes(x='Sex', y='Positives')) +\n",
    "    geom_boxplot()\n",
    ")"
   ]
  },
  {
   "cell_type": "code",
   "execution_count": 15,
   "metadata": {},
   "outputs": [
    {
     "data": {
      "image/png": "[encoded data removed]",
      "text/plain": [
       "<matplotlib.figure.Figure at 0x11c125f90>"
      ]
     },
     "metadata": {},
     "output_type": "display_data"
    },
    {
     "data": {
      "text/plain": [
       "<ggplot: (297875057)>"
      ]
     },
     "execution_count": 15,
     "metadata": {},
     "output_type": "execute_result"
    }
   ],
   "source": [
    "groups = df.groupby(['Sex', 'Avatar']).mean().reset_index()\n",
    "\n",
    "(\n",
    "    ggplot(groups) +\n",
    "    aes(x='Sex', y='Positives', group = 'Avatar', color='Avatar') +\n",
    "    geom_line() +\n",
    "    geom_point()\n",
    ")"
   ]
  },
  {
   "cell_type": "code",
   "execution_count": 16,
   "metadata": {},
   "outputs": [
    {
     "data": {
      "image/png": "[encoded data removed]",
      "text/plain": [
       "<matplotlib.figure.Figure at 0x11c1b3c90>"
      ]
     },
     "metadata": {},
     "output_type": "display_data"
    },
    {
     "data": {
      "text/plain": [
       "<ggplot: (298048897)>"
      ]
     },
     "execution_count": 16,
     "metadata": {},
     "output_type": "execute_result"
    }
   ],
   "source": [
    "(\n",
    "    ggplot(groups) +\n",
    "    aes(x='Avatar', y='Positives', group = 'Sex', color='Sex') +\n",
    "    geom_line() +\n",
    "    geom_point()\n",
    ")"
   ]
  },
  {
   "cell_type": "code",
   "execution_count": 17,
   "metadata": {},
   "outputs": [
    {
     "name": "stdout",
     "output_type": "stream",
     "text": [
      "Anova Table (Type 3 tests)\n",
      "\n",
      "Response: Positives\n",
      "           num Df den Df    MSE       F      ges    Pr(>F)    \n",
      "Sex             1     56 420.86 17.0418 0.233315 0.0001228 ***\n",
      "Avatar          1     56 420.86  1.4296 0.024893 0.2368686    \n",
      "Sex:Avatar      1     56 420.86  8.8225 0.136102 0.0043758 ** \n",
      "---\n",
      "Signif. codes:  0 ‘***’ 0.001 ‘**’ 0.01 ‘*’ 0.05 ‘.’ 0.1 ‘ ’ 1\n",
      "\n"
     ]
    },
    {
     "name": "stderr",
     "output_type": "stream",
     "text": [
      "/usr/local/lib/python2.7/site-packages/rpy2/robjects/functions.py:106: UserWarning: Contrasts set to contr.sum for the following variables: Sex, Avatar\n",
      "\n",
      "  res = super(Function, self).__call__(*new_args, **new_kwargs)\n"
     ]
    }
   ],
   "source": [
    "model = afex.aov_ez(id='Subject', dv='Positives', data=df, between=['Sex', 'Avatar'])\n",
    "print(r.summary(model))"
   ]
  },
  {
   "cell_type": "code",
   "execution_count": 30,
   "metadata": {},
   "outputs": [
    {
     "name": "stdout",
     "output_type": "stream",
     "text": [
      "[<FloatVector - Python:0x11c716290 / R:0x7ff97c0dc478>\n",
      "[0.010243], <FloatVector - Python:0x11c719200 / R:0x7ff97c0ea3b8>\n",
      "[0.190760]]\n",
      "0.020486015521\n"
     ]
    }
   ],
   "source": [
    "groups = df.sort_values('Subject').groupby(['Sex', 'Avatar'])\n",
    "\n",
    "female_male = groups.get_group(('Female', 'Male'))\n",
    "female_female =  groups.get_group(('Female', 'Female'))\n",
    "\n",
    "male_male = groups.get_group(('Male', 'Male'))\n",
    "male_female =  groups.get_group(('Male', 'Female'))\n",
    "\n",
    "pvals = [None]*2\n",
    "\n",
    "# Use R t-test and adjustment.\n",
    "pvals[0] = t_test(female_male.Positives,\n",
    "                  female_female.Positives, paired=False, var_equal=True)[2]\n",
    "\n",
    "pvals[1] = t_test(male_male.Positives,\n",
    "                  male_female.Positives, paired=False, var_equal=True)[2]\n",
    "\n",
    "pvals_corrected = p_adjust(pvals, method='holm')\n",
    "print pvals\n",
    "print min(pvals_corrected)"
   ]
  },
  {
   "cell_type": "code",
   "execution_count": 31,
   "metadata": {},
   "outputs": [
    {
     "data": {
      "text/html": [
       "<div>\n",
       "<style scoped>\n",
       "    .dataframe tbody tr th:only-of-type {\n",
       "        vertical-align: middle;\n",
       "    }\n",
       "\n",
       "    .dataframe tbody tr th {\n",
       "        vertical-align: top;\n",
       "    }\n",
       "\n",
       "    .dataframe thead th {\n",
       "        text-align: right;\n",
       "    }\n",
       "</style>\n",
       "<table border=\"1\" class=\"dataframe\">\n",
       "  <thead>\n",
       "    <tr style=\"text-align: right;\">\n",
       "      <th></th>\n",
       "      <th>Subject</th>\n",
       "      <th>Phone</th>\n",
       "      <th>Notes</th>\n",
       "      <th>Order</th>\n",
       "      <th>Words</th>\n",
       "    </tr>\n",
       "  </thead>\n",
       "  <tbody>\n",
       "    <tr>\n",
       "      <th>30</th>\n",
       "      <td>16</td>\n",
       "      <td>Android</td>\n",
       "      <td>Built-in</td>\n",
       "      <td>2</td>\n",
       "      <td>449</td>\n",
       "    </tr>\n",
       "    <tr>\n",
       "      <th>31</th>\n",
       "      <td>16</td>\n",
       "      <td>Android</td>\n",
       "      <td>Add-on</td>\n",
       "      <td>1</td>\n",
       "      <td>312</td>\n",
       "    </tr>\n",
       "    <tr>\n",
       "      <th>32</th>\n",
       "      <td>17</td>\n",
       "      <td>iPhone</td>\n",
       "      <td>Built-in</td>\n",
       "      <td>1</td>\n",
       "      <td>491</td>\n",
       "    </tr>\n",
       "    <tr>\n",
       "      <th>33</th>\n",
       "      <td>17</td>\n",
       "      <td>iPhone</td>\n",
       "      <td>Add-on</td>\n",
       "      <td>2</td>\n",
       "      <td>523</td>\n",
       "    </tr>\n",
       "    <tr>\n",
       "      <th>34</th>\n",
       "      <td>18</td>\n",
       "      <td>Android</td>\n",
       "      <td>Built-in</td>\n",
       "      <td>1</td>\n",
       "      <td>259</td>\n",
       "    </tr>\n",
       "    <tr>\n",
       "      <th>35</th>\n",
       "      <td>18</td>\n",
       "      <td>Android</td>\n",
       "      <td>Add-on</td>\n",
       "      <td>2</td>\n",
       "      <td>418</td>\n",
       "    </tr>\n",
       "    <tr>\n",
       "      <th>36</th>\n",
       "      <td>19</td>\n",
       "      <td>iPhone</td>\n",
       "      <td>Built-in</td>\n",
       "      <td>2</td>\n",
       "      <td>510</td>\n",
       "    </tr>\n",
       "    <tr>\n",
       "      <th>37</th>\n",
       "      <td>19</td>\n",
       "      <td>iPhone</td>\n",
       "      <td>Add-on</td>\n",
       "      <td>1</td>\n",
       "      <td>545</td>\n",
       "    </tr>\n",
       "    <tr>\n",
       "      <th>38</th>\n",
       "      <td>20</td>\n",
       "      <td>Android</td>\n",
       "      <td>Built-in</td>\n",
       "      <td>2</td>\n",
       "      <td>452</td>\n",
       "    </tr>\n",
       "    <tr>\n",
       "      <th>39</th>\n",
       "      <td>20</td>\n",
       "      <td>Android</td>\n",
       "      <td>Add-on</td>\n",
       "      <td>1</td>\n",
       "      <td>433</td>\n",
       "    </tr>\n",
       "  </tbody>\n",
       "</table>\n",
       "</div>"
      ],
      "text/plain": [
       "    Subject    Phone     Notes  Order  Words\n",
       "30       16  Android  Built-in      2    449\n",
       "31       16  Android    Add-on      1    312\n",
       "32       17   iPhone  Built-in      1    491\n",
       "33       17   iPhone    Add-on      2    523\n",
       "34       18  Android  Built-in      1    259\n",
       "35       18  Android    Add-on      2    418\n",
       "36       19   iPhone  Built-in      2    510\n",
       "37       19   iPhone    Add-on      1    545\n",
       "38       20  Android  Built-in      2    452\n",
       "39       20  Android    Add-on      1    433"
      ]
     },
     "execution_count": 31,
     "metadata": {},
     "output_type": "execute_result"
    }
   ],
   "source": [
    "df = pd.read_csv(\"notes.csv\")\n",
    "df.tail(10)"
   ]
  },
  {
   "cell_type": "code",
   "execution_count": 32,
   "metadata": {
    "collapsed": true
   },
   "outputs": [],
   "source": [
    "df.Subject = df.Subject.astype('category')\n",
    "df.Phone = df.Phone.astype('category')\n",
    "df.Notes = df.Notes.astype('category')\n",
    "df.Order = df.Order.astype('category')\n",
    "df.Words = df.Words.astype(int)"
   ]
  },
  {
   "cell_type": "code",
   "execution_count": 33,
   "metadata": {},
   "outputs": [
    {
     "data": {
      "text/plain": [
       "20"
      ]
     },
     "execution_count": 33,
     "metadata": {},
     "output_type": "execute_result"
    }
   ],
   "source": [
    "df.Subject.nunique()"
   ]
  },
  {
   "cell_type": "code",
   "execution_count": 34,
   "metadata": {},
   "outputs": [
    {
     "data": {
      "text/plain": [
       "Words    533.7\n",
       "dtype: float64"
      ]
     },
     "execution_count": 34,
     "metadata": {},
     "output_type": "execute_result"
    }
   ],
   "source": [
    "groups = df.sort_values('Subject').groupby(['Phone', 'Notes'])\n",
    "groups.mean().max()"
   ]
  },
  {
   "cell_type": "code",
   "execution_count": 35,
   "metadata": {},
   "outputs": [
    {
     "name": "stdout",
     "output_type": "stream",
     "text": [
      "     Phone     Notes  Words\n",
      "0  Android    Add-on  388.1\n",
      "1  Android  Built-in  410.9\n",
      "2   iPhone    Add-on  504.2\n",
      "3   iPhone  Built-in  533.7\n"
     ]
    },
    {
     "data": {
      "image/png": "[encoded data removed]",
      "text/plain": [
       "<matplotlib.figure.Figure at 0x11c70e2d0>"
      ]
     },
     "metadata": {},
     "output_type": "display_data"
    },
    {
     "data": {
      "text/plain": [
       "<ggplot: (298048965)>"
      ]
     },
     "execution_count": 35,
     "metadata": {},
     "output_type": "execute_result"
    }
   ],
   "source": [
    "groups = df.groupby(['Phone', 'Notes']).mean().reset_index()\n",
    "print(groups)\n",
    "\n",
    "(\n",
    "    ggplot(groups) +\n",
    "    aes(x='Phone', y='Words', group = 'Notes', color='Notes') +\n",
    "    geom_line() +\n",
    "    geom_point()\n",
    ")"
   ]
  },
  {
   "cell_type": "code",
   "execution_count": 36,
   "metadata": {},
   "outputs": [
    {
     "name": "stdout",
     "output_type": "stream",
     "text": [
      "     Phone     Notes  Words\n",
      "0  Android    Add-on  388.1\n",
      "1  Android  Built-in  410.9\n",
      "2   iPhone    Add-on  504.2\n",
      "3   iPhone  Built-in  533.7\n"
     ]
    },
    {
     "data": {
      "image/png": "[encoded data removed]",
      "text/plain": [
       "<matplotlib.figure.Figure at 0x11c7af1d0>"
      ]
     },
     "metadata": {},
     "output_type": "display_data"
    },
    {
     "data": {
      "text/plain": [
       "<ggplot: (298273757)>"
      ]
     },
     "execution_count": 36,
     "metadata": {},
     "output_type": "execute_result"
    }
   ],
   "source": [
    "groups = df.groupby(['Phone', 'Notes']).mean().reset_index()\n",
    "print(groups)\n",
    "\n",
    "(\n",
    "    ggplot(groups) +\n",
    "    aes(x='Notes', y='Words', group = 'Phone', color='Phone') +\n",
    "    geom_line() +\n",
    "    geom_point()\n",
    ")"
   ]
  },
  {
   "cell_type": "code",
   "execution_count": 42,
   "metadata": {},
   "outputs": [
    {
     "name": "stdout",
     "output_type": "stream",
     "text": [
      "Anova Table (Type 3 tests)\n",
      "\n",
      "Response: Words\n",
      "            num Df den Df    MSE       F     ges    Pr(>F)    \n",
      "Phone            1     18 3275.4 43.5626 0.56875 3.376e-06 ***\n",
      "Order            1     18 2735.0  0.5487 0.01368   0.46841    \n",
      "Phone:Order      1     18 2735.0  3.0644 0.07190   0.09705 .  \n",
      "---\n",
      "Signif. codes:  0 ‘***’ 0.001 ‘**’ 0.01 ‘*’ 0.05 ‘.’ 0.1 ‘ ’ 1\n",
      "\n"
     ]
    }
   ],
   "source": [
    "model = afex.aov_ez(id='Subject', dv='Words', data=df, between=['Phone'], within=['Order'])\n",
    "print(r.anova(model))"
   ]
  },
  {
   "cell_type": "code",
   "execution_count": 40,
   "metadata": {},
   "outputs": [
    {
     "name": "stdout",
     "output_type": "stream",
     "text": [
      "Anova Table (Type 3 tests)\n",
      "\n",
      "Response: Words\n",
      "            num Df den Df    MSE       F     ges    Pr(>F)    \n",
      "Phone            1     18 3275.4 43.5626 0.56219 3.376e-06 ***\n",
      "Notes            1     18 2897.8  2.3598 0.05797    0.1419    \n",
      "Phone:Notes      1     18 2897.8  0.0387 0.00101    0.8462    \n",
      "---\n",
      "Signif. codes:  0 ‘***’ 0.001 ‘**’ 0.01 ‘*’ 0.05 ‘.’ 0.1 ‘ ’ 1\n",
      "\n"
     ]
    }
   ],
   "source": [
    "model = afex.aov_ez(id='Subject', dv='Words', data=df, between=['Phone'], within=['Notes'])\n",
    "print(r.anova(model))"
   ]
  },
  {
   "cell_type": "code",
   "execution_count": 39,
   "metadata": {},
   "outputs": [
    {
     "name": "stdout",
     "output_type": "stream",
     "text": [
      "[1] 0.1960779 0.4675674\n",
      "\n",
      "0.196077924548\n"
     ]
    }
   ],
   "source": [
    "groups = df.sort_values('Subject').groupby(['Phone', 'Notes'])\n",
    "\n",
    "iphone_built_in = groups.get_group(('iPhone', 'Built-in'))\n",
    "iphone_add_on =  groups.get_group(('iPhone', 'Add-on'))\n",
    "\n",
    "android_built_in = groups.get_group(('Android', 'Built-in'))\n",
    "android_add_on =  groups.get_group(('Android', 'Add-on'))\n",
    "\n",
    "pvals = [None]*2\n",
    "\n",
    "# Use R t-test and adjustment.\n",
    "pvals[0] = t_test(iphone_built_in.Words,\n",
    "                  iphone_add_on.Words, paired=True, var_equal=True)[2]\n",
    "\n",
    "pvals[1] = t_test(android_built_in.Words,\n",
    "                  android_add_on.Words, paired=True, var_equal=True)[2]\n",
    "\n",
    "pvals_corrected = p_adjust(pvals, method='holm')\n",
    "print pvals_corrected\n",
    "print min(pvals_corrected)"
   ]
  },
  {
   "cell_type": "code",
   "execution_count": 43,
   "metadata": {},
   "outputs": [
    {
     "data": {
      "text/html": [
       "<div>\n",
       "<style scoped>\n",
       "    .dataframe tbody tr th:only-of-type {\n",
       "        vertical-align: middle;\n",
       "    }\n",
       "\n",
       "    .dataframe tbody tr th {\n",
       "        vertical-align: top;\n",
       "    }\n",
       "\n",
       "    .dataframe thead th {\n",
       "        text-align: right;\n",
       "    }\n",
       "</style>\n",
       "<table border=\"1\" class=\"dataframe\">\n",
       "  <thead>\n",
       "    <tr style=\"text-align: right;\">\n",
       "      <th></th>\n",
       "      <th>Subject</th>\n",
       "      <th>Clip</th>\n",
       "      <th>ClipOrder</th>\n",
       "      <th>Social</th>\n",
       "      <th>SocialOrder</th>\n",
       "      <th>Valued</th>\n",
       "    </tr>\n",
       "  </thead>\n",
       "  <tbody>\n",
       "    <tr>\n",
       "      <th>0</th>\n",
       "      <td>1</td>\n",
       "      <td>positive</td>\n",
       "      <td>1</td>\n",
       "      <td>Facebook</td>\n",
       "      <td>1</td>\n",
       "      <td>85</td>\n",
       "    </tr>\n",
       "    <tr>\n",
       "      <th>1</th>\n",
       "      <td>1</td>\n",
       "      <td>positive</td>\n",
       "      <td>1</td>\n",
       "      <td>Twitter</td>\n",
       "      <td>2</td>\n",
       "      <td>53</td>\n",
       "    </tr>\n",
       "    <tr>\n",
       "      <th>2</th>\n",
       "      <td>1</td>\n",
       "      <td>negative</td>\n",
       "      <td>2</td>\n",
       "      <td>Facebook</td>\n",
       "      <td>2</td>\n",
       "      <td>38</td>\n",
       "    </tr>\n",
       "    <tr>\n",
       "      <th>3</th>\n",
       "      <td>1</td>\n",
       "      <td>negative</td>\n",
       "      <td>2</td>\n",
       "      <td>Twitter</td>\n",
       "      <td>1</td>\n",
       "      <td>52</td>\n",
       "    </tr>\n",
       "    <tr>\n",
       "      <th>4</th>\n",
       "      <td>2</td>\n",
       "      <td>positive</td>\n",
       "      <td>2</td>\n",
       "      <td>Facebook</td>\n",
       "      <td>2</td>\n",
       "      <td>25</td>\n",
       "    </tr>\n",
       "    <tr>\n",
       "      <th>5</th>\n",
       "      <td>2</td>\n",
       "      <td>positive</td>\n",
       "      <td>2</td>\n",
       "      <td>Twitter</td>\n",
       "      <td>1</td>\n",
       "      <td>54</td>\n",
       "    </tr>\n",
       "    <tr>\n",
       "      <th>6</th>\n",
       "      <td>2</td>\n",
       "      <td>negative</td>\n",
       "      <td>1</td>\n",
       "      <td>Facebook</td>\n",
       "      <td>1</td>\n",
       "      <td>73</td>\n",
       "    </tr>\n",
       "    <tr>\n",
       "      <th>7</th>\n",
       "      <td>2</td>\n",
       "      <td>negative</td>\n",
       "      <td>1</td>\n",
       "      <td>Twitter</td>\n",
       "      <td>2</td>\n",
       "      <td>52</td>\n",
       "    </tr>\n",
       "    <tr>\n",
       "      <th>8</th>\n",
       "      <td>3</td>\n",
       "      <td>positive</td>\n",
       "      <td>1</td>\n",
       "      <td>Facebook</td>\n",
       "      <td>1</td>\n",
       "      <td>95</td>\n",
       "    </tr>\n",
       "    <tr>\n",
       "      <th>9</th>\n",
       "      <td>3</td>\n",
       "      <td>positive</td>\n",
       "      <td>1</td>\n",
       "      <td>Twitter</td>\n",
       "      <td>2</td>\n",
       "      <td>70</td>\n",
       "    </tr>\n",
       "  </tbody>\n",
       "</table>\n",
       "</div>"
      ],
      "text/plain": [
       "   Subject      Clip  ClipOrder    Social  SocialOrder  Valued\n",
       "0        1  positive          1  Facebook            1      85\n",
       "1        1  positive          1   Twitter            2      53\n",
       "2        1  negative          2  Facebook            2      38\n",
       "3        1  negative          2   Twitter            1      52\n",
       "4        2  positive          2  Facebook            2      25\n",
       "5        2  positive          2   Twitter            1      54\n",
       "6        2  negative          1  Facebook            1      73\n",
       "7        2  negative          1   Twitter            2      52\n",
       "8        3  positive          1  Facebook            1      95\n",
       "9        3  positive          1   Twitter            2      70"
      ]
     },
     "execution_count": 43,
     "metadata": {},
     "output_type": "execute_result"
    }
   ],
   "source": [
    "df = pd.read_csv(\"socialvalue.csv\")\n",
    "df.head(10)"
   ]
  },
  {
   "cell_type": "code",
   "execution_count": null,
   "metadata": {
    "collapsed": true
   },
   "outputs": [],
   "source": [
    "df.Subject = df.Subject.astype('category')\n",
    "df.Clip = df.Clip.astype('category')\n",
    "df.ClipOrder = df.ClipOrder.astype('category')\n",
    "df.Social = df.Social.astype('category')\n",
    "df.SocialOrder = df.SocialOrder.astype('category')\n",
    "df.Valued = df.Valued.astype(int)"
   ]
  },
  {
   "cell_type": "code",
   "execution_count": null,
   "metadata": {},
   "outputs": [],
   "source": [
    "df.Subject.nunique()"
   ]
  },
  {
   "cell_type": "code",
   "execution_count": null,
   "metadata": {},
   "outputs": [],
   "source": [
    "groups = df.groupby(['Clip', 'Social']).mean().reset_index()\n",
    "print(groups.max())"
   ]
  },
  {
   "cell_type": "code",
   "execution_count": null,
   "metadata": {},
   "outputs": [],
   "source": [
    "groups = df.groupby(['Clip', 'Social']).mean().reset_index()\n",
    "print(groups)\n",
    "\n",
    "(\n",
    "    ggplot(groups) +\n",
    "    aes(x='Social', y='Valued', group = 'Clip', color='Clip') +\n",
    "    geom_line() +\n",
    "    geom_point()\n",
    ")"
   ]
  },
  {
   "cell_type": "code",
   "execution_count": null,
   "metadata": {},
   "outputs": [],
   "source": [
    "groups = df.groupby(['Clip', 'Social']).mean().reset_index()\n",
    "print(groups)\n",
    "\n",
    "(\n",
    "    ggplot(groups) +\n",
    "    aes(x='Clip', y='Valued', group = 'Social', color='Social') +\n",
    "    geom_line() +\n",
    "    geom_point()\n",
    ")"
   ]
  },
  {
   "cell_type": "code",
   "execution_count": null,
   "metadata": {},
   "outputs": [],
   "source": [
    "model = afex.aov_ez(id='Subject', dv='Valued', data=df, within=['ClipOrder', 'SocialOrder'])\n",
    "print(r.summary(model))"
   ]
  },
  {
   "cell_type": "code",
   "execution_count": null,
   "metadata": {},
   "outputs": [],
   "source": [
    "model = afex.aov_ez(id='Subject', dv='Valued', data=df, within=['Clip', 'Social'])\n",
    "print(r.summary(model))"
   ]
  },
  {
   "cell_type": "code",
   "execution_count": null,
   "metadata": {},
   "outputs": [],
   "source": [
    "groups = df.sort_values('Subject').groupby(['Social', 'Clip'])\n",
    "\n",
    "facebook_positive = groups.get_group(('Facebook', 'positive'))\n",
    "facebook_negative =  groups.get_group(('Facebook', 'negative'))\n",
    "\n",
    "twitter_positive = groups.get_group(('Twitter', 'positive'))\n",
    "twitter_negative =  groups.get_group(('Twitter', 'negative'))\n",
    "\n",
    "pvals = [None]*2\n",
    "\n",
    "# Use R t-test and adjustment.\n",
    "pvals[0] = t_test(facebook_positive.Valued,\n",
    "                  facebook_negative.Valued, paired=True, var_equal=True)[2]\n",
    "\n",
    "pvals[1] = t_test(twitter_positive.Valued,\n",
    "                  twitter_negative.Valued, paired=True, var_equal=True)[2]\n",
    "\n",
    "pvals_corrected = p_adjust(pvals, method='holm')\n",
    "print pvals_corrected\n",
    "print min(pvals_corrected)"
   ]
  },
  {
   "cell_type": "code",
   "execution_count": null,
   "metadata": {},
   "outputs": [],
   "source": [
    "model = art.art(ro.Formula('Valued ~ Clip*Social + (1|Subject)'), data=df)\n",
    "print(r.anova(model))"
   ]
  },
  {
   "cell_type": "code",
   "execution_count": null,
   "metadata": {},
   "outputs": [],
   "source": [
    "print phia.testInteractions(art.artlm(model, 'Clip:Social'), pairwise=ro.StrVector(['Clip', 'Social']), adjustment=\"holm\")"
   ]
  },
  {
   "cell_type": "markdown",
   "metadata": {},
   "source": [
    "# References\n",
    "\n",
    "1. https://sebastiansauer.github.io/vis_interaction_effects/\n",
    "2. http://pltn.ca/plotnine-superior-python-ggplot/\n",
    "3. https://quantdev.ssri.psu.edu/tutorials/five-ish-steps-create-pretty-interaction-plots-multi-level-model-r\n",
    "4. https://sakaluk.wordpress.com/2015/08/27/6-make-it-pretty-plotting-2-way-interactions-with-ggplot2/"
   ]
  },
  {
   "cell_type": "markdown",
   "metadata": {},
   "source": [
    "# Answers\n",
    "\n",
    "1. Wrong: A 2 × 2 mixed factorial design with a between-subjects factor for Sex (M, F) and a within-subjects factor for Avatar (M, F). -> None of the above.\n",
    "2. 60\n",
    "3. 100.73\n",
    "4. Yes\n",
    "5. No\n",
    "6. 17.04\n",
    "7. Main effect of Sex, Sex x Avatar interaction\n",
    "8. Wrong: 0.0205\n",
    "9. Women made significantly more positive sentiments about male avatars than they did about female avatars.\n",
    "10. A 2 × 2 mixed factorial design with a between-subjects factor for Phone (iPhone, Android) and a within-subjects factor for Notes (Built-in, Add-on).\n",
    "11. 20\n",
    "12. 534\n",
    "13. No\n",
    "14. No\n",
    "15. Wrong: 0.4903, -> 0.4684\n",
    "16. True\n",
    "17. 43.56\n",
    "18. 0.1961\n",
    "19. None of the above.\n",
    "20. Wrong: None of the above. -> A 2 × 2 within-subjects design with factors for Clip (positive, negative) and Social (Facebook, Twitter).\n",
    "21. 16\n",
    "22. 68.75\n",
    "23. No\n",
    "24. Yes\n",
    "25. 0.3484\n",
    "26. 7.00\n",
    "27. 0.0408\n",
    "28. On Facebook, people valued significantly more posts after seeing a positive film clip than a negative film clip.\n",
    "29. 17.13\n",
    "30. Wrong: False -> True\n",
    "31. 11.32\n",
    "32. True"
   ]
  },
  {
   "cell_type": "code",
   "execution_count": null,
   "metadata": {
    "collapsed": true
   },
   "outputs": [],
   "source": []
  }
 ],
 "metadata": {
  "kernelspec": {
   "display_name": "Python 2",
   "language": "python",
   "name": "python2"
  },
  "language_info": {
   "codemirror_mode": {
    "name": "ipython",
    "version": 2
   },
   "file_extension": ".py",
   "mimetype": "text/x-python",
   "name": "python",
   "nbconvert_exporter": "python",
   "pygments_lexer": "ipython2",
   "version": "2.7.14"
  }
 },
 "nbformat": 4,
 "nbformat_minor": 2
}
