{
 "cells": [
  {
   "cell_type": "code",
   "execution_count": 95,
   "metadata": {
    "collapsed": true
   },
   "outputs": [],
   "source": [
    "import pandas as pd\n",
    "\n",
    "from plotnine import *\n",
    "\n",
    "import rpy2.robjects as ro\n",
    "import rpy2.rinterface as ri\n",
    "import rpy2.robjects.packages as rpackages\n",
    "import rpy2.robjects.vectors as rvectors\n",
    "from rpy2.robjects import pandas2ri\n",
    "\n",
    "import scipy as sp\n",
    "import statsmodels as sm\n",
    "import sklearn as sk\n",
    "\n",
    "%matplotlib inline\n",
    "r = ro.r"
   ]
  },
  {
   "cell_type": "markdown",
   "metadata": {},
   "source": [
    "Activate the pandas conversion for rpy2. See, https://pandas.pydata.org/pandas-docs/stable/r_interface.html"
   ]
  },
  {
   "cell_type": "code",
   "execution_count": 96,
   "metadata": {
    "collapsed": true
   },
   "outputs": [],
   "source": [
    "pandas2ri.activate()"
   ]
  },
  {
   "cell_type": "markdown",
   "metadata": {},
   "source": [
    "Import the R packages that will be used in this analysis."
   ]
  },
  {
   "cell_type": "code",
   "execution_count": 97,
   "metadata": {
    "collapsed": true
   },
   "outputs": [],
   "source": [
    "packageNames = ('afex', 'lsmeans', 'coin', 'ARTool', 'phia', 'nnet', 'car')\n",
    " \n",
    "if all(rpackages.isinstalled(x) for x in packageNames):\n",
    "    have_packages = True\n",
    "else:\n",
    "   have_packages = False\n",
    " \n",
    "if not have_packages:\n",
    "    utils = rpackages.importr('utils')\n",
    "    utils.chooseCRANmirror(ind=1)\n",
    "    packnames_to_install = [x for x in packageNames if not rpackages.isinstalled(x)]\n",
    " \n",
    "    if len(packnames_to_install) > 0: \n",
    "        utils.install_packages(rvectors.StrVector(packnames_to_install))"
   ]
  },
  {
   "cell_type": "code",
   "execution_count": 121,
   "metadata": {
    "collapsed": true
   },
   "outputs": [],
   "source": [
    "lsm  = rpackages.importr('lsmeans')\n",
    "afex = rpackages.importr('afex') \n",
    "coin = rpackages.importr('coin')\n",
    "art = rpackages.importr('ARTool')\n",
    "phia = rpackages.importr('phia')\n",
    "nnet = rpackages.importr('nnet')\n",
    "car = rpackages.importr('car')\n",
    "fitdistrplus = rpackages.importr('fitdistrplus')\n",
    "multcomp = rpackages.importr('multcomp')\n",
    "MASS = rpackages.importr('MASS')\n",
    "\n",
    "t_test = ro.r('t.test')\n",
    "friedman_test = ro.r('friedman.test')\n",
    "wilcox_test = ro.r('wilcox.test')\n",
    "p_adjust = ro.r('p.adjust')\n",
    "contrasts = ro.r('contrasts')\n",
    "glm = ro.r('glm')\n",
    "binomial = ro.r('binomial')\n",
    "multinom = ro.r('multinom')\n",
    "binom_test = ro.r('binom.test')\n",
    "fitdist = ro.r('fitdist')\n",
    "gofstat = ro.r('gofstat')\n",
    "Anova = ro.r('Anova')\n",
    "glht = ro.r('glht')\n",
    "mcp = ro.r('mcp')\n",
    "adjusted = ro.r('adjusted')\n",
    "polr = ro.r('polr')\n",
    "lsmeans = ro.r('lsmeans')\n",
    "pairs = ro.r('pairs')\n",
    "as_glht = ro.r('as.glht')\n",
    "summary = ro.r('summary')\n",
    "contrast = ro.r('contrast')\n",
    "lsm = ro.r('lsm')"
   ]
  },
  {
   "cell_type": "markdown",
   "metadata": {},
   "source": [
    "Set the theme to use in plotnine."
   ]
  },
  {
   "cell_type": "code",
   "execution_count": 99,
   "metadata": {},
   "outputs": [
    {
     "data": {
      "text/plain": [
       "<plotnine.themes.theme_xkcd.theme_xkcd at 0x10fdd8410>"
      ]
     },
     "execution_count": 99,
     "metadata": {},
     "output_type": "execute_result"
    }
   ],
   "source": [
    "theme_set(theme_xkcd())"
   ]
  },
  {
   "cell_type": "code",
   "execution_count": 137,
   "metadata": {
    "collapsed": true
   },
   "outputs": [],
   "source": [
    "df = pd.read_csv(\"deviceprefssex.csv\")\n",
    "df.Subject = df.Subject.astype('category')\n",
    "df.Disability = df.Disability.astype('category')\n",
    "df.Sex = df.Sex.astype('category')\n",
    "df.Pref = df.Pref.astype('category')"
   ]
  },
  {
   "cell_type": "code",
   "execution_count": 138,
   "metadata": {},
   "outputs": [
    {
     "data": {
      "text/html": [
       "<div>\n",
       "<style scoped>\n",
       "    .dataframe tbody tr th:only-of-type {\n",
       "        vertical-align: middle;\n",
       "    }\n",
       "\n",
       "    .dataframe tbody tr th {\n",
       "        vertical-align: top;\n",
       "    }\n",
       "\n",
       "    .dataframe thead th {\n",
       "        text-align: right;\n",
       "    }\n",
       "</style>\n",
       "<table border=\"1\" class=\"dataframe\">\n",
       "  <thead>\n",
       "    <tr style=\"text-align: right;\">\n",
       "      <th></th>\n",
       "      <th>Subject</th>\n",
       "      <th>Disability</th>\n",
       "      <th>Sex</th>\n",
       "      <th>Pref</th>\n",
       "    </tr>\n",
       "  </thead>\n",
       "  <tbody>\n",
       "    <tr>\n",
       "      <th>0</th>\n",
       "      <td>1</td>\n",
       "      <td>1</td>\n",
       "      <td>M</td>\n",
       "      <td>trackball</td>\n",
       "    </tr>\n",
       "    <tr>\n",
       "      <th>1</th>\n",
       "      <td>2</td>\n",
       "      <td>1</td>\n",
       "      <td>F</td>\n",
       "      <td>touchpad</td>\n",
       "    </tr>\n",
       "    <tr>\n",
       "      <th>2</th>\n",
       "      <td>3</td>\n",
       "      <td>0</td>\n",
       "      <td>M</td>\n",
       "      <td>touchpad</td>\n",
       "    </tr>\n",
       "    <tr>\n",
       "      <th>3</th>\n",
       "      <td>4</td>\n",
       "      <td>0</td>\n",
       "      <td>F</td>\n",
       "      <td>trackball</td>\n",
       "    </tr>\n",
       "    <tr>\n",
       "      <th>4</th>\n",
       "      <td>5</td>\n",
       "      <td>1</td>\n",
       "      <td>M</td>\n",
       "      <td>touchpad</td>\n",
       "    </tr>\n",
       "    <tr>\n",
       "      <th>5</th>\n",
       "      <td>6</td>\n",
       "      <td>0</td>\n",
       "      <td>F</td>\n",
       "      <td>touchpad</td>\n",
       "    </tr>\n",
       "    <tr>\n",
       "      <th>6</th>\n",
       "      <td>7</td>\n",
       "      <td>0</td>\n",
       "      <td>M</td>\n",
       "      <td>touchpad</td>\n",
       "    </tr>\n",
       "    <tr>\n",
       "      <th>7</th>\n",
       "      <td>8</td>\n",
       "      <td>0</td>\n",
       "      <td>F</td>\n",
       "      <td>touchpad</td>\n",
       "    </tr>\n",
       "    <tr>\n",
       "      <th>8</th>\n",
       "      <td>9</td>\n",
       "      <td>1</td>\n",
       "      <td>M</td>\n",
       "      <td>trackball</td>\n",
       "    </tr>\n",
       "    <tr>\n",
       "      <th>9</th>\n",
       "      <td>10</td>\n",
       "      <td>1</td>\n",
       "      <td>F</td>\n",
       "      <td>trackball</td>\n",
       "    </tr>\n",
       "  </tbody>\n",
       "</table>\n",
       "</div>"
      ],
      "text/plain": [
       "  Subject Disability Sex       Pref\n",
       "0       1          1   M  trackball\n",
       "1       2          1   F   touchpad\n",
       "2       3          0   M   touchpad\n",
       "3       4          0   F  trackball\n",
       "4       5          1   M   touchpad\n",
       "5       6          0   F   touchpad\n",
       "6       7          0   M   touchpad\n",
       "7       8          0   F   touchpad\n",
       "8       9          1   M  trackball\n",
       "9      10          1   F  trackball"
      ]
     },
     "execution_count": 138,
     "metadata": {},
     "output_type": "execute_result"
    }
   ],
   "source": [
    "df.head(10)"
   ]
  },
  {
   "cell_type": "code",
   "execution_count": 139,
   "metadata": {},
   "outputs": [
    {
     "data": {
      "text/html": [
       "<div>\n",
       "<style scoped>\n",
       "    .dataframe tbody tr th:only-of-type {\n",
       "        vertical-align: middle;\n",
       "    }\n",
       "\n",
       "    .dataframe tbody tr th {\n",
       "        vertical-align: top;\n",
       "    }\n",
       "\n",
       "    .dataframe thead tr th {\n",
       "        text-align: left;\n",
       "    }\n",
       "\n",
       "    .dataframe thead tr:last-of-type th {\n",
       "        text-align: right;\n",
       "    }\n",
       "</style>\n",
       "<table border=\"1\" class=\"dataframe\">\n",
       "  <thead>\n",
       "    <tr>\n",
       "      <th></th>\n",
       "      <th colspan=\"4\" halign=\"left\">Disability</th>\n",
       "      <th colspan=\"4\" halign=\"left\">Pref</th>\n",
       "      <th colspan=\"4\" halign=\"left\">Subject</th>\n",
       "    </tr>\n",
       "    <tr>\n",
       "      <th></th>\n",
       "      <th>count</th>\n",
       "      <th>unique</th>\n",
       "      <th>top</th>\n",
       "      <th>freq</th>\n",
       "      <th>count</th>\n",
       "      <th>unique</th>\n",
       "      <th>top</th>\n",
       "      <th>freq</th>\n",
       "      <th>count</th>\n",
       "      <th>unique</th>\n",
       "      <th>top</th>\n",
       "      <th>freq</th>\n",
       "    </tr>\n",
       "    <tr>\n",
       "      <th>Sex</th>\n",
       "      <th></th>\n",
       "      <th></th>\n",
       "      <th></th>\n",
       "      <th></th>\n",
       "      <th></th>\n",
       "      <th></th>\n",
       "      <th></th>\n",
       "      <th></th>\n",
       "      <th></th>\n",
       "      <th></th>\n",
       "      <th></th>\n",
       "      <th></th>\n",
       "    </tr>\n",
       "  </thead>\n",
       "  <tbody>\n",
       "    <tr>\n",
       "      <th>F</th>\n",
       "      <td>15</td>\n",
       "      <td>2</td>\n",
       "      <td>0</td>\n",
       "      <td>11</td>\n",
       "      <td>15</td>\n",
       "      <td>2</td>\n",
       "      <td>touchpad</td>\n",
       "      <td>10</td>\n",
       "      <td>15</td>\n",
       "      <td>15</td>\n",
       "      <td>30</td>\n",
       "      <td>1</td>\n",
       "    </tr>\n",
       "    <tr>\n",
       "      <th>M</th>\n",
       "      <td>15</td>\n",
       "      <td>2</td>\n",
       "      <td>1</td>\n",
       "      <td>8</td>\n",
       "      <td>15</td>\n",
       "      <td>2</td>\n",
       "      <td>touchpad</td>\n",
       "      <td>11</td>\n",
       "      <td>15</td>\n",
       "      <td>15</td>\n",
       "      <td>15</td>\n",
       "      <td>1</td>\n",
       "    </tr>\n",
       "  </tbody>\n",
       "</table>\n",
       "</div>"
      ],
      "text/plain": [
       "    Disability                  Pref                       Subject             \\\n",
       "         count unique top freq count unique       top freq   count unique top   \n",
       "Sex                                                                             \n",
       "F           15      2   0   11    15      2  touchpad   10      15     15  30   \n",
       "M           15      2   1    8    15      2  touchpad   11      15     15  15   \n",
       "\n",
       "          \n",
       "    freq  \n",
       "Sex       \n",
       "F      1  \n",
       "M      1  "
      ]
     },
     "execution_count": 139,
     "metadata": {},
     "output_type": "execute_result"
    }
   ],
   "source": [
    "df.groupby(['Sex']).describe()"
   ]
  },
  {
   "cell_type": "code",
   "execution_count": 140,
   "metadata": {},
   "outputs": [
    {
     "data": {
      "text/html": [
       "<div>\n",
       "<style scoped>\n",
       "    .dataframe tbody tr th:only-of-type {\n",
       "        vertical-align: middle;\n",
       "    }\n",
       "\n",
       "    .dataframe tbody tr th {\n",
       "        vertical-align: top;\n",
       "    }\n",
       "\n",
       "    .dataframe thead tr th {\n",
       "        text-align: left;\n",
       "    }\n",
       "\n",
       "    .dataframe thead tr:last-of-type th {\n",
       "        text-align: right;\n",
       "    }\n",
       "</style>\n",
       "<table border=\"1\" class=\"dataframe\">\n",
       "  <thead>\n",
       "    <tr>\n",
       "      <th></th>\n",
       "      <th colspan=\"4\" halign=\"left\">Pref</th>\n",
       "      <th colspan=\"4\" halign=\"left\">Sex</th>\n",
       "      <th colspan=\"4\" halign=\"left\">Subject</th>\n",
       "    </tr>\n",
       "    <tr>\n",
       "      <th></th>\n",
       "      <th>count</th>\n",
       "      <th>unique</th>\n",
       "      <th>top</th>\n",
       "      <th>freq</th>\n",
       "      <th>count</th>\n",
       "      <th>unique</th>\n",
       "      <th>top</th>\n",
       "      <th>freq</th>\n",
       "      <th>count</th>\n",
       "      <th>unique</th>\n",
       "      <th>top</th>\n",
       "      <th>freq</th>\n",
       "    </tr>\n",
       "    <tr>\n",
       "      <th>Disability</th>\n",
       "      <th></th>\n",
       "      <th></th>\n",
       "      <th></th>\n",
       "      <th></th>\n",
       "      <th></th>\n",
       "      <th></th>\n",
       "      <th></th>\n",
       "      <th></th>\n",
       "      <th></th>\n",
       "      <th></th>\n",
       "      <th></th>\n",
       "      <th></th>\n",
       "    </tr>\n",
       "  </thead>\n",
       "  <tbody>\n",
       "    <tr>\n",
       "      <th>0</th>\n",
       "      <td>18</td>\n",
       "      <td>2</td>\n",
       "      <td>touchpad</td>\n",
       "      <td>16</td>\n",
       "      <td>18</td>\n",
       "      <td>2</td>\n",
       "      <td>F</td>\n",
       "      <td>11</td>\n",
       "      <td>18</td>\n",
       "      <td>18</td>\n",
       "      <td>15</td>\n",
       "      <td>1</td>\n",
       "    </tr>\n",
       "    <tr>\n",
       "      <th>1</th>\n",
       "      <td>12</td>\n",
       "      <td>2</td>\n",
       "      <td>trackball</td>\n",
       "      <td>7</td>\n",
       "      <td>12</td>\n",
       "      <td>2</td>\n",
       "      <td>M</td>\n",
       "      <td>8</td>\n",
       "      <td>12</td>\n",
       "      <td>12</td>\n",
       "      <td>30</td>\n",
       "      <td>1</td>\n",
       "    </tr>\n",
       "  </tbody>\n",
       "</table>\n",
       "</div>"
      ],
      "text/plain": [
       "            Pref                          Sex                 Subject         \\\n",
       "           count unique        top freq count unique top freq   count unique   \n",
       "Disability                                                                     \n",
       "0             18      2   touchpad   16    18      2   F   11      18     18   \n",
       "1             12      2  trackball    7    12      2   M    8      12     12   \n",
       "\n",
       "                     \n",
       "           top freq  \n",
       "Disability           \n",
       "0           15    1  \n",
       "1           30    1  "
      ]
     },
     "execution_count": 140,
     "metadata": {},
     "output_type": "execute_result"
    }
   ],
   "source": [
    "df.groupby(['Disability']).describe()"
   ]
  },
  {
   "cell_type": "markdown",
   "metadata": {},
   "source": [
    "Determine how many subjects took part in this experiment?"
   ]
  },
  {
   "cell_type": "code",
   "execution_count": 141,
   "metadata": {},
   "outputs": [
    {
     "data": {
      "text/plain": [
       "30"
      ]
     },
     "execution_count": 141,
     "metadata": {},
     "output_type": "execute_result"
    }
   ],
   "source": [
    "df.Subject.nunique()"
   ]
  },
  {
   "cell_type": "code",
   "execution_count": 142,
   "metadata": {},
   "outputs": [
    {
     "data": {
      "text/html": [
       "<div>\n",
       "<style scoped>\n",
       "    .dataframe tbody tr th:only-of-type {\n",
       "        vertical-align: middle;\n",
       "    }\n",
       "\n",
       "    .dataframe tbody tr th {\n",
       "        vertical-align: top;\n",
       "    }\n",
       "\n",
       "    .dataframe thead tr th {\n",
       "        text-align: left;\n",
       "    }\n",
       "\n",
       "    .dataframe thead tr:last-of-type th {\n",
       "        text-align: right;\n",
       "    }\n",
       "</style>\n",
       "<table border=\"1\" class=\"dataframe\">\n",
       "  <thead>\n",
       "    <tr>\n",
       "      <th></th>\n",
       "      <th></th>\n",
       "      <th colspan=\"4\" halign=\"left\">Pref</th>\n",
       "      <th colspan=\"4\" halign=\"left\">Subject</th>\n",
       "    </tr>\n",
       "    <tr>\n",
       "      <th></th>\n",
       "      <th></th>\n",
       "      <th>count</th>\n",
       "      <th>unique</th>\n",
       "      <th>top</th>\n",
       "      <th>freq</th>\n",
       "      <th>count</th>\n",
       "      <th>unique</th>\n",
       "      <th>top</th>\n",
       "      <th>freq</th>\n",
       "    </tr>\n",
       "    <tr>\n",
       "      <th>Sex</th>\n",
       "      <th>Disability</th>\n",
       "      <th></th>\n",
       "      <th></th>\n",
       "      <th></th>\n",
       "      <th></th>\n",
       "      <th></th>\n",
       "      <th></th>\n",
       "      <th></th>\n",
       "      <th></th>\n",
       "    </tr>\n",
       "  </thead>\n",
       "  <tbody>\n",
       "    <tr>\n",
       "      <th rowspan=\"2\" valign=\"top\">F</th>\n",
       "      <th>0</th>\n",
       "      <td>11</td>\n",
       "      <td>2</td>\n",
       "      <td>touchpad</td>\n",
       "      <td>9</td>\n",
       "      <td>11</td>\n",
       "      <td>11</td>\n",
       "      <td>12</td>\n",
       "      <td>1</td>\n",
       "    </tr>\n",
       "    <tr>\n",
       "      <th>1</th>\n",
       "      <td>4</td>\n",
       "      <td>2</td>\n",
       "      <td>trackball</td>\n",
       "      <td>3</td>\n",
       "      <td>4</td>\n",
       "      <td>4</td>\n",
       "      <td>30</td>\n",
       "      <td>1</td>\n",
       "    </tr>\n",
       "    <tr>\n",
       "      <th rowspan=\"2\" valign=\"top\">M</th>\n",
       "      <th>0</th>\n",
       "      <td>7</td>\n",
       "      <td>1</td>\n",
       "      <td>touchpad</td>\n",
       "      <td>7</td>\n",
       "      <td>7</td>\n",
       "      <td>7</td>\n",
       "      <td>15</td>\n",
       "      <td>1</td>\n",
       "    </tr>\n",
       "    <tr>\n",
       "      <th>1</th>\n",
       "      <td>8</td>\n",
       "      <td>2</td>\n",
       "      <td>trackball</td>\n",
       "      <td>4</td>\n",
       "      <td>8</td>\n",
       "      <td>8</td>\n",
       "      <td>1</td>\n",
       "      <td>1</td>\n",
       "    </tr>\n",
       "  </tbody>\n",
       "</table>\n",
       "</div>"
      ],
      "text/plain": [
       "                Pref                        Subject                \n",
       "               count unique        top freq   count unique top freq\n",
       "Sex Disability                                                     \n",
       "F   0             11      2   touchpad    9      11     11  12    1\n",
       "    1              4      2  trackball    3       4      4  30    1\n",
       "M   0              7      1   touchpad    7       7      7  15    1\n",
       "    1              8      2  trackball    4       8      8   1    1"
      ]
     },
     "execution_count": 142,
     "metadata": {},
     "output_type": "execute_result"
    }
   ],
   "source": [
    "df.groupby(['Sex', 'Disability']).describe()"
   ]
  },
  {
   "cell_type": "code",
   "execution_count": 143,
   "metadata": {},
   "outputs": [
    {
     "data": {
      "text/html": [
       "<div>\n",
       "<style scoped>\n",
       "    .dataframe tbody tr th:only-of-type {\n",
       "        vertical-align: middle;\n",
       "    }\n",
       "\n",
       "    .dataframe tbody tr th {\n",
       "        vertical-align: top;\n",
       "    }\n",
       "\n",
       "    .dataframe thead th {\n",
       "        text-align: right;\n",
       "    }\n",
       "</style>\n",
       "<table border=\"1\" class=\"dataframe\">\n",
       "  <thead>\n",
       "    <tr style=\"text-align: right;\">\n",
       "      <th></th>\n",
       "      <th>Sex</th>\n",
       "      <th>Disability</th>\n",
       "      <th>variable</th>\n",
       "      <th>value</th>\n",
       "    </tr>\n",
       "  </thead>\n",
       "  <tbody>\n",
       "    <tr>\n",
       "      <th>0</th>\n",
       "      <td>M</td>\n",
       "      <td>1</td>\n",
       "      <td>Pref</td>\n",
       "      <td>trackball</td>\n",
       "    </tr>\n",
       "    <tr>\n",
       "      <th>1</th>\n",
       "      <td>F</td>\n",
       "      <td>1</td>\n",
       "      <td>Pref</td>\n",
       "      <td>touchpad</td>\n",
       "    </tr>\n",
       "    <tr>\n",
       "      <th>2</th>\n",
       "      <td>M</td>\n",
       "      <td>0</td>\n",
       "      <td>Pref</td>\n",
       "      <td>touchpad</td>\n",
       "    </tr>\n",
       "    <tr>\n",
       "      <th>3</th>\n",
       "      <td>F</td>\n",
       "      <td>0</td>\n",
       "      <td>Pref</td>\n",
       "      <td>trackball</td>\n",
       "    </tr>\n",
       "    <tr>\n",
       "      <th>4</th>\n",
       "      <td>M</td>\n",
       "      <td>1</td>\n",
       "      <td>Pref</td>\n",
       "      <td>touchpad</td>\n",
       "    </tr>\n",
       "    <tr>\n",
       "      <th>5</th>\n",
       "      <td>F</td>\n",
       "      <td>0</td>\n",
       "      <td>Pref</td>\n",
       "      <td>touchpad</td>\n",
       "    </tr>\n",
       "    <tr>\n",
       "      <th>6</th>\n",
       "      <td>M</td>\n",
       "      <td>0</td>\n",
       "      <td>Pref</td>\n",
       "      <td>touchpad</td>\n",
       "    </tr>\n",
       "    <tr>\n",
       "      <th>7</th>\n",
       "      <td>F</td>\n",
       "      <td>0</td>\n",
       "      <td>Pref</td>\n",
       "      <td>touchpad</td>\n",
       "    </tr>\n",
       "    <tr>\n",
       "      <th>8</th>\n",
       "      <td>M</td>\n",
       "      <td>1</td>\n",
       "      <td>Pref</td>\n",
       "      <td>trackball</td>\n",
       "    </tr>\n",
       "    <tr>\n",
       "      <th>9</th>\n",
       "      <td>F</td>\n",
       "      <td>1</td>\n",
       "      <td>Pref</td>\n",
       "      <td>trackball</td>\n",
       "    </tr>\n",
       "    <tr>\n",
       "      <th>10</th>\n",
       "      <td>M</td>\n",
       "      <td>0</td>\n",
       "      <td>Pref</td>\n",
       "      <td>touchpad</td>\n",
       "    </tr>\n",
       "    <tr>\n",
       "      <th>11</th>\n",
       "      <td>F</td>\n",
       "      <td>0</td>\n",
       "      <td>Pref</td>\n",
       "      <td>touchpad</td>\n",
       "    </tr>\n",
       "    <tr>\n",
       "      <th>12</th>\n",
       "      <td>M</td>\n",
       "      <td>1</td>\n",
       "      <td>Pref</td>\n",
       "      <td>touchpad</td>\n",
       "    </tr>\n",
       "    <tr>\n",
       "      <th>13</th>\n",
       "      <td>F</td>\n",
       "      <td>0</td>\n",
       "      <td>Pref</td>\n",
       "      <td>touchpad</td>\n",
       "    </tr>\n",
       "    <tr>\n",
       "      <th>14</th>\n",
       "      <td>M</td>\n",
       "      <td>0</td>\n",
       "      <td>Pref</td>\n",
       "      <td>touchpad</td>\n",
       "    </tr>\n",
       "    <tr>\n",
       "      <th>15</th>\n",
       "      <td>F</td>\n",
       "      <td>0</td>\n",
       "      <td>Pref</td>\n",
       "      <td>touchpad</td>\n",
       "    </tr>\n",
       "    <tr>\n",
       "      <th>16</th>\n",
       "      <td>M</td>\n",
       "      <td>1</td>\n",
       "      <td>Pref</td>\n",
       "      <td>trackball</td>\n",
       "    </tr>\n",
       "    <tr>\n",
       "      <th>17</th>\n",
       "      <td>F</td>\n",
       "      <td>1</td>\n",
       "      <td>Pref</td>\n",
       "      <td>trackball</td>\n",
       "    </tr>\n",
       "    <tr>\n",
       "      <th>18</th>\n",
       "      <td>M</td>\n",
       "      <td>0</td>\n",
       "      <td>Pref</td>\n",
       "      <td>touchpad</td>\n",
       "    </tr>\n",
       "    <tr>\n",
       "      <th>19</th>\n",
       "      <td>F</td>\n",
       "      <td>0</td>\n",
       "      <td>Pref</td>\n",
       "      <td>touchpad</td>\n",
       "    </tr>\n",
       "    <tr>\n",
       "      <th>20</th>\n",
       "      <td>M</td>\n",
       "      <td>0</td>\n",
       "      <td>Pref</td>\n",
       "      <td>touchpad</td>\n",
       "    </tr>\n",
       "    <tr>\n",
       "      <th>21</th>\n",
       "      <td>F</td>\n",
       "      <td>0</td>\n",
       "      <td>Pref</td>\n",
       "      <td>trackball</td>\n",
       "    </tr>\n",
       "    <tr>\n",
       "      <th>22</th>\n",
       "      <td>M</td>\n",
       "      <td>1</td>\n",
       "      <td>Pref</td>\n",
       "      <td>trackball</td>\n",
       "    </tr>\n",
       "    <tr>\n",
       "      <th>23</th>\n",
       "      <td>F</td>\n",
       "      <td>0</td>\n",
       "      <td>Pref</td>\n",
       "      <td>touchpad</td>\n",
       "    </tr>\n",
       "    <tr>\n",
       "      <th>24</th>\n",
       "      <td>M</td>\n",
       "      <td>0</td>\n",
       "      <td>Pref</td>\n",
       "      <td>touchpad</td>\n",
       "    </tr>\n",
       "    <tr>\n",
       "      <th>25</th>\n",
       "      <td>F</td>\n",
       "      <td>0</td>\n",
       "      <td>Pref</td>\n",
       "      <td>touchpad</td>\n",
       "    </tr>\n",
       "    <tr>\n",
       "      <th>26</th>\n",
       "      <td>M</td>\n",
       "      <td>1</td>\n",
       "      <td>Pref</td>\n",
       "      <td>touchpad</td>\n",
       "    </tr>\n",
       "    <tr>\n",
       "      <th>27</th>\n",
       "      <td>F</td>\n",
       "      <td>0</td>\n",
       "      <td>Pref</td>\n",
       "      <td>touchpad</td>\n",
       "    </tr>\n",
       "    <tr>\n",
       "      <th>28</th>\n",
       "      <td>M</td>\n",
       "      <td>1</td>\n",
       "      <td>Pref</td>\n",
       "      <td>touchpad</td>\n",
       "    </tr>\n",
       "    <tr>\n",
       "      <th>29</th>\n",
       "      <td>F</td>\n",
       "      <td>1</td>\n",
       "      <td>Pref</td>\n",
       "      <td>trackball</td>\n",
       "    </tr>\n",
       "  </tbody>\n",
       "</table>\n",
       "</div>"
      ],
      "text/plain": [
       "   Sex  Disability variable      value\n",
       "0    M           1     Pref  trackball\n",
       "1    F           1     Pref   touchpad\n",
       "2    M           0     Pref   touchpad\n",
       "3    F           0     Pref  trackball\n",
       "4    M           1     Pref   touchpad\n",
       "5    F           0     Pref   touchpad\n",
       "6    M           0     Pref   touchpad\n",
       "7    F           0     Pref   touchpad\n",
       "8    M           1     Pref  trackball\n",
       "9    F           1     Pref  trackball\n",
       "10   M           0     Pref   touchpad\n",
       "11   F           0     Pref   touchpad\n",
       "12   M           1     Pref   touchpad\n",
       "13   F           0     Pref   touchpad\n",
       "14   M           0     Pref   touchpad\n",
       "15   F           0     Pref   touchpad\n",
       "16   M           1     Pref  trackball\n",
       "17   F           1     Pref  trackball\n",
       "18   M           0     Pref   touchpad\n",
       "19   F           0     Pref   touchpad\n",
       "20   M           0     Pref   touchpad\n",
       "21   F           0     Pref  trackball\n",
       "22   M           1     Pref  trackball\n",
       "23   F           0     Pref   touchpad\n",
       "24   M           0     Pref   touchpad\n",
       "25   F           0     Pref   touchpad\n",
       "26   M           1     Pref   touchpad\n",
       "27   F           0     Pref   touchpad\n",
       "28   M           1     Pref   touchpad\n",
       "29   F           1     Pref  trackball"
      ]
     },
     "execution_count": 143,
     "metadata": {},
     "output_type": "execute_result"
    }
   ],
   "source": [
    "df2 = df.melt(['Sex', 'Disability'], 'Pref')\n",
    "df2"
   ]
  },
  {
   "cell_type": "code",
   "execution_count": 144,
   "metadata": {},
   "outputs": [
    {
     "data": {
      "image/png": "[encoded data removed]",
      "text/plain": [
       "<matplotlib.figure.Figure at 0x110585610>"
      ]
     },
     "metadata": {},
     "output_type": "display_data"
    },
    {
     "data": {
      "text/plain": [
       "<ggplot: (285605405)>"
      ]
     },
     "execution_count": 144,
     "metadata": {},
     "output_type": "execute_result"
    }
   ],
   "source": [
    "(\n",
    "    ggplot(df, aes(x='Sex', y='Pref')) +\n",
    "    geom_bar(stat='identity') + \n",
    "    facet_wrap('~ Disability + Sex')\n",
    ")"
   ]
  },
  {
   "cell_type": "code",
   "execution_count": 145,
   "metadata": {
    "scrolled": true
   },
   "outputs": [
    {
     "data": {
      "image/png": "[encoded data removed]",
      "text/plain": [
       "<matplotlib.figure.Figure at 0x10fe85910>"
      ]
     },
     "metadata": {},
     "output_type": "display_data"
    },
    {
     "data": {
      "text/plain": [
       "<ggplot: (285573369)>"
      ]
     },
     "execution_count": 145,
     "metadata": {},
     "output_type": "execute_result"
    }
   ],
   "source": [
    "(\n",
    "    ggplot(df, aes(x='Disability', y='Pref')) +\n",
    "    geom_bar(stat='identity')\n",
    ")"
   ]
  },
  {
   "cell_type": "code",
   "execution_count": 146,
   "metadata": {
    "collapsed": true
   },
   "outputs": [],
   "source": [
    "#model = glm('Pref ~ Disability*Sex', data=df, family=\"binomial\", contrasts=ro.vectors.ListVector(['Sex=\"contr.total\"', 'Disability=\"contr.sum\"']))\n",
    "model = glm('Pref ~ Disability*Sex', data=df, family=\"binomial\", contrasts='list(Sex=\"contr.sum\", Disability=\"contr.sum\")')"
   ]
  },
  {
   "cell_type": "code",
   "execution_count": 147,
   "metadata": {},
   "outputs": [
    {
     "name": "stdout",
     "output_type": "stream",
     "text": [
      "Analysis of Deviance Table (Type III tests)\n",
      "\n",
      "Response: Pref\n",
      "               LR Chisq Df Pr(>Chisq)  \n",
      "Disability       4.1657  1    0.04125 *\n",
      "Sex              2.1269  1    0.14473  \n",
      "Disability:Sex   0.6964  1    0.40400  \n",
      "---\n",
      "Signif. codes:  0 ‘***’ 0.001 ‘**’ 0.01 ‘*’ 0.05 ‘.’ 0.1 ‘ ’ 1\n",
      "\n"
     ]
    }
   ],
   "source": [
    "print(car.Anova(model, type=3))"
   ]
  },
  {
   "cell_type": "code",
   "execution_count": 148,
   "metadata": {},
   "outputs": [
    {
     "name": "stdout",
     "output_type": "stream",
     "text": [
      "# weights:  5 (4 variable)\n",
      "initial  value 20.794415 \n",
      "iter  10 value 13.022010\n",
      "iter  20 value 13.010305\n",
      "final  value 13.010300 \n",
      "converged\n"
     ]
    }
   ],
   "source": [
    "model = multinom('Pref ~ Sex*Disability', data=df, contrasts='list(Sex=\"contr.sum\", Disability=\"contr.sum\")')"
   ]
  },
  {
   "cell_type": "code",
   "execution_count": 149,
   "metadata": {},
   "outputs": [
    {
     "name": "stdout",
     "output_type": "stream",
     "text": [
      "Analysis of Deviance Table (Type III tests)\n",
      "\n",
      "Response: Pref\n",
      "               LR Chisq Df Pr(>Chisq)  \n",
      "Sex              2.1264  1    0.14478  \n",
      "Disability       4.1662  1    0.04124 *\n",
      "Sex:Disability   0.6959  1    0.40417  \n",
      "---\n",
      "Signif. codes:  0 ‘***’ 0.001 ‘**’ 0.01 ‘*’ 0.05 ‘.’ 0.1 ‘ ’ 1\n",
      "\n"
     ]
    }
   ],
   "source": [
    "print(car.Anova(model, type=3))"
   ]
  },
  {
   "cell_type": "code",
   "execution_count": 176,
   "metadata": {},
   "outputs": [
    {
     "name": "stdout",
     "output_type": "stream",
     "text": [
      "M 0 7 18\n",
      "   Subject Disability Sex      Pref\n",
      "2        3          0   M  touchpad\n",
      "6        7          0   M  touchpad\n",
      "10      11          0   M  touchpad\n",
      "14      15          0   M  touchpad\n",
      "18      19          0   M  touchpad\n",
      "20      21          0   M  touchpad\n",
      "24      25          0   M  touchpad\n",
      "F 0 9 18\n",
      "   Subject Disability Sex       Pref\n",
      "3        4          0   F  trackball\n",
      "5        6          0   F   touchpad\n",
      "7        8          0   F   touchpad\n",
      "11      12          0   F   touchpad\n",
      "13      14          0   F   touchpad\n",
      "15      16          0   F   touchpad\n",
      "19      20          0   F   touchpad\n",
      "21      22          0   F  trackball\n",
      "23      24          0   F   touchpad\n",
      "25      26          0   F   touchpad\n",
      "27      28          0   F   touchpad\n",
      "M 1 4 12\n",
      "   Subject Disability Sex       Pref\n",
      "0        1          1   M  trackball\n",
      "4        5          1   M   touchpad\n",
      "8        9          1   M  trackball\n",
      "12      13          1   M   touchpad\n",
      "16      17          1   M  trackball\n",
      "22      23          1   M  trackball\n",
      "26      27          1   M   touchpad\n",
      "28      29          1   M   touchpad\n",
      "F 1 1 12\n",
      "   Subject Disability Sex       Pref\n",
      "1        2          1   F   touchpad\n",
      "9       10          1   F  trackball\n",
      "17      18          1   F  trackball\n",
      "29      30          1   F  trackball\n",
      "[<FloatVector - Python:0x10bc44638 / R:0x7faa28b81e38>\n",
      "[0.480682], <FloatVector - Python:0x10fe5cea8 / R:0x7faa23d623d8>\n",
      "[1.000000], <FloatVector - Python:0x10fe594d0 / R:0x7faa28b84188>\n",
      "[0.387695], <FloatVector - Python:0x1105bbfc8 / R:0x7faa28b78038>\n",
      "[0.006348]]\n",
      "[1] 1.00000000 1.00000000 1.00000000 0.02539063\n",
      "\n",
      "0.025390625\n"
     ]
    }
   ],
   "source": [
    "groups1 = df.sort_values('Subject').groupby(['Disability'])\n",
    "pvals = [None]*4\n",
    "i = 0\n",
    "for g1 in groups1.groups:\n",
    "    group1 = groups1.get_group(g1)\n",
    "    groups2 = group1.sort_values('Subject').groupby(['Sex'])\n",
    "    for g2 in groups2.groups:\n",
    "        group2 = groups2.get_group(g2)\n",
    "        print group2.Sex.values[0], group2.Disability.values[0],(sum(group2.Pref == 'touchpad')), group1.Subject.size\n",
    "        print group2\n",
    "        pvals[i] = sm.stats.proportion.binom_test(sum((group2.Pref == 'touchpad')), group1.Subject.size, prop=1./2.)\n",
    "        pvals[i] = binom_test(sum((group2.Pref == 'touchpad')), group1.Subject.size, 1./2.)[2]\n",
    "        i = i + 1\n",
    "pvals_corrected = p_adjust(pvals, method='holm')\n",
    "print pvals\n",
    "print pvals_corrected\n",
    "print min(pvals_corrected)      "
   ]
  },
  {
   "cell_type": "code",
   "execution_count": 114,
   "metadata": {},
   "outputs": [
    {
     "data": {
      "text/html": [
       "<div>\n",
       "<style scoped>\n",
       "    .dataframe tbody tr th:only-of-type {\n",
       "        vertical-align: middle;\n",
       "    }\n",
       "\n",
       "    .dataframe tbody tr th {\n",
       "        vertical-align: top;\n",
       "    }\n",
       "\n",
       "    .dataframe thead th {\n",
       "        text-align: right;\n",
       "    }\n",
       "</style>\n",
       "<table border=\"1\" class=\"dataframe\">\n",
       "  <thead>\n",
       "    <tr style=\"text-align: right;\">\n",
       "      <th></th>\n",
       "      <th>Subject</th>\n",
       "      <th>Recognizer</th>\n",
       "      <th>Hand</th>\n",
       "      <th>Errors</th>\n",
       "    </tr>\n",
       "  </thead>\n",
       "  <tbody>\n",
       "    <tr>\n",
       "      <th>0</th>\n",
       "      <td>1</td>\n",
       "      <td>A</td>\n",
       "      <td>Right</td>\n",
       "      <td>9</td>\n",
       "    </tr>\n",
       "    <tr>\n",
       "      <th>1</th>\n",
       "      <td>2</td>\n",
       "      <td>B</td>\n",
       "      <td>Left</td>\n",
       "      <td>8</td>\n",
       "    </tr>\n",
       "    <tr>\n",
       "      <th>2</th>\n",
       "      <td>3</td>\n",
       "      <td>C</td>\n",
       "      <td>Right</td>\n",
       "      <td>2</td>\n",
       "    </tr>\n",
       "    <tr>\n",
       "      <th>3</th>\n",
       "      <td>4</td>\n",
       "      <td>A</td>\n",
       "      <td>Left</td>\n",
       "      <td>3</td>\n",
       "    </tr>\n",
       "    <tr>\n",
       "      <th>4</th>\n",
       "      <td>5</td>\n",
       "      <td>B</td>\n",
       "      <td>Right</td>\n",
       "      <td>3</td>\n",
       "    </tr>\n",
       "  </tbody>\n",
       "</table>\n",
       "</div>"
      ],
      "text/plain": [
       "  Subject Recognizer   Hand  Errors\n",
       "0       1          A  Right       9\n",
       "1       2          B   Left       8\n",
       "2       3          C  Right       2\n",
       "3       4          A   Left       3\n",
       "4       5          B  Right       3"
      ]
     },
     "execution_count": 114,
     "metadata": {},
     "output_type": "execute_result"
    }
   ],
   "source": [
    "df = pd.read_csv(\"hwreco.csv\")\n",
    "df.Subject = df.Subject.astype('category')\n",
    "df.Recognizer = df.Recognizer.astype('category')\n",
    "df.Hand = df.Hand.astype('category')\n",
    "df.Errors = df.Errors.astype('int')\n",
    "df.head()"
   ]
  },
  {
   "cell_type": "code",
   "execution_count": 115,
   "metadata": {},
   "outputs": [
    {
     "data": {
      "text/plain": [
       "50"
      ]
     },
     "execution_count": 115,
     "metadata": {},
     "output_type": "execute_result"
    }
   ],
   "source": [
    "df.Subject.nunique()"
   ]
  },
  {
   "cell_type": "code",
   "execution_count": 116,
   "metadata": {},
   "outputs": [
    {
     "data": {
      "image/png": "[encoded data removed]",
      "text/plain": [
       "<matplotlib.figure.Figure at 0x110030750>"
      ]
     },
     "metadata": {},
     "output_type": "display_data"
    },
    {
     "data": {
      "text/plain": [
       "<ggplot: (285431445)>"
      ]
     },
     "execution_count": 116,
     "metadata": {},
     "output_type": "execute_result"
    }
   ],
   "source": [
    "groups = df.groupby(['Recognizer', 'Hand']).mean().reset_index()\n",
    "\n",
    "(\n",
    "    ggplot(groups) +\n",
    "    aes(x='Recognizer', y='Errors', group = 'Hand', color='Hand') +\n",
    "    geom_line() +\n",
    "    geom_point()\n",
    ")"
   ]
  },
  {
   "cell_type": "code",
   "execution_count": 117,
   "metadata": {},
   "outputs": [
    {
     "name": "stdout",
     "output_type": "stream",
     "text": [
      "Group: A\n",
      "Chi-squared statistic:  1.807852 \n",
      "Degree of freedom of the Chi-squared distribution:  2 \n",
      "Chi-squared p-value:  0.4049767 \n",
      "   the p-value may be wrong with some theoretical counts < 5  \n",
      "Chi-squared table:\n",
      "     obscounts theocounts\n",
      "<= 2  4.000000   3.627277\n",
      "<= 3  5.000000   3.168895\n",
      "<= 5  4.000000   6.072436\n",
      "> 5   4.000000   4.131392\n",
      "\n",
      "Goodness-of-fit criteria\n",
      "                               1-mle-pois\n",
      "Akaike's Information Criterion   75.86792\n",
      "Bayesian Information Criterion   76.70113\n",
      "\n",
      "Group: C\n",
      "Chi-squared statistic:  0.3521272 \n",
      "Degree of freedom of the Chi-squared distribution:  2 \n",
      "Chi-squared p-value:  0.8385647 \n",
      "   the p-value may be wrong with some theoretical counts < 5  \n",
      "Chi-squared table:\n",
      "     obscounts theocounts\n",
      "<= 2  5.000000   4.600874\n",
      "<= 3  4.000000   3.347372\n",
      "<= 4  3.000000   3.085858\n",
      "> 4   4.000000   4.965897\n",
      "\n",
      "Goodness-of-fit criteria\n",
      "                               1-mle-pois\n",
      "Akaike's Information Criterion   70.89042\n",
      "Bayesian Information Criterion   71.66301\n",
      "\n",
      "Group: B\n",
      "Chi-squared statistic:  0.9192556 \n",
      "Degree of freedom of the Chi-squared distribution:  2 \n",
      "Chi-squared p-value:  0.6315187 \n",
      "   the p-value may be wrong with some theoretical counts < 5  \n",
      "Chi-squared table:\n",
      "     obscounts theocounts\n",
      "<= 3  5.000000   3.970124\n",
      "<= 5  4.000000   5.800601\n",
      "<= 6  3.000000   2.588830\n",
      "> 6   5.000000   4.640445\n",
      "\n",
      "Goodness-of-fit criteria\n",
      "                               1-mle-pois\n",
      "Akaike's Information Criterion   78.75600\n",
      "Bayesian Information Criterion   79.58921\n",
      "\n"
     ]
    }
   ],
   "source": [
    "groups = df.sort_values('Subject').groupby(['Recognizer'])\n",
    "pvals = [None]*3\n",
    "i = 0\n",
    "for g in groups.groups:\n",
    "    group = groups.get_group(g)\n",
    "    fit = fitdist(ro.IntVector(group.Errors), 'pois', discrete=True)\n",
    "    print 'Group: ' + group.Recognizer.values[0]\n",
    "    print gofstat(fit)\n",
    "    i = i + 1"
   ]
  },
  {
   "cell_type": "code",
   "execution_count": 118,
   "metadata": {},
   "outputs": [],
   "source": [
    "model = glm('Errors ~ Recognizer*Hand', data=df, contrasts=\"sum\", family='poisson')"
   ]
  },
  {
   "cell_type": "code",
   "execution_count": 119,
   "metadata": {},
   "outputs": [
    {
     "name": "stdout",
     "output_type": "stream",
     "text": [
      "Analysis of Deviance Table (Type III tests)\n",
      "\n",
      "Response: Errors\n",
      "                LR Chisq Df Pr(>Chisq)    \n",
      "Recognizer        15.476  2  0.0004359 ***\n",
      "Hand              10.597  1  0.0011329 ** \n",
      "Recognizer:Hand   12.968  2  0.0015276 ** \n",
      "---\n",
      "Signif. codes:  0 ‘***’ 0.001 ‘**’ 0.01 ‘*’ 0.05 ‘.’ 0.1 ‘ ’ 1\n",
      "\n"
     ]
    }
   ],
   "source": [
    "print Anova(model, type=3)"
   ]
  },
  {
   "cell_type": "code",
   "execution_count": 135,
   "metadata": {},
   "outputs": [
    {
     "name": "stderr",
     "output_type": "stream",
     "text": [
      "/usr/local/lib/python2.7/site-packages/rpy2/robjects/functions.py:106: UserWarning: Error in emmeans(\"pairwise ~ Recognizer*Hand\", object = <S4 object of class \"emmGrid\">) : \n",
      "  No variable named pairwise ~ Recognizer*Hand in the reference grid\n",
      "\n",
      "  res = super(Function, self).__call__(*new_args, **new_kwargs)\n"
     ]
    },
    {
     "ename": "RRuntimeError",
     "evalue": "Error in emmeans(\"pairwise ~ Recognizer*Hand\", object = <S4 object of class \"emmGrid\">) : \n  No variable named pairwise ~ Recognizer*Hand in the reference grid\n",
     "output_type": "error",
     "traceback": [
      "\u001b[0;31m---------------------------------------------------------------------------\u001b[0m",
      "\u001b[0;31mRRuntimeError\u001b[0m                             Traceback (most recent call last)",
      "\u001b[0;32m<ipython-input-135-e5fc4505e429>\u001b[0m in \u001b[0;36m<module>\u001b[0;34m()\u001b[0m\n\u001b[0;32m----> 1\u001b[0;31m \u001b[0msummary\u001b[0m\u001b[0;34m(\u001b[0m\u001b[0mglht\u001b[0m\u001b[0;34m(\u001b[0m\u001b[0mmodel\u001b[0m\u001b[0;34m,\u001b[0m \u001b[0mlsm\u001b[0m\u001b[0;34m(\u001b[0m\u001b[0;34m'pairwise ~ Recognizer*Hand'\u001b[0m\u001b[0;34m)\u001b[0m\u001b[0;34m)\u001b[0m\u001b[0;34m,\u001b[0m \u001b[0mtest\u001b[0m\u001b[0;34m=\u001b[0m\u001b[0madjusted\u001b[0m\u001b[0;34m(\u001b[0m\u001b[0mtype\u001b[0m\u001b[0;34m=\u001b[0m\u001b[0;34m\"none\"\u001b[0m\u001b[0;34m)\u001b[0m\u001b[0;34m)\u001b[0m\u001b[0;34m\u001b[0m\u001b[0m\n\u001b[0m",
      "\u001b[0;32m/usr/local/lib/python2.7/site-packages/rpy2/robjects/functions.pyc\u001b[0m in \u001b[0;36m__call__\u001b[0;34m(self, *args, **kwargs)\u001b[0m\n\u001b[1;32m    176\u001b[0m                 \u001b[0mv\u001b[0m \u001b[0;34m=\u001b[0m \u001b[0mkwargs\u001b[0m\u001b[0;34m.\u001b[0m\u001b[0mpop\u001b[0m\u001b[0;34m(\u001b[0m\u001b[0mk\u001b[0m\u001b[0;34m)\u001b[0m\u001b[0;34m\u001b[0m\u001b[0m\n\u001b[1;32m    177\u001b[0m                 \u001b[0mkwargs\u001b[0m\u001b[0;34m[\u001b[0m\u001b[0mr_k\u001b[0m\u001b[0;34m]\u001b[0m \u001b[0;34m=\u001b[0m \u001b[0mv\u001b[0m\u001b[0;34m\u001b[0m\u001b[0m\n\u001b[0;32m--> 178\u001b[0;31m         \u001b[0;32mreturn\u001b[0m \u001b[0msuper\u001b[0m\u001b[0;34m(\u001b[0m\u001b[0mSignatureTranslatedFunction\u001b[0m\u001b[0;34m,\u001b[0m \u001b[0mself\u001b[0m\u001b[0;34m)\u001b[0m\u001b[0;34m.\u001b[0m\u001b[0m__call__\u001b[0m\u001b[0;34m(\u001b[0m\u001b[0;34m*\u001b[0m\u001b[0margs\u001b[0m\u001b[0;34m,\u001b[0m \u001b[0;34m**\u001b[0m\u001b[0mkwargs\u001b[0m\u001b[0;34m)\u001b[0m\u001b[0;34m\u001b[0m\u001b[0m\n\u001b[0m\u001b[1;32m    179\u001b[0m \u001b[0;34m\u001b[0m\u001b[0m\n\u001b[1;32m    180\u001b[0m \u001b[0mpattern_link\u001b[0m \u001b[0;34m=\u001b[0m \u001b[0mre\u001b[0m\u001b[0;34m.\u001b[0m\u001b[0mcompile\u001b[0m\u001b[0;34m(\u001b[0m\u001b[0;34mr'\\\\link\\{(.+?)\\}'\u001b[0m\u001b[0;34m)\u001b[0m\u001b[0;34m\u001b[0m\u001b[0m\n",
      "\u001b[0;32m/usr/local/lib/python2.7/site-packages/rpy2/robjects/functions.pyc\u001b[0m in \u001b[0;36m__call__\u001b[0;34m(self, *args, **kwargs)\u001b[0m\n\u001b[1;32m    104\u001b[0m         \u001b[0;32mfor\u001b[0m \u001b[0mk\u001b[0m\u001b[0;34m,\u001b[0m \u001b[0mv\u001b[0m \u001b[0;32min\u001b[0m \u001b[0mkwargs\u001b[0m\u001b[0;34m.\u001b[0m\u001b[0mitems\u001b[0m\u001b[0;34m(\u001b[0m\u001b[0;34m)\u001b[0m\u001b[0;34m:\u001b[0m\u001b[0;34m\u001b[0m\u001b[0m\n\u001b[1;32m    105\u001b[0m             \u001b[0mnew_kwargs\u001b[0m\u001b[0;34m[\u001b[0m\u001b[0mk\u001b[0m\u001b[0;34m]\u001b[0m \u001b[0;34m=\u001b[0m \u001b[0mconversion\u001b[0m\u001b[0;34m.\u001b[0m\u001b[0mpy2ri\u001b[0m\u001b[0;34m(\u001b[0m\u001b[0mv\u001b[0m\u001b[0;34m)\u001b[0m\u001b[0;34m\u001b[0m\u001b[0m\n\u001b[0;32m--> 106\u001b[0;31m         \u001b[0mres\u001b[0m \u001b[0;34m=\u001b[0m \u001b[0msuper\u001b[0m\u001b[0;34m(\u001b[0m\u001b[0mFunction\u001b[0m\u001b[0;34m,\u001b[0m \u001b[0mself\u001b[0m\u001b[0;34m)\u001b[0m\u001b[0;34m.\u001b[0m\u001b[0m__call__\u001b[0m\u001b[0;34m(\u001b[0m\u001b[0;34m*\u001b[0m\u001b[0mnew_args\u001b[0m\u001b[0;34m,\u001b[0m \u001b[0;34m**\u001b[0m\u001b[0mnew_kwargs\u001b[0m\u001b[0;34m)\u001b[0m\u001b[0;34m\u001b[0m\u001b[0m\n\u001b[0m\u001b[1;32m    107\u001b[0m         \u001b[0mres\u001b[0m \u001b[0;34m=\u001b[0m \u001b[0mconversion\u001b[0m\u001b[0;34m.\u001b[0m\u001b[0mri2ro\u001b[0m\u001b[0;34m(\u001b[0m\u001b[0mres\u001b[0m\u001b[0;34m)\u001b[0m\u001b[0;34m\u001b[0m\u001b[0m\n\u001b[1;32m    108\u001b[0m         \u001b[0;32mreturn\u001b[0m \u001b[0mres\u001b[0m\u001b[0;34m\u001b[0m\u001b[0m\n",
      "\u001b[0;31mRRuntimeError\u001b[0m: Error in emmeans(\"pairwise ~ Recognizer*Hand\", object = <S4 object of class \"emmGrid\">) : \n  No variable named pairwise ~ Recognizer*Hand in the reference grid\n"
     ]
    }
   ],
   "source": [
    "summary(glht(model, lsm('pairwise ~ Recognizer*Hand')), test=adjusted(type=\"none\"))"
   ]
  },
  {
   "cell_type": "markdown",
   "metadata": {},
   "source": [
    "R code that evaluates the correct result:\n",
    "```\n",
    "df = read.csv(\"hwreco.csv\")\n",
    "df$Recognizer <- factor(df$Recognizer)\n",
    "df$Hand <- factor(df$Hand)\n",
    "\n",
    "contrasts(df$Recognizer) <- contr.sum\n",
    "contrasts(df$Hand) <- contr.sum\n",
    "\n",
    "model = glm(Errors ~ Recognizer * Hand, data=df, family=poisson)\n",
    "\n",
    "Anova(model, type=3)\n",
    "\n",
    "summary(glht(model, lsm(pairwise ~ Recognizer * Hand)), test=adjusted(type=\"none\"))\n",
    "p.adjust(c(0.001925, 0.095955, 0.243171), method=\"holm\")\n",
    "```"
   ]
  },
  {
   "cell_type": "code",
   "execution_count": 85,
   "metadata": {},
   "outputs": [
    {
     "data": {
      "image/png": "[encoded data removed]",
      "text/plain": [
       "<matplotlib.figure.Figure at 0x1193cde10>"
      ]
     },
     "metadata": {},
     "output_type": "display_data"
    },
    {
     "data": {
      "text/plain": [
       "<ggplot: (294902605)>"
      ]
     },
     "execution_count": 85,
     "metadata": {},
     "output_type": "execute_result"
    }
   ],
   "source": [
    "(\n",
    "    ggplot(df, aes(x='Recognizer', y='Errors')) +\n",
    "    geom_boxplot()\n",
    ")"
   ]
  },
  {
   "cell_type": "code",
   "execution_count": 86,
   "metadata": {},
   "outputs": [
    {
     "data": {
      "image/png": "[encoded data removed]",
      "text/plain": [
       "<matplotlib.figure.Figure at 0x11943ae50>"
      ]
     },
     "metadata": {},
     "output_type": "display_data"
    },
    {
     "data": {
      "text/plain": [
       "<ggplot: (295060169)>"
      ]
     },
     "execution_count": 86,
     "metadata": {},
     "output_type": "execute_result"
    }
   ],
   "source": [
    "(\n",
    "    ggplot(df, aes(x='Hand', y='Errors')) +\n",
    "    geom_boxplot()\n",
    ")"
   ]
  },
  {
   "cell_type": "code",
   "execution_count": 111,
   "metadata": {},
   "outputs": [
    {
     "name": "stdout",
     "output_type": "stream",
     "text": [
      "Analysis of Deviance Table (Type III tests)\n",
      "\n",
      "Response: Errors\n",
      "                LR Chisq Df Pr(>Chisq)    \n",
      "Hand              10.597  1  0.0011329 ** \n",
      "Recognizer        15.476  2  0.0004359 ***\n",
      "Hand:Recognizer   12.968  2  0.0015276 ** \n",
      "---\n",
      "Signif. codes:  0 ‘***’ 0.001 ‘**’ 0.01 ‘*’ 0.05 ‘.’ 0.1 ‘ ’ 1\n",
      "\n"
     ]
    }
   ],
   "source": [
    "print Anova(model, type=3)"
   ]
  },
  {
   "cell_type": "code",
   "execution_count": 129,
   "metadata": {},
   "outputs": [
    {
     "name": "stdout",
     "output_type": "stream",
     "text": [
      "Recognizer: A\n",
      "\n",
      "\t General Linear Hypotheses\n",
      "\n",
      "Multiple Comparisons of Means: Tukey Contrasts\n",
      "\n",
      "\n",
      "Linear Hypotheses:\n",
      "                  Estimate\n",
      "Right - Left == 0   0.8183\n",
      "\n",
      "\n",
      "Recognizer: C\n",
      "\n",
      "\t General Linear Hypotheses\n",
      "\n",
      "Multiple Comparisons of Means: Tukey Contrasts\n",
      "\n",
      "\n",
      "Linear Hypotheses:\n",
      "                  Estimate\n",
      "Right - Left == 0   0.3075\n",
      "\n",
      "\n",
      "Recognizer: B\n",
      "\n",
      "\t General Linear Hypotheses\n",
      "\n",
      "Multiple Comparisons of Means: Tukey Contrasts\n",
      "\n",
      "\n",
      "Linear Hypotheses:\n",
      "                  Estimate\n",
      "Right - Left == 0  -0.3632\n",
      "\n",
      "\n",
      "[<FloatVector - Python:0x1199a3488 / R:0x7fdbbec46c38>\n",
      "[0.001133], <FloatVector - Python:0x11918d7a0 / R:0x7fdbbde15328>\n",
      "[0.240398], <FloatVector - Python:0x119b8cf38 / R:0x7fdbbf5f5098>\n",
      "[0.092108]]\n",
      "[1] 0.00339871 0.24039846 0.18421615\n",
      "\n",
      "0.00339871029302\n"
     ]
    }
   ],
   "source": [
    "groups = df.sort_values('Subject').groupby(['Recognizer'])\n",
    "i = 0\n",
    "pvals = [None]*3\n",
    "for g in groups.groups:\n",
    "    group = groups.get_group(g)\n",
    "    model = glm('Errors ~ Hand', data=group, contrasts=\"sum\", family='poisson')\n",
    "    print 'Recognizer: ' + group.Recognizer.values[0]\n",
    "    print glht(model, linfct=mcp(Hand = \"Tukey\"))\n",
    "    a = Anova(model, type=3)\n",
    "    pvals[i] = a[2]\n",
    "    i = i + 1\n",
    "    \n",
    "pvals_corrected = p_adjust(pvals, method='holm')\n",
    "print pvals\n",
    "print pvals_corrected\n",
    "print min(pvals_corrected)"
   ]
  },
  {
   "cell_type": "code",
   "execution_count": 110,
   "metadata": {},
   "outputs": [
    {
     "name": "stdout",
     "output_type": "stream",
     "text": [
      "\n",
      "\t General Linear Hypotheses\n",
      "\n",
      "Multiple Comparisons of Means: Tukey Contrasts\n",
      "\n",
      "\n",
      "Linear Hypotheses:\n",
      "           Estimate\n",
      "B - A == 0   0.8938\n",
      "C - A == 0   0.2231\n",
      "C - B == 0  -0.6707\n",
      "\n",
      "\n",
      "\n",
      "\t General Linear Hypotheses\n",
      "\n",
      "Multiple Comparisons of Means: Tukey Contrasts\n",
      "\n",
      "\n",
      "Linear Hypotheses:\n",
      "           Estimate\n",
      "B - A == 0   0.8938\n",
      "C - A == 0   0.2231\n",
      "C - B == 0  -0.6707\n",
      "\n",
      "\n"
     ]
    }
   ],
   "source": [
    "print(glht(model, mcp(Recognizer = \"Tukey\"), test=adjusted(type=\"holm\")))"
   ]
  },
  {
   "cell_type": "code",
   "execution_count": 6,
   "metadata": {},
   "outputs": [
    {
     "name": "stderr",
     "output_type": "stream",
     "text": [
      "/usr/local/Cellar/ipython@5/5.5.0_1/libexec/vendor/lib/python2.7/site-packages/ipykernel_launcher.py:5: FutureWarning: specifying 'categories' or 'ordered' in .astype() is deprecated; pass a CategoricalDtype instead\n",
      "  \"\"\"\n"
     ]
    },
    {
     "data": {
      "text/html": [
       "<div>\n",
       "<style scoped>\n",
       "    .dataframe tbody tr th:only-of-type {\n",
       "        vertical-align: middle;\n",
       "    }\n",
       "\n",
       "    .dataframe tbody tr th {\n",
       "        vertical-align: top;\n",
       "    }\n",
       "\n",
       "    .dataframe thead th {\n",
       "        text-align: right;\n",
       "    }\n",
       "</style>\n",
       "<table border=\"1\" class=\"dataframe\">\n",
       "  <thead>\n",
       "    <tr style=\"text-align: right;\">\n",
       "      <th></th>\n",
       "      <th>Subject</th>\n",
       "      <th>Website</th>\n",
       "      <th>International</th>\n",
       "      <th>Ease</th>\n",
       "      <th>EaseAsInt</th>\n",
       "    </tr>\n",
       "  </thead>\n",
       "  <tbody>\n",
       "    <tr>\n",
       "      <th>0</th>\n",
       "      <td>1</td>\n",
       "      <td>Expedia</td>\n",
       "      <td>1</td>\n",
       "      <td>4</td>\n",
       "      <td>4</td>\n",
       "    </tr>\n",
       "    <tr>\n",
       "      <th>1</th>\n",
       "      <td>2</td>\n",
       "      <td>Orbitz</td>\n",
       "      <td>1</td>\n",
       "      <td>3</td>\n",
       "      <td>3</td>\n",
       "    </tr>\n",
       "    <tr>\n",
       "      <th>2</th>\n",
       "      <td>3</td>\n",
       "      <td>Priceline</td>\n",
       "      <td>1</td>\n",
       "      <td>5</td>\n",
       "      <td>5</td>\n",
       "    </tr>\n",
       "    <tr>\n",
       "      <th>3</th>\n",
       "      <td>4</td>\n",
       "      <td>Expedia</td>\n",
       "      <td>0</td>\n",
       "      <td>1</td>\n",
       "      <td>1</td>\n",
       "    </tr>\n",
       "    <tr>\n",
       "      <th>4</th>\n",
       "      <td>5</td>\n",
       "      <td>Orbitz</td>\n",
       "      <td>0</td>\n",
       "      <td>7</td>\n",
       "      <td>7</td>\n",
       "    </tr>\n",
       "  </tbody>\n",
       "</table>\n",
       "</div>"
      ],
      "text/plain": [
       "  Subject    Website International Ease  EaseAsInt\n",
       "0       1    Expedia             1    4          4\n",
       "1       2     Orbitz             1    3          3\n",
       "2       3  Priceline             1    5          5\n",
       "3       4    Expedia             0    1          1\n",
       "4       5     Orbitz             0    7          7"
      ]
     },
     "execution_count": 6,
     "metadata": {},
     "output_type": "execute_result"
    }
   ],
   "source": [
    "df = pd.read_csv(\"bookflights.csv\")\n",
    "df.Subject = df.Subject.astype('category')\n",
    "df.Website = df.Website.astype('category')\n",
    "df.International = df.International.astype('category')\n",
    "df.Ease = df.Ease.astype('category', ordered=True)\n",
    "df['EaseAsInt'] = df.Ease.astype('int')\n",
    "df.head()"
   ]
  },
  {
   "cell_type": "code",
   "execution_count": 7,
   "metadata": {},
   "outputs": [
    {
     "data": {
      "text/plain": [
       "600"
      ]
     },
     "execution_count": 7,
     "metadata": {},
     "output_type": "execute_result"
    }
   ],
   "source": [
    "df.Subject.nunique()"
   ]
  },
  {
   "cell_type": "code",
   "execution_count": 8,
   "metadata": {},
   "outputs": [
    {
     "data": {
      "image/png": "[encoded data removed]",
      "text/plain": [
       "<matplotlib.figure.Figure at 0x10bc81c10>"
      ]
     },
     "metadata": {},
     "output_type": "display_data"
    },
    {
     "data": {
      "text/plain": [
       "<ggplot: (283577529)>"
      ]
     },
     "execution_count": 8,
     "metadata": {},
     "output_type": "execute_result"
    }
   ],
   "source": [
    "groups = df.groupby(['Website', 'International']).mean().reset_index()\n",
    "\n",
    "(\n",
    "    ggplot(groups) +\n",
    "    aes(x='Website', y='EaseAsInt', group = 'International', color='International') +\n",
    "    geom_line() +\n",
    "    geom_point()\n",
    ")"
   ]
  },
  {
   "cell_type": "code",
   "execution_count": 54,
   "metadata": {
    "collapsed": true
   },
   "outputs": [],
   "source": [
    "#model = polr('Ease ~ C(Website, contr.sum)*C(International, contr.sum)', data=df, Hess=True)\n",
    "model = polr('Ease ~ Website*International', data=df, Hess=True)"
   ]
  },
  {
   "cell_type": "code",
   "execution_count": 55,
   "metadata": {},
   "outputs": [
    {
     "name": "stdout",
     "output_type": "stream",
     "text": [
      "Analysis of Deviance Table (Type III tests)\n",
      "\n",
      "Response: Ease\n",
      "                      LR Chisq Df Pr(>Chisq)    \n",
      "Website                 69.981  2  6.366e-16 ***\n",
      "International           41.982  1  9.210e-11 ***\n",
      "Website:International   90.590  2  < 2.2e-16 ***\n",
      "---\n",
      "Signif. codes:  0 ‘***’ 0.001 ‘**’ 0.01 ‘*’ 0.05 ‘.’ 0.1 ‘ ’ 1\n",
      "\n"
     ]
    }
   ],
   "source": [
    "print Anova(model, type=3)"
   ]
  },
  {
   "cell_type": "code",
   "execution_count": 94,
   "metadata": {
    "scrolled": true
   },
   "outputs": [
    {
     "ename": "RRuntimeError",
     "evalue": "Error in emmfcn(...) : \n  No variable named pairwise ~ Website*International in the reference grid\n",
     "output_type": "error",
     "traceback": [
      "\u001b[0;31m---------------------------------------------------------------------------\u001b[0m",
      "\u001b[0;31mRRuntimeError\u001b[0m                             Traceback (most recent call last)",
      "\u001b[0;32m<ipython-input-94-bc362fb42952>\u001b[0m in \u001b[0;36m<module>\u001b[0;34m()\u001b[0m\n\u001b[0;32m----> 1\u001b[0;31m \u001b[0mlsmeans\u001b[0m\u001b[0;34m(\u001b[0m\u001b[0mmodel\u001b[0m\u001b[0;34m,\u001b[0m \u001b[0;34m'pairwise ~ Website*International'\u001b[0m\u001b[0;34m,\u001b[0m \u001b[0mdata\u001b[0m\u001b[0;34m=\u001b[0m\u001b[0mdf\u001b[0m\u001b[0;34m,\u001b[0m \u001b[0mtest\u001b[0m\u001b[0;34m=\u001b[0m\u001b[0madjusted\u001b[0m\u001b[0;34m(\u001b[0m\u001b[0mtype\u001b[0m\u001b[0;34m=\u001b[0m\u001b[0;34m\"none\"\u001b[0m\u001b[0;34m)\u001b[0m\u001b[0;34m)\u001b[0m\u001b[0;34m\u001b[0m\u001b[0m\n\u001b[0m\u001b[1;32m      2\u001b[0m \u001b[0;31m#p_adjust([1.44e-10, 1.35e-12, 0.474476], method=\"holm\")\u001b[0m\u001b[0;34m\u001b[0m\u001b[0;34m\u001b[0m\u001b[0m\n",
      "\u001b[0;32m/usr/local/lib/python2.7/site-packages/rpy2/robjects/functions.pyc\u001b[0m in \u001b[0;36m__call__\u001b[0;34m(self, *args, **kwargs)\u001b[0m\n\u001b[1;32m    176\u001b[0m                 \u001b[0mv\u001b[0m \u001b[0;34m=\u001b[0m \u001b[0mkwargs\u001b[0m\u001b[0;34m.\u001b[0m\u001b[0mpop\u001b[0m\u001b[0;34m(\u001b[0m\u001b[0mk\u001b[0m\u001b[0;34m)\u001b[0m\u001b[0;34m\u001b[0m\u001b[0m\n\u001b[1;32m    177\u001b[0m                 \u001b[0mkwargs\u001b[0m\u001b[0;34m[\u001b[0m\u001b[0mr_k\u001b[0m\u001b[0;34m]\u001b[0m \u001b[0;34m=\u001b[0m \u001b[0mv\u001b[0m\u001b[0;34m\u001b[0m\u001b[0m\n\u001b[0;32m--> 178\u001b[0;31m         \u001b[0;32mreturn\u001b[0m \u001b[0msuper\u001b[0m\u001b[0;34m(\u001b[0m\u001b[0mSignatureTranslatedFunction\u001b[0m\u001b[0;34m,\u001b[0m \u001b[0mself\u001b[0m\u001b[0;34m)\u001b[0m\u001b[0;34m.\u001b[0m\u001b[0m__call__\u001b[0m\u001b[0;34m(\u001b[0m\u001b[0;34m*\u001b[0m\u001b[0margs\u001b[0m\u001b[0;34m,\u001b[0m \u001b[0;34m**\u001b[0m\u001b[0mkwargs\u001b[0m\u001b[0;34m)\u001b[0m\u001b[0;34m\u001b[0m\u001b[0m\n\u001b[0m\u001b[1;32m    179\u001b[0m \u001b[0;34m\u001b[0m\u001b[0m\n\u001b[1;32m    180\u001b[0m \u001b[0mpattern_link\u001b[0m \u001b[0;34m=\u001b[0m \u001b[0mre\u001b[0m\u001b[0;34m.\u001b[0m\u001b[0mcompile\u001b[0m\u001b[0;34m(\u001b[0m\u001b[0;34mr'\\\\link\\{(.+?)\\}'\u001b[0m\u001b[0;34m)\u001b[0m\u001b[0;34m\u001b[0m\u001b[0m\n",
      "\u001b[0;32m/usr/local/lib/python2.7/site-packages/rpy2/robjects/functions.pyc\u001b[0m in \u001b[0;36m__call__\u001b[0;34m(self, *args, **kwargs)\u001b[0m\n\u001b[1;32m    104\u001b[0m         \u001b[0;32mfor\u001b[0m \u001b[0mk\u001b[0m\u001b[0;34m,\u001b[0m \u001b[0mv\u001b[0m \u001b[0;32min\u001b[0m \u001b[0mkwargs\u001b[0m\u001b[0;34m.\u001b[0m\u001b[0mitems\u001b[0m\u001b[0;34m(\u001b[0m\u001b[0;34m)\u001b[0m\u001b[0;34m:\u001b[0m\u001b[0;34m\u001b[0m\u001b[0m\n\u001b[1;32m    105\u001b[0m             \u001b[0mnew_kwargs\u001b[0m\u001b[0;34m[\u001b[0m\u001b[0mk\u001b[0m\u001b[0;34m]\u001b[0m \u001b[0;34m=\u001b[0m \u001b[0mconversion\u001b[0m\u001b[0;34m.\u001b[0m\u001b[0mpy2ri\u001b[0m\u001b[0;34m(\u001b[0m\u001b[0mv\u001b[0m\u001b[0;34m)\u001b[0m\u001b[0;34m\u001b[0m\u001b[0m\n\u001b[0;32m--> 106\u001b[0;31m         \u001b[0mres\u001b[0m \u001b[0;34m=\u001b[0m \u001b[0msuper\u001b[0m\u001b[0;34m(\u001b[0m\u001b[0mFunction\u001b[0m\u001b[0;34m,\u001b[0m \u001b[0mself\u001b[0m\u001b[0;34m)\u001b[0m\u001b[0;34m.\u001b[0m\u001b[0m__call__\u001b[0m\u001b[0;34m(\u001b[0m\u001b[0;34m*\u001b[0m\u001b[0mnew_args\u001b[0m\u001b[0;34m,\u001b[0m \u001b[0;34m**\u001b[0m\u001b[0mnew_kwargs\u001b[0m\u001b[0;34m)\u001b[0m\u001b[0;34m\u001b[0m\u001b[0m\n\u001b[0m\u001b[1;32m    107\u001b[0m         \u001b[0mres\u001b[0m \u001b[0;34m=\u001b[0m \u001b[0mconversion\u001b[0m\u001b[0;34m.\u001b[0m\u001b[0mri2ro\u001b[0m\u001b[0;34m(\u001b[0m\u001b[0mres\u001b[0m\u001b[0;34m)\u001b[0m\u001b[0;34m\u001b[0m\u001b[0m\n\u001b[1;32m    108\u001b[0m         \u001b[0;32mreturn\u001b[0m \u001b[0mres\u001b[0m\u001b[0;34m\u001b[0m\u001b[0m\n",
      "\u001b[0;31mRRuntimeError\u001b[0m: Error in emmfcn(...) : \n  No variable named pairwise ~ Website*International in the reference grid\n"
     ]
    }
   ],
   "source": [
    "lsmeans(model, 'pairwise ~ Website*International', data=df, test=adjusted(type=\"none\"))\n",
    "#p_adjust([1.44e-10, 1.35e-12, 0.474476], method=\"holm\")"
   ]
  },
  {
   "cell_type": "markdown",
   "metadata": {},
   "source": [
    "R code that evaluates the correct result:\n",
    "```\n",
    "library(car)\n",
    "library(lsmeans)\n",
    "library(MASS)\n",
    "library(multcomp)\n",
    "\n",
    "setwd(\"~/Documents/repos/roland-hochmuth/designexperiments\")\n",
    "df = read.csv(\"bookflights.csv\")\n",
    "\n",
    "df$International <- factor(df$International)\n",
    "df$Website <- factor(df$Website)\n",
    "df$Ease <- ordered(df$Ease)\n",
    "\n",
    "contrasts(df$Website) <- contr.sum\n",
    "contrasts(df$International) <- contr.sum\n",
    "\n",
    "model = polr('Ease ~ Website*International', data=df, Hess=TRUE)\n",
    "\n",
    "Anova(model, type=3)\n",
    "\n",
    "summary(as.glht(pairs(lsmeans(model, pairwise ~ Website * International, data=df))), test=adjusted(type=\"none\"))\n",
    "\n",
    "p.adjust(c(1.44e-10, 1.35e-12, 0.474476), method=\"holm\")\n",
    "```"
   ]
  },
  {
   "cell_type": "code",
   "execution_count": null,
   "metadata": {
    "collapsed": true
   },
   "outputs": [],
   "source": [
    "#model = sm.api.GLM.from_formula('Pref ~ I(Sex)*I(Disability)', data=df, family=sm.api.families.Binomial()).fit()\n",
    "model = sm.formula.api.ols('Pref ~ C(Sex, contrast.sum)*C(Disability)', data=df).fit()\n",
    "sm.stats.anova.anova_lm(model, typ=3)\n",
    "print(model.summary())"
   ]
  },
  {
   "cell_type": "code",
   "execution_count": null,
   "metadata": {
    "collapsed": true
   },
   "outputs": [],
   "source": [
    "model.pvalues"
   ]
  },
  {
   "cell_type": "code",
   "execution_count": null,
   "metadata": {
    "collapsed": true
   },
   "outputs": [],
   "source": [
    "model = sm.api.MNLogit.from_formula('Pref ~ C(Sex)*C(Disability)', data=df).fit()\n",
    "sm.stats.anova.anova3_lm_single=(model, typ=2)\n",
    "print(model.summary())"
   ]
  },
  {
   "cell_type": "code",
   "execution_count": null,
   "metadata": {
    "collapsed": true
   },
   "outputs": [],
   "source": [
    "model.pvalues"
   ]
  },
  {
   "cell_type": "markdown",
   "metadata": {},
   "source": [
    "## Answers\n",
    "\n",
    "1. 30\n",
    "2. 0.4040\n",
    "3. 0.4040\n",
    "4. 0.0254\n",
    "5. 50\n",
    "6. 2\n",
    "7. 0.4050\n",
    "8. 0.0015\n",
    "9. 0.0058\n",
    "10.\n",
    "    The handwriting error counts seemed to be Poisson-distributed.\n",
    "    There was a significant Recognizer * Hand interaction.\n",
    "    For recognizer \"A\", there were significantly more errors for right-handed writers than left-handed writers.\n",
    "11. 600\n",
    "12. 1\n",
    "13. 0.0332\n",
    "14. 0.4745\n",
    "15.\n",
    "    There was a significant main effect of Website on Ease\n",
    "    There was a significant Website * International interaction.\n",
    "    Expedia was perceived as significantly easier for booking international flights than domestic flights.\n",
    "    Orbitz was perceived as significantly easier for booking domestic flights than international flights."
   ]
  },
  {
   "cell_type": "markdown",
   "metadata": {},
   "source": [
    "# References\n",
    "\n",
    "* [Interactions and ANOVA](http://www.statsmodels.org/dev/examples/notebooks/generated/interactions_anova.html)\n",
    "* https://biologyforfun.wordpress.com/2015/01/13/using-and-interpreting-different-contrasts-in-linear-models-in-r/\n",
    "* http://pythonhosted.org/mord/"
   ]
  },
  {
   "cell_type": "code",
   "execution_count": null,
   "metadata": {
    "collapsed": true
   },
   "outputs": [],
   "source": []
  }
 ],
 "metadata": {
  "kernelspec": {
   "display_name": "Python 2",
   "language": "python",
   "name": "python2"
  },
  "language_info": {
   "codemirror_mode": {
    "name": "ipython",
    "version": 2
   },
   "file_extension": ".py",
   "mimetype": "text/x-python",
   "name": "python",
   "nbconvert_exporter": "python",
   "pygments_lexer": "ipython2",
   "version": "2.7.14"
  }
 },
 "nbformat": 4,
 "nbformat_minor": 2
}
